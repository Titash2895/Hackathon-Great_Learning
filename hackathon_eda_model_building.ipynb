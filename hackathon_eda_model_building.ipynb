{
 "cells": [
  {
   "cell_type": "code",
   "execution_count": 183,
   "metadata": {},
   "outputs": [],
   "source": [
    "## Importing the libraries\n",
    "import seaborn as sns\n",
    "import pandas as pd\n",
    "import numpy as np\n",
    "from sklearn.linear_model import LinearRegression\n",
    "from sklearn.feature_selection import RFE"
   ]
  },
  {
   "cell_type": "code",
   "execution_count": 184,
   "metadata": {},
   "outputs": [],
   "source": [
    "import warnings\n",
    "warnings.filterwarnings('ignore')\n",
    "\n",
    "pd.set_option('display.max_columns', 100)\n",
    "pd.set_option('display.max_rows', 100)"
   ]
  },
  {
   "cell_type": "code",
   "execution_count": 185,
   "metadata": {
    "scrolled": false
   },
   "outputs": [
    {
     "data": {
      "text/html": [
       "<div>\n",
       "<style scoped>\n",
       "    .dataframe tbody tr th:only-of-type {\n",
       "        vertical-align: middle;\n",
       "    }\n",
       "\n",
       "    .dataframe tbody tr th {\n",
       "        vertical-align: top;\n",
       "    }\n",
       "\n",
       "    .dataframe thead th {\n",
       "        text-align: right;\n",
       "    }\n",
       "</style>\n",
       "<table border=\"1\" class=\"dataframe\">\n",
       "  <thead>\n",
       "    <tr style=\"text-align: right;\">\n",
       "      <th></th>\n",
       "      <th>Registration Number</th>\n",
       "      <th>Annual Turnover</th>\n",
       "      <th>Cuisine</th>\n",
       "      <th>City</th>\n",
       "      <th>Restaurant Location</th>\n",
       "      <th>Opening Day of Restaurant</th>\n",
       "      <th>Facebook Popularity Quotient</th>\n",
       "      <th>Endorsed By</th>\n",
       "      <th>Instagram Popularity Quotient</th>\n",
       "      <th>Fire Audit</th>\n",
       "      <th>Liquor License Obtained</th>\n",
       "      <th>Situated in a Multi Complex</th>\n",
       "      <th>Dedicated Parking</th>\n",
       "      <th>Open Sitting Available</th>\n",
       "      <th>Resturant Tier</th>\n",
       "      <th>Restaurant Type</th>\n",
       "      <th>Restaurant Theme</th>\n",
       "      <th>Restaurant Zomato Rating</th>\n",
       "      <th>Restaurant City Tier</th>\n",
       "      <th>Order Wait Time</th>\n",
       "      <th>Staff Responsivness</th>\n",
       "      <th>Value for Money</th>\n",
       "      <th>Hygiene Rating</th>\n",
       "      <th>Food Rating</th>\n",
       "      <th>Overall Restaurant Rating</th>\n",
       "      <th>Live Music Rating</th>\n",
       "      <th>Comedy Gigs Rating</th>\n",
       "      <th>Value Deals Rating</th>\n",
       "      <th>Live Sports Rating</th>\n",
       "      <th>Ambience</th>\n",
       "      <th>Lively</th>\n",
       "      <th>Service</th>\n",
       "      <th>Comfortablility</th>\n",
       "      <th>Privacy</th>\n",
       "    </tr>\n",
       "  </thead>\n",
       "  <tbody>\n",
       "    <tr>\n",
       "      <th>0</th>\n",
       "      <td>60001</td>\n",
       "      <td>42000000</td>\n",
       "      <td>indian,irish</td>\n",
       "      <td>Bangalore</td>\n",
       "      <td>Near Business Hub</td>\n",
       "      <td>14-02-2009</td>\n",
       "      <td>84.3</td>\n",
       "      <td>Not Specific</td>\n",
       "      <td>95.8</td>\n",
       "      <td>1</td>\n",
       "      <td>1</td>\n",
       "      <td>1</td>\n",
       "      <td>0</td>\n",
       "      <td>1</td>\n",
       "      <td>2.0</td>\n",
       "      <td>Bar</td>\n",
       "      <td>Arabian</td>\n",
       "      <td>3</td>\n",
       "      <td>0</td>\n",
       "      <td>2</td>\n",
       "      <td>5</td>\n",
       "      <td>5</td>\n",
       "      <td>5</td>\n",
       "      <td>7</td>\n",
       "      <td>10.0</td>\n",
       "      <td>4.0</td>\n",
       "      <td>NaN</td>\n",
       "      <td>NaN</td>\n",
       "      <td>NaN</td>\n",
       "      <td>8.0</td>\n",
       "      <td>8</td>\n",
       "      <td>6</td>\n",
       "      <td>6</td>\n",
       "      <td>6</td>\n",
       "    </tr>\n",
       "    <tr>\n",
       "      <th>1</th>\n",
       "      <td>60002</td>\n",
       "      <td>50000000</td>\n",
       "      <td>indian,irish</td>\n",
       "      <td>Indore</td>\n",
       "      <td>Near Party Hub</td>\n",
       "      <td>29-09-2008</td>\n",
       "      <td>85.4</td>\n",
       "      <td>Tier A Celebrity</td>\n",
       "      <td>85.0</td>\n",
       "      <td>1</td>\n",
       "      <td>1</td>\n",
       "      <td>1</td>\n",
       "      <td>1</td>\n",
       "      <td>0</td>\n",
       "      <td>2.0</td>\n",
       "      <td>Bar</td>\n",
       "      <td>Greek</td>\n",
       "      <td>3</td>\n",
       "      <td>0</td>\n",
       "      <td>6</td>\n",
       "      <td>6</td>\n",
       "      <td>6</td>\n",
       "      <td>7</td>\n",
       "      <td>8</td>\n",
       "      <td>9.0</td>\n",
       "      <td>NaN</td>\n",
       "      <td>4.0</td>\n",
       "      <td>NaN</td>\n",
       "      <td>NaN</td>\n",
       "      <td>5.0</td>\n",
       "      <td>7</td>\n",
       "      <td>7</td>\n",
       "      <td>3</td>\n",
       "      <td>8</td>\n",
       "    </tr>\n",
       "    <tr>\n",
       "      <th>2</th>\n",
       "      <td>60003</td>\n",
       "      <td>32500000</td>\n",
       "      <td>tibetan,italian</td>\n",
       "      <td>Chennai</td>\n",
       "      <td>Near Business Hub</td>\n",
       "      <td>30-07-2011</td>\n",
       "      <td>85.0</td>\n",
       "      <td>Tier A Celebrity</td>\n",
       "      <td>68.2</td>\n",
       "      <td>1</td>\n",
       "      <td>1</td>\n",
       "      <td>1</td>\n",
       "      <td>1</td>\n",
       "      <td>0</td>\n",
       "      <td>2.0</td>\n",
       "      <td>Bar</td>\n",
       "      <td>90's</td>\n",
       "      <td>3</td>\n",
       "      <td>0</td>\n",
       "      <td>2</td>\n",
       "      <td>6</td>\n",
       "      <td>5</td>\n",
       "      <td>3</td>\n",
       "      <td>7</td>\n",
       "      <td>8.0</td>\n",
       "      <td>3.0</td>\n",
       "      <td>NaN</td>\n",
       "      <td>NaN</td>\n",
       "      <td>NaN</td>\n",
       "      <td>7.0</td>\n",
       "      <td>10</td>\n",
       "      <td>5</td>\n",
       "      <td>2</td>\n",
       "      <td>8</td>\n",
       "    </tr>\n",
       "    <tr>\n",
       "      <th>3</th>\n",
       "      <td>60004</td>\n",
       "      <td>110000000</td>\n",
       "      <td>turkish,nigerian</td>\n",
       "      <td>Gurgaon</td>\n",
       "      <td>Near Party Hub</td>\n",
       "      <td>30-11-2008</td>\n",
       "      <td>85.6</td>\n",
       "      <td>Tier A Celebrity</td>\n",
       "      <td>83.6</td>\n",
       "      <td>0</td>\n",
       "      <td>1</td>\n",
       "      <td>1</td>\n",
       "      <td>1</td>\n",
       "      <td>1</td>\n",
       "      <td>1.0</td>\n",
       "      <td>Bar</td>\n",
       "      <td>Arabian</td>\n",
       "      <td>3</td>\n",
       "      <td>1</td>\n",
       "      <td>7</td>\n",
       "      <td>6</td>\n",
       "      <td>5</td>\n",
       "      <td>6</td>\n",
       "      <td>8</td>\n",
       "      <td>9.0</td>\n",
       "      <td>6.0</td>\n",
       "      <td>NaN</td>\n",
       "      <td>NaN</td>\n",
       "      <td>NaN</td>\n",
       "      <td>7.0</td>\n",
       "      <td>7</td>\n",
       "      <td>4</td>\n",
       "      <td>3</td>\n",
       "      <td>5</td>\n",
       "    </tr>\n",
       "    <tr>\n",
       "      <th>4</th>\n",
       "      <td>60005</td>\n",
       "      <td>20000000</td>\n",
       "      <td>irish,belgian</td>\n",
       "      <td>Manesar</td>\n",
       "      <td>Near Party Hub</td>\n",
       "      <td>22-02-2010</td>\n",
       "      <td>NaN</td>\n",
       "      <td>Tier A Celebrity</td>\n",
       "      <td>76.8</td>\n",
       "      <td>1</td>\n",
       "      <td>1</td>\n",
       "      <td>1</td>\n",
       "      <td>1</td>\n",
       "      <td>1</td>\n",
       "      <td>NaN</td>\n",
       "      <td>Bar</td>\n",
       "      <td>Greek</td>\n",
       "      <td>3</td>\n",
       "      <td>0</td>\n",
       "      <td>10</td>\n",
       "      <td>5</td>\n",
       "      <td>6</td>\n",
       "      <td>4</td>\n",
       "      <td>8</td>\n",
       "      <td>6.0</td>\n",
       "      <td>NaN</td>\n",
       "      <td>2.0</td>\n",
       "      <td>NaN</td>\n",
       "      <td>NaN</td>\n",
       "      <td>NaN</td>\n",
       "      <td>6</td>\n",
       "      <td>2</td>\n",
       "      <td>4</td>\n",
       "      <td>6</td>\n",
       "    </tr>\n",
       "  </tbody>\n",
       "</table>\n",
       "</div>"
      ],
      "text/plain": [
       "   Registration Number  Annual Turnover           Cuisine       City  \\\n",
       "0                60001         42000000      indian,irish  Bangalore   \n",
       "1                60002         50000000      indian,irish     Indore   \n",
       "2                60003         32500000   tibetan,italian    Chennai   \n",
       "3                60004        110000000  turkish,nigerian    Gurgaon   \n",
       "4                60005         20000000     irish,belgian    Manesar   \n",
       "\n",
       "  Restaurant Location Opening Day of Restaurant  Facebook Popularity Quotient  \\\n",
       "0   Near Business Hub                14-02-2009                          84.3   \n",
       "1      Near Party Hub                29-09-2008                          85.4   \n",
       "2   Near Business Hub                30-07-2011                          85.0   \n",
       "3      Near Party Hub                30-11-2008                          85.6   \n",
       "4      Near Party Hub                22-02-2010                           NaN   \n",
       "\n",
       "        Endorsed By  Instagram Popularity Quotient  Fire Audit  \\\n",
       "0      Not Specific                           95.8           1   \n",
       "1  Tier A Celebrity                           85.0           1   \n",
       "2  Tier A Celebrity                           68.2           1   \n",
       "3  Tier A Celebrity                           83.6           0   \n",
       "4  Tier A Celebrity                           76.8           1   \n",
       "\n",
       "   Liquor License Obtained  Situated in a Multi Complex  Dedicated Parking  \\\n",
       "0                        1                            1                  0   \n",
       "1                        1                            1                  1   \n",
       "2                        1                            1                  1   \n",
       "3                        1                            1                  1   \n",
       "4                        1                            1                  1   \n",
       "\n",
       "   Open Sitting Available  Resturant Tier Restaurant Type Restaurant Theme  \\\n",
       "0                       1             2.0             Bar          Arabian   \n",
       "1                       0             2.0             Bar            Greek   \n",
       "2                       0             2.0             Bar             90's   \n",
       "3                       1             1.0             Bar          Arabian   \n",
       "4                       1             NaN             Bar            Greek   \n",
       "\n",
       "   Restaurant Zomato Rating  Restaurant City Tier  Order Wait Time  \\\n",
       "0                         3                     0                2   \n",
       "1                         3                     0                6   \n",
       "2                         3                     0                2   \n",
       "3                         3                     1                7   \n",
       "4                         3                     0               10   \n",
       "\n",
       "   Staff Responsivness  Value for Money  Hygiene Rating  Food Rating  \\\n",
       "0                    5                5               5            7   \n",
       "1                    6                6               7            8   \n",
       "2                    6                5               3            7   \n",
       "3                    6                5               6            8   \n",
       "4                    5                6               4            8   \n",
       "\n",
       "   Overall Restaurant Rating  Live Music Rating  Comedy Gigs Rating  \\\n",
       "0                       10.0                4.0                 NaN   \n",
       "1                        9.0                NaN                 4.0   \n",
       "2                        8.0                3.0                 NaN   \n",
       "3                        9.0                6.0                 NaN   \n",
       "4                        6.0                NaN                 2.0   \n",
       "\n",
       "   Value Deals Rating  Live Sports Rating  Ambience  Lively  Service  \\\n",
       "0                 NaN                 NaN       8.0       8        6   \n",
       "1                 NaN                 NaN       5.0       7        7   \n",
       "2                 NaN                 NaN       7.0      10        5   \n",
       "3                 NaN                 NaN       7.0       7        4   \n",
       "4                 NaN                 NaN       NaN       6        2   \n",
       "\n",
       "   Comfortablility  Privacy  \n",
       "0                6        6  \n",
       "1                3        8  \n",
       "2                2        8  \n",
       "3                3        5  \n",
       "4                4        6  "
      ]
     },
     "execution_count": 185,
     "metadata": {},
     "output_type": "execute_result"
    }
   ],
   "source": [
    "df_train = pd.read_csv('Train_dataset.csv')\n",
    "df_train.head()"
   ]
  },
  {
   "cell_type": "code",
   "execution_count": 186,
   "metadata": {},
   "outputs": [
    {
     "data": {
      "text/plain": [
       "0"
      ]
     },
     "execution_count": 186,
     "metadata": {},
     "output_type": "execute_result"
    }
   ],
   "source": [
    "df_train['Endorsed By'].isna().sum()"
   ]
  },
  {
   "cell_type": "code",
   "execution_count": 187,
   "metadata": {},
   "outputs": [
    {
     "data": {
      "text/html": [
       "<div>\n",
       "<style scoped>\n",
       "    .dataframe tbody tr th:only-of-type {\n",
       "        vertical-align: middle;\n",
       "    }\n",
       "\n",
       "    .dataframe tbody tr th {\n",
       "        vertical-align: top;\n",
       "    }\n",
       "\n",
       "    .dataframe thead th {\n",
       "        text-align: right;\n",
       "    }\n",
       "</style>\n",
       "<table border=\"1\" class=\"dataframe\">\n",
       "  <thead>\n",
       "    <tr style=\"text-align: right;\">\n",
       "      <th></th>\n",
       "      <th>Registration Number</th>\n",
       "      <th>Annual Turnover</th>\n",
       "      <th>Cuisine</th>\n",
       "      <th>City</th>\n",
       "      <th>Restaurant Location</th>\n",
       "      <th>Opening Day of Restaurant</th>\n",
       "      <th>Facebook Popularity Quotient</th>\n",
       "      <th>Endorsed By</th>\n",
       "      <th>Instagram Popularity Quotient</th>\n",
       "      <th>Fire Audit</th>\n",
       "      <th>Liquor License Obtained</th>\n",
       "      <th>Situated in a Multi Complex</th>\n",
       "      <th>Dedicated Parking</th>\n",
       "      <th>Open Sitting Available</th>\n",
       "      <th>Resturant Tier</th>\n",
       "      <th>Restaurant Type</th>\n",
       "      <th>Restaurant Theme</th>\n",
       "      <th>Restaurant Zomato Rating</th>\n",
       "      <th>Restaurant City Tier</th>\n",
       "      <th>Order Wait Time</th>\n",
       "      <th>Staff Responsivness</th>\n",
       "      <th>Value for Money</th>\n",
       "      <th>Hygiene Rating</th>\n",
       "      <th>Food Rating</th>\n",
       "      <th>Overall Restaurant Rating</th>\n",
       "      <th>Live Music Rating</th>\n",
       "      <th>Comedy Gigs Rating</th>\n",
       "      <th>Value Deals Rating</th>\n",
       "      <th>Live Sports Rating</th>\n",
       "      <th>Ambience</th>\n",
       "      <th>Lively</th>\n",
       "      <th>Service</th>\n",
       "      <th>Comfortablility</th>\n",
       "      <th>Privacy</th>\n",
       "    </tr>\n",
       "  </thead>\n",
       "  <tbody>\n",
       "    <tr>\n",
       "      <th>0</th>\n",
       "      <td>20001</td>\n",
       "      <td>0</td>\n",
       "      <td>tibetan,italian</td>\n",
       "      <td>Bangalore</td>\n",
       "      <td>Near Business Hub</td>\n",
       "      <td>13-07-2010</td>\n",
       "      <td>78.00</td>\n",
       "      <td>Tier A Celebrity</td>\n",
       "      <td>69.00</td>\n",
       "      <td>1</td>\n",
       "      <td>1</td>\n",
       "      <td>1</td>\n",
       "      <td>1</td>\n",
       "      <td>0</td>\n",
       "      <td>2</td>\n",
       "      <td>Bar</td>\n",
       "      <td>Greek</td>\n",
       "      <td>3</td>\n",
       "      <td>0</td>\n",
       "      <td>10</td>\n",
       "      <td>5</td>\n",
       "      <td>3</td>\n",
       "      <td>5</td>\n",
       "      <td>8</td>\n",
       "      <td>6.0</td>\n",
       "      <td>NaN</td>\n",
       "      <td>2.0</td>\n",
       "      <td>NaN</td>\n",
       "      <td>NaN</td>\n",
       "      <td>5</td>\n",
       "      <td>2</td>\n",
       "      <td>2</td>\n",
       "      <td>6</td>\n",
       "      <td>0</td>\n",
       "    </tr>\n",
       "    <tr>\n",
       "      <th>1</th>\n",
       "      <td>20002</td>\n",
       "      <td>0</td>\n",
       "      <td>tibetan,italian</td>\n",
       "      <td>Hyderabad</td>\n",
       "      <td>Near Party Hub</td>\n",
       "      <td>05-09-2011</td>\n",
       "      <td>89.17</td>\n",
       "      <td>Not Specific</td>\n",
       "      <td>96.00</td>\n",
       "      <td>1</td>\n",
       "      <td>1</td>\n",
       "      <td>1</td>\n",
       "      <td>1</td>\n",
       "      <td>1</td>\n",
       "      <td>2</td>\n",
       "      <td>Bar</td>\n",
       "      <td>Nature</td>\n",
       "      <td>4</td>\n",
       "      <td>0</td>\n",
       "      <td>10</td>\n",
       "      <td>4</td>\n",
       "      <td>5</td>\n",
       "      <td>6</td>\n",
       "      <td>8</td>\n",
       "      <td>9.0</td>\n",
       "      <td>3.0</td>\n",
       "      <td>NaN</td>\n",
       "      <td>NaN</td>\n",
       "      <td>6.0</td>\n",
       "      <td>7</td>\n",
       "      <td>8</td>\n",
       "      <td>5</td>\n",
       "      <td>1</td>\n",
       "      <td>8</td>\n",
       "    </tr>\n",
       "    <tr>\n",
       "      <th>2</th>\n",
       "      <td>20003</td>\n",
       "      <td>0</td>\n",
       "      <td>algerian,belgian</td>\n",
       "      <td>Hyderabad</td>\n",
       "      <td>Near Party Hub</td>\n",
       "      <td>12-04-2011</td>\n",
       "      <td>84.00</td>\n",
       "      <td>Not Specific</td>\n",
       "      <td>86.00</td>\n",
       "      <td>1</td>\n",
       "      <td>1</td>\n",
       "      <td>1</td>\n",
       "      <td>0</td>\n",
       "      <td>1</td>\n",
       "      <td>2</td>\n",
       "      <td>Bar</td>\n",
       "      <td>Greek</td>\n",
       "      <td>2</td>\n",
       "      <td>0</td>\n",
       "      <td>6</td>\n",
       "      <td>5</td>\n",
       "      <td>5</td>\n",
       "      <td>6</td>\n",
       "      <td>9</td>\n",
       "      <td>6.0</td>\n",
       "      <td>3.0</td>\n",
       "      <td>NaN</td>\n",
       "      <td>NaN</td>\n",
       "      <td>NaN</td>\n",
       "      <td>9</td>\n",
       "      <td>7</td>\n",
       "      <td>5</td>\n",
       "      <td>1</td>\n",
       "      <td>5</td>\n",
       "    </tr>\n",
       "    <tr>\n",
       "      <th>3</th>\n",
       "      <td>20004</td>\n",
       "      <td>0</td>\n",
       "      <td>tibetan,greek</td>\n",
       "      <td>-1</td>\n",
       "      <td>Near Party Hub</td>\n",
       "      <td>16-01-2005</td>\n",
       "      <td>79.38</td>\n",
       "      <td>Not Specific</td>\n",
       "      <td>74.40</td>\n",
       "      <td>0</td>\n",
       "      <td>1</td>\n",
       "      <td>1</td>\n",
       "      <td>1</td>\n",
       "      <td>1</td>\n",
       "      <td>2</td>\n",
       "      <td>Gastro Bar</td>\n",
       "      <td>90's</td>\n",
       "      <td>3</td>\n",
       "      <td>0</td>\n",
       "      <td>10</td>\n",
       "      <td>5</td>\n",
       "      <td>5</td>\n",
       "      <td>5</td>\n",
       "      <td>9</td>\n",
       "      <td>9.0</td>\n",
       "      <td>6.0</td>\n",
       "      <td>NaN</td>\n",
       "      <td>NaN</td>\n",
       "      <td>NaN</td>\n",
       "      <td>6</td>\n",
       "      <td>7</td>\n",
       "      <td>6</td>\n",
       "      <td>4</td>\n",
       "      <td>7</td>\n",
       "    </tr>\n",
       "    <tr>\n",
       "      <th>4</th>\n",
       "      <td>20005</td>\n",
       "      <td>0</td>\n",
       "      <td>cuban,british</td>\n",
       "      <td>Pune</td>\n",
       "      <td>Near Party Hub</td>\n",
       "      <td>10-11-2008</td>\n",
       "      <td>84.67</td>\n",
       "      <td>Not Specific</td>\n",
       "      <td>86.46</td>\n",
       "      <td>1</td>\n",
       "      <td>1</td>\n",
       "      <td>1</td>\n",
       "      <td>0</td>\n",
       "      <td>0</td>\n",
       "      <td>1</td>\n",
       "      <td>Bar</td>\n",
       "      <td>Mise En</td>\n",
       "      <td>4</td>\n",
       "      <td>1</td>\n",
       "      <td>7</td>\n",
       "      <td>5</td>\n",
       "      <td>5</td>\n",
       "      <td>7</td>\n",
       "      <td>8</td>\n",
       "      <td>NaN</td>\n",
       "      <td>NaN</td>\n",
       "      <td>NaN</td>\n",
       "      <td>NaN</td>\n",
       "      <td>NaN</td>\n",
       "      <td>4</td>\n",
       "      <td>4</td>\n",
       "      <td>7</td>\n",
       "      <td>7</td>\n",
       "      <td>3</td>\n",
       "    </tr>\n",
       "  </tbody>\n",
       "</table>\n",
       "</div>"
      ],
      "text/plain": [
       "   Registration Number  Annual Turnover           Cuisine       City  \\\n",
       "0                20001                0   tibetan,italian  Bangalore   \n",
       "1                20002                0   tibetan,italian  Hyderabad   \n",
       "2                20003                0  algerian,belgian  Hyderabad   \n",
       "3                20004                0     tibetan,greek         -1   \n",
       "4                20005                0     cuban,british      Pune    \n",
       "\n",
       "  Restaurant Location Opening Day of Restaurant  Facebook Popularity Quotient  \\\n",
       "0   Near Business Hub                13-07-2010                         78.00   \n",
       "1      Near Party Hub                05-09-2011                         89.17   \n",
       "2      Near Party Hub                12-04-2011                         84.00   \n",
       "3      Near Party Hub                16-01-2005                         79.38   \n",
       "4      Near Party Hub                10-11-2008                         84.67   \n",
       "\n",
       "        Endorsed By  Instagram Popularity Quotient  Fire Audit  \\\n",
       "0  Tier A Celebrity                          69.00           1   \n",
       "1      Not Specific                          96.00           1   \n",
       "2      Not Specific                          86.00           1   \n",
       "3      Not Specific                          74.40           0   \n",
       "4      Not Specific                          86.46           1   \n",
       "\n",
       "   Liquor License Obtained  Situated in a Multi Complex  Dedicated Parking  \\\n",
       "0                        1                            1                  1   \n",
       "1                        1                            1                  1   \n",
       "2                        1                            1                  0   \n",
       "3                        1                            1                  1   \n",
       "4                        1                            1                  0   \n",
       "\n",
       "   Open Sitting Available  Resturant Tier Restaurant Type Restaurant Theme  \\\n",
       "0                       0               2             Bar            Greek   \n",
       "1                       1               2             Bar           Nature   \n",
       "2                       1               2             Bar            Greek   \n",
       "3                       1               2      Gastro Bar             90's   \n",
       "4                       0               1             Bar          Mise En   \n",
       "\n",
       "   Restaurant Zomato Rating  Restaurant City Tier  Order Wait Time  \\\n",
       "0                         3                     0               10   \n",
       "1                         4                     0               10   \n",
       "2                         2                     0                6   \n",
       "3                         3                     0               10   \n",
       "4                         4                     1                7   \n",
       "\n",
       "   Staff Responsivness  Value for Money  Hygiene Rating  Food Rating  \\\n",
       "0                    5                3               5            8   \n",
       "1                    4                5               6            8   \n",
       "2                    5                5               6            9   \n",
       "3                    5                5               5            9   \n",
       "4                    5                5               7            8   \n",
       "\n",
       "   Overall Restaurant Rating  Live Music Rating  Comedy Gigs Rating  \\\n",
       "0                        6.0                NaN                 2.0   \n",
       "1                        9.0                3.0                 NaN   \n",
       "2                        6.0                3.0                 NaN   \n",
       "3                        9.0                6.0                 NaN   \n",
       "4                        NaN                NaN                 NaN   \n",
       "\n",
       "   Value Deals Rating  Live Sports Rating  Ambience  Lively  Service  \\\n",
       "0                 NaN                 NaN         5       2        2   \n",
       "1                 NaN                 6.0         7       8        5   \n",
       "2                 NaN                 NaN         9       7        5   \n",
       "3                 NaN                 NaN         6       7        6   \n",
       "4                 NaN                 NaN         4       4        7   \n",
       "\n",
       "   Comfortablility  Privacy  \n",
       "0                6        0  \n",
       "1                1        8  \n",
       "2                1        5  \n",
       "3                4        7  \n",
       "4                7        3  "
      ]
     },
     "execution_count": 187,
     "metadata": {},
     "output_type": "execute_result"
    }
   ],
   "source": [
    "df_test = pd.read_csv('Test_dataset.csv')\n",
    "df_test.head()"
   ]
  },
  {
   "cell_type": "code",
   "execution_count": 188,
   "metadata": {},
   "outputs": [
    {
     "data": {
      "text/plain": [
       "(3493, 34)"
      ]
     },
     "execution_count": 188,
     "metadata": {},
     "output_type": "execute_result"
    }
   ],
   "source": [
    "df_train.shape"
   ]
  },
  {
   "cell_type": "code",
   "execution_count": 189,
   "metadata": {},
   "outputs": [
    {
     "data": {
      "text/plain": [
       "(500, 34)"
      ]
     },
     "execution_count": 189,
     "metadata": {},
     "output_type": "execute_result"
    }
   ],
   "source": [
    "df_test.shape"
   ]
  },
  {
   "cell_type": "code",
   "execution_count": 190,
   "metadata": {},
   "outputs": [
    {
     "data": {
      "text/html": [
       "<div>\n",
       "<style scoped>\n",
       "    .dataframe tbody tr th:only-of-type {\n",
       "        vertical-align: middle;\n",
       "    }\n",
       "\n",
       "    .dataframe tbody tr th {\n",
       "        vertical-align: top;\n",
       "    }\n",
       "\n",
       "    .dataframe thead th {\n",
       "        text-align: right;\n",
       "    }\n",
       "</style>\n",
       "<table border=\"1\" class=\"dataframe\">\n",
       "  <thead>\n",
       "    <tr style=\"text-align: right;\">\n",
       "      <th></th>\n",
       "      <th>Registration Number</th>\n",
       "      <th>Annual Turnover</th>\n",
       "      <th>Cuisine</th>\n",
       "      <th>City</th>\n",
       "      <th>Restaurant Location</th>\n",
       "      <th>Opening Day of Restaurant</th>\n",
       "      <th>Facebook Popularity Quotient</th>\n",
       "      <th>Endorsed By</th>\n",
       "      <th>Instagram Popularity Quotient</th>\n",
       "      <th>Fire Audit</th>\n",
       "      <th>Liquor License Obtained</th>\n",
       "      <th>Situated in a Multi Complex</th>\n",
       "      <th>Dedicated Parking</th>\n",
       "      <th>Open Sitting Available</th>\n",
       "      <th>Resturant Tier</th>\n",
       "      <th>Restaurant Type</th>\n",
       "      <th>Restaurant Theme</th>\n",
       "      <th>Restaurant Zomato Rating</th>\n",
       "      <th>Restaurant City Tier</th>\n",
       "      <th>Order Wait Time</th>\n",
       "      <th>Staff Responsivness</th>\n",
       "      <th>Value for Money</th>\n",
       "      <th>Hygiene Rating</th>\n",
       "      <th>Food Rating</th>\n",
       "      <th>Overall Restaurant Rating</th>\n",
       "      <th>Live Music Rating</th>\n",
       "      <th>Comedy Gigs Rating</th>\n",
       "      <th>Value Deals Rating</th>\n",
       "      <th>Live Sports Rating</th>\n",
       "      <th>Ambience</th>\n",
       "      <th>Lively</th>\n",
       "      <th>Service</th>\n",
       "      <th>Comfortablility</th>\n",
       "      <th>Privacy</th>\n",
       "    </tr>\n",
       "  </thead>\n",
       "  <tbody>\n",
       "    <tr>\n",
       "      <th>0</th>\n",
       "      <td>60001</td>\n",
       "      <td>42000000</td>\n",
       "      <td>indian,irish</td>\n",
       "      <td>Bangalore</td>\n",
       "      <td>Near Business Hub</td>\n",
       "      <td>14-02-2009</td>\n",
       "      <td>84.3</td>\n",
       "      <td>Not Specific</td>\n",
       "      <td>95.8</td>\n",
       "      <td>1</td>\n",
       "      <td>1</td>\n",
       "      <td>1</td>\n",
       "      <td>0</td>\n",
       "      <td>1</td>\n",
       "      <td>2.0</td>\n",
       "      <td>Bar</td>\n",
       "      <td>Arabian</td>\n",
       "      <td>3</td>\n",
       "      <td>0</td>\n",
       "      <td>2</td>\n",
       "      <td>5</td>\n",
       "      <td>5</td>\n",
       "      <td>5</td>\n",
       "      <td>7</td>\n",
       "      <td>10.0</td>\n",
       "      <td>4.0</td>\n",
       "      <td>NaN</td>\n",
       "      <td>NaN</td>\n",
       "      <td>NaN</td>\n",
       "      <td>8.0</td>\n",
       "      <td>8</td>\n",
       "      <td>6</td>\n",
       "      <td>6</td>\n",
       "      <td>6</td>\n",
       "    </tr>\n",
       "    <tr>\n",
       "      <th>1</th>\n",
       "      <td>60002</td>\n",
       "      <td>50000000</td>\n",
       "      <td>indian,irish</td>\n",
       "      <td>Indore</td>\n",
       "      <td>Near Party Hub</td>\n",
       "      <td>29-09-2008</td>\n",
       "      <td>85.4</td>\n",
       "      <td>Tier A Celebrity</td>\n",
       "      <td>85.0</td>\n",
       "      <td>1</td>\n",
       "      <td>1</td>\n",
       "      <td>1</td>\n",
       "      <td>1</td>\n",
       "      <td>0</td>\n",
       "      <td>2.0</td>\n",
       "      <td>Bar</td>\n",
       "      <td>Greek</td>\n",
       "      <td>3</td>\n",
       "      <td>0</td>\n",
       "      <td>6</td>\n",
       "      <td>6</td>\n",
       "      <td>6</td>\n",
       "      <td>7</td>\n",
       "      <td>8</td>\n",
       "      <td>9.0</td>\n",
       "      <td>NaN</td>\n",
       "      <td>4.0</td>\n",
       "      <td>NaN</td>\n",
       "      <td>NaN</td>\n",
       "      <td>5.0</td>\n",
       "      <td>7</td>\n",
       "      <td>7</td>\n",
       "      <td>3</td>\n",
       "      <td>8</td>\n",
       "    </tr>\n",
       "    <tr>\n",
       "      <th>2</th>\n",
       "      <td>60003</td>\n",
       "      <td>32500000</td>\n",
       "      <td>tibetan,italian</td>\n",
       "      <td>Chennai</td>\n",
       "      <td>Near Business Hub</td>\n",
       "      <td>30-07-2011</td>\n",
       "      <td>85.0</td>\n",
       "      <td>Tier A Celebrity</td>\n",
       "      <td>68.2</td>\n",
       "      <td>1</td>\n",
       "      <td>1</td>\n",
       "      <td>1</td>\n",
       "      <td>1</td>\n",
       "      <td>0</td>\n",
       "      <td>2.0</td>\n",
       "      <td>Bar</td>\n",
       "      <td>90's</td>\n",
       "      <td>3</td>\n",
       "      <td>0</td>\n",
       "      <td>2</td>\n",
       "      <td>6</td>\n",
       "      <td>5</td>\n",
       "      <td>3</td>\n",
       "      <td>7</td>\n",
       "      <td>8.0</td>\n",
       "      <td>3.0</td>\n",
       "      <td>NaN</td>\n",
       "      <td>NaN</td>\n",
       "      <td>NaN</td>\n",
       "      <td>7.0</td>\n",
       "      <td>10</td>\n",
       "      <td>5</td>\n",
       "      <td>2</td>\n",
       "      <td>8</td>\n",
       "    </tr>\n",
       "    <tr>\n",
       "      <th>3</th>\n",
       "      <td>60004</td>\n",
       "      <td>110000000</td>\n",
       "      <td>turkish,nigerian</td>\n",
       "      <td>Gurgaon</td>\n",
       "      <td>Near Party Hub</td>\n",
       "      <td>30-11-2008</td>\n",
       "      <td>85.6</td>\n",
       "      <td>Tier A Celebrity</td>\n",
       "      <td>83.6</td>\n",
       "      <td>0</td>\n",
       "      <td>1</td>\n",
       "      <td>1</td>\n",
       "      <td>1</td>\n",
       "      <td>1</td>\n",
       "      <td>1.0</td>\n",
       "      <td>Bar</td>\n",
       "      <td>Arabian</td>\n",
       "      <td>3</td>\n",
       "      <td>1</td>\n",
       "      <td>7</td>\n",
       "      <td>6</td>\n",
       "      <td>5</td>\n",
       "      <td>6</td>\n",
       "      <td>8</td>\n",
       "      <td>9.0</td>\n",
       "      <td>6.0</td>\n",
       "      <td>NaN</td>\n",
       "      <td>NaN</td>\n",
       "      <td>NaN</td>\n",
       "      <td>7.0</td>\n",
       "      <td>7</td>\n",
       "      <td>4</td>\n",
       "      <td>3</td>\n",
       "      <td>5</td>\n",
       "    </tr>\n",
       "    <tr>\n",
       "      <th>4</th>\n",
       "      <td>60005</td>\n",
       "      <td>20000000</td>\n",
       "      <td>irish,belgian</td>\n",
       "      <td>Manesar</td>\n",
       "      <td>Near Party Hub</td>\n",
       "      <td>22-02-2010</td>\n",
       "      <td>NaN</td>\n",
       "      <td>Tier A Celebrity</td>\n",
       "      <td>76.8</td>\n",
       "      <td>1</td>\n",
       "      <td>1</td>\n",
       "      <td>1</td>\n",
       "      <td>1</td>\n",
       "      <td>1</td>\n",
       "      <td>NaN</td>\n",
       "      <td>Bar</td>\n",
       "      <td>Greek</td>\n",
       "      <td>3</td>\n",
       "      <td>0</td>\n",
       "      <td>10</td>\n",
       "      <td>5</td>\n",
       "      <td>6</td>\n",
       "      <td>4</td>\n",
       "      <td>8</td>\n",
       "      <td>6.0</td>\n",
       "      <td>NaN</td>\n",
       "      <td>2.0</td>\n",
       "      <td>NaN</td>\n",
       "      <td>NaN</td>\n",
       "      <td>NaN</td>\n",
       "      <td>6</td>\n",
       "      <td>2</td>\n",
       "      <td>4</td>\n",
       "      <td>6</td>\n",
       "    </tr>\n",
       "  </tbody>\n",
       "</table>\n",
       "</div>"
      ],
      "text/plain": [
       "   Registration Number  Annual Turnover           Cuisine       City  \\\n",
       "0                60001         42000000      indian,irish  Bangalore   \n",
       "1                60002         50000000      indian,irish     Indore   \n",
       "2                60003         32500000   tibetan,italian    Chennai   \n",
       "3                60004        110000000  turkish,nigerian    Gurgaon   \n",
       "4                60005         20000000     irish,belgian    Manesar   \n",
       "\n",
       "  Restaurant Location Opening Day of Restaurant  Facebook Popularity Quotient  \\\n",
       "0   Near Business Hub                14-02-2009                          84.3   \n",
       "1      Near Party Hub                29-09-2008                          85.4   \n",
       "2   Near Business Hub                30-07-2011                          85.0   \n",
       "3      Near Party Hub                30-11-2008                          85.6   \n",
       "4      Near Party Hub                22-02-2010                           NaN   \n",
       "\n",
       "        Endorsed By  Instagram Popularity Quotient  Fire Audit  \\\n",
       "0      Not Specific                           95.8           1   \n",
       "1  Tier A Celebrity                           85.0           1   \n",
       "2  Tier A Celebrity                           68.2           1   \n",
       "3  Tier A Celebrity                           83.6           0   \n",
       "4  Tier A Celebrity                           76.8           1   \n",
       "\n",
       "   Liquor License Obtained  Situated in a Multi Complex  Dedicated Parking  \\\n",
       "0                        1                            1                  0   \n",
       "1                        1                            1                  1   \n",
       "2                        1                            1                  1   \n",
       "3                        1                            1                  1   \n",
       "4                        1                            1                  1   \n",
       "\n",
       "   Open Sitting Available  Resturant Tier Restaurant Type Restaurant Theme  \\\n",
       "0                       1             2.0             Bar          Arabian   \n",
       "1                       0             2.0             Bar            Greek   \n",
       "2                       0             2.0             Bar             90's   \n",
       "3                       1             1.0             Bar          Arabian   \n",
       "4                       1             NaN             Bar            Greek   \n",
       "\n",
       "   Restaurant Zomato Rating  Restaurant City Tier  Order Wait Time  \\\n",
       "0                         3                     0                2   \n",
       "1                         3                     0                6   \n",
       "2                         3                     0                2   \n",
       "3                         3                     1                7   \n",
       "4                         3                     0               10   \n",
       "\n",
       "   Staff Responsivness  Value for Money  Hygiene Rating  Food Rating  \\\n",
       "0                    5                5               5            7   \n",
       "1                    6                6               7            8   \n",
       "2                    6                5               3            7   \n",
       "3                    6                5               6            8   \n",
       "4                    5                6               4            8   \n",
       "\n",
       "   Overall Restaurant Rating  Live Music Rating  Comedy Gigs Rating  \\\n",
       "0                       10.0                4.0                 NaN   \n",
       "1                        9.0                NaN                 4.0   \n",
       "2                        8.0                3.0                 NaN   \n",
       "3                        9.0                6.0                 NaN   \n",
       "4                        6.0                NaN                 2.0   \n",
       "\n",
       "   Value Deals Rating  Live Sports Rating  Ambience  Lively  Service  \\\n",
       "0                 NaN                 NaN       8.0       8        6   \n",
       "1                 NaN                 NaN       5.0       7        7   \n",
       "2                 NaN                 NaN       7.0      10        5   \n",
       "3                 NaN                 NaN       7.0       7        4   \n",
       "4                 NaN                 NaN       NaN       6        2   \n",
       "\n",
       "   Comfortablility  Privacy  \n",
       "0                6        6  \n",
       "1                3        8  \n",
       "2                2        8  \n",
       "3                3        5  \n",
       "4                4        6  "
      ]
     },
     "execution_count": 190,
     "metadata": {},
     "output_type": "execute_result"
    }
   ],
   "source": [
    "df=pd.concat([df_train,df_test])\n",
    "df.head()"
   ]
  },
  {
   "cell_type": "code",
   "execution_count": 191,
   "metadata": {
    "scrolled": true
   },
   "outputs": [
    {
     "data": {
      "text/html": [
       "<div>\n",
       "<style scoped>\n",
       "    .dataframe tbody tr th:only-of-type {\n",
       "        vertical-align: middle;\n",
       "    }\n",
       "\n",
       "    .dataframe tbody tr th {\n",
       "        vertical-align: top;\n",
       "    }\n",
       "\n",
       "    .dataframe thead th {\n",
       "        text-align: right;\n",
       "    }\n",
       "</style>\n",
       "<table border=\"1\" class=\"dataframe\">\n",
       "  <thead>\n",
       "    <tr style=\"text-align: right;\">\n",
       "      <th></th>\n",
       "      <th>Registration Number</th>\n",
       "      <th>Annual Turnover</th>\n",
       "      <th>Cuisine</th>\n",
       "      <th>City</th>\n",
       "      <th>Restaurant Location</th>\n",
       "      <th>Opening Day of Restaurant</th>\n",
       "      <th>Facebook Popularity Quotient</th>\n",
       "      <th>Endorsed By</th>\n",
       "      <th>Instagram Popularity Quotient</th>\n",
       "      <th>Fire Audit</th>\n",
       "      <th>Liquor License Obtained</th>\n",
       "      <th>Situated in a Multi Complex</th>\n",
       "      <th>Dedicated Parking</th>\n",
       "      <th>Open Sitting Available</th>\n",
       "      <th>Resturant Tier</th>\n",
       "      <th>Restaurant Type</th>\n",
       "      <th>Restaurant Theme</th>\n",
       "      <th>Restaurant Zomato Rating</th>\n",
       "      <th>Restaurant City Tier</th>\n",
       "      <th>Order Wait Time</th>\n",
       "      <th>Staff Responsivness</th>\n",
       "      <th>Value for Money</th>\n",
       "      <th>Hygiene Rating</th>\n",
       "      <th>Food Rating</th>\n",
       "      <th>Overall Restaurant Rating</th>\n",
       "      <th>Live Music Rating</th>\n",
       "      <th>Comedy Gigs Rating</th>\n",
       "      <th>Value Deals Rating</th>\n",
       "      <th>Live Sports Rating</th>\n",
       "      <th>Ambience</th>\n",
       "      <th>Lively</th>\n",
       "      <th>Service</th>\n",
       "      <th>Comfortablility</th>\n",
       "      <th>Privacy</th>\n",
       "    </tr>\n",
       "  </thead>\n",
       "  <tbody>\n",
       "    <tr>\n",
       "      <th>495</th>\n",
       "      <td>20496</td>\n",
       "      <td>0</td>\n",
       "      <td>indian,irish</td>\n",
       "      <td>Noida</td>\n",
       "      <td>Near Party Hub</td>\n",
       "      <td>08-09-2009</td>\n",
       "      <td>72.00</td>\n",
       "      <td>Not Specific</td>\n",
       "      <td>72.00</td>\n",
       "      <td>1</td>\n",
       "      <td>1</td>\n",
       "      <td>1</td>\n",
       "      <td>1</td>\n",
       "      <td>1</td>\n",
       "      <td>2.0</td>\n",
       "      <td>Bar</td>\n",
       "      <td>90's</td>\n",
       "      <td>3</td>\n",
       "      <td>0</td>\n",
       "      <td>4</td>\n",
       "      <td>4</td>\n",
       "      <td>5</td>\n",
       "      <td>5</td>\n",
       "      <td>9</td>\n",
       "      <td>9.0</td>\n",
       "      <td>5.0</td>\n",
       "      <td>NaN</td>\n",
       "      <td>NaN</td>\n",
       "      <td>NaN</td>\n",
       "      <td>7.0</td>\n",
       "      <td>8</td>\n",
       "      <td>5</td>\n",
       "      <td>2</td>\n",
       "      <td>7</td>\n",
       "    </tr>\n",
       "    <tr>\n",
       "      <th>496</th>\n",
       "      <td>20497</td>\n",
       "      <td>0</td>\n",
       "      <td>tibetan,greek</td>\n",
       "      <td>Bangalore</td>\n",
       "      <td>Near Party Hub</td>\n",
       "      <td>20-06-2007</td>\n",
       "      <td>78.28</td>\n",
       "      <td>Not Specific</td>\n",
       "      <td>53.55</td>\n",
       "      <td>1</td>\n",
       "      <td>1</td>\n",
       "      <td>1</td>\n",
       "      <td>1</td>\n",
       "      <td>0</td>\n",
       "      <td>2.0</td>\n",
       "      <td>Bar</td>\n",
       "      <td>90's</td>\n",
       "      <td>1</td>\n",
       "      <td>0</td>\n",
       "      <td>7</td>\n",
       "      <td>5</td>\n",
       "      <td>4</td>\n",
       "      <td>4</td>\n",
       "      <td>9</td>\n",
       "      <td>8.0</td>\n",
       "      <td>3.0</td>\n",
       "      <td>NaN</td>\n",
       "      <td>NaN</td>\n",
       "      <td>NaN</td>\n",
       "      <td>9.0</td>\n",
       "      <td>8</td>\n",
       "      <td>8</td>\n",
       "      <td>4</td>\n",
       "      <td>8</td>\n",
       "    </tr>\n",
       "    <tr>\n",
       "      <th>497</th>\n",
       "      <td>20498</td>\n",
       "      <td>0</td>\n",
       "      <td>indian,irish</td>\n",
       "      <td>Bangalore</td>\n",
       "      <td>Near Party Hub</td>\n",
       "      <td>19-06-2010</td>\n",
       "      <td>72.60</td>\n",
       "      <td>Tier A Celebrity</td>\n",
       "      <td>71.40</td>\n",
       "      <td>0</td>\n",
       "      <td>1</td>\n",
       "      <td>0</td>\n",
       "      <td>0</td>\n",
       "      <td>1</td>\n",
       "      <td>2.0</td>\n",
       "      <td>Bar</td>\n",
       "      <td>90's</td>\n",
       "      <td>2</td>\n",
       "      <td>1</td>\n",
       "      <td>3</td>\n",
       "      <td>6</td>\n",
       "      <td>5</td>\n",
       "      <td>6</td>\n",
       "      <td>8</td>\n",
       "      <td>9.0</td>\n",
       "      <td>5.0</td>\n",
       "      <td>NaN</td>\n",
       "      <td>4.0</td>\n",
       "      <td>NaN</td>\n",
       "      <td>1.0</td>\n",
       "      <td>6</td>\n",
       "      <td>5</td>\n",
       "      <td>7</td>\n",
       "      <td>2</td>\n",
       "    </tr>\n",
       "    <tr>\n",
       "      <th>498</th>\n",
       "      <td>20499</td>\n",
       "      <td>0</td>\n",
       "      <td>tibetan,greek</td>\n",
       "      <td>Chennai</td>\n",
       "      <td>Near Party Hub</td>\n",
       "      <td>23-08-2012</td>\n",
       "      <td>93.40</td>\n",
       "      <td>Not Specific</td>\n",
       "      <td>95.90</td>\n",
       "      <td>1</td>\n",
       "      <td>1</td>\n",
       "      <td>0</td>\n",
       "      <td>1</td>\n",
       "      <td>0</td>\n",
       "      <td>2.0</td>\n",
       "      <td>Bar</td>\n",
       "      <td>Greek</td>\n",
       "      <td>3</td>\n",
       "      <td>0</td>\n",
       "      <td>7</td>\n",
       "      <td>6</td>\n",
       "      <td>6</td>\n",
       "      <td>6</td>\n",
       "      <td>6</td>\n",
       "      <td>9.0</td>\n",
       "      <td>6.0</td>\n",
       "      <td>6.0</td>\n",
       "      <td>NaN</td>\n",
       "      <td>NaN</td>\n",
       "      <td>7.0</td>\n",
       "      <td>7</td>\n",
       "      <td>2</td>\n",
       "      <td>3</td>\n",
       "      <td>5</td>\n",
       "    </tr>\n",
       "    <tr>\n",
       "      <th>499</th>\n",
       "      <td>20500</td>\n",
       "      <td>0</td>\n",
       "      <td>tibetan,greek</td>\n",
       "      <td>Bhopal</td>\n",
       "      <td>Near Party Hub</td>\n",
       "      <td>10-03-2010</td>\n",
       "      <td>65.50</td>\n",
       "      <td>Not Specific</td>\n",
       "      <td>68.20</td>\n",
       "      <td>1</td>\n",
       "      <td>1</td>\n",
       "      <td>0</td>\n",
       "      <td>1</td>\n",
       "      <td>1</td>\n",
       "      <td>2.0</td>\n",
       "      <td>Caffee</td>\n",
       "      <td>Arabian</td>\n",
       "      <td>4</td>\n",
       "      <td>0</td>\n",
       "      <td>5</td>\n",
       "      <td>4</td>\n",
       "      <td>5</td>\n",
       "      <td>6</td>\n",
       "      <td>7</td>\n",
       "      <td>9.0</td>\n",
       "      <td>5.0</td>\n",
       "      <td>NaN</td>\n",
       "      <td>NaN</td>\n",
       "      <td>NaN</td>\n",
       "      <td>7.0</td>\n",
       "      <td>6</td>\n",
       "      <td>6</td>\n",
       "      <td>7</td>\n",
       "      <td>7</td>\n",
       "    </tr>\n",
       "  </tbody>\n",
       "</table>\n",
       "</div>"
      ],
      "text/plain": [
       "     Registration Number  Annual Turnover        Cuisine       City  \\\n",
       "495                20496                0   indian,irish      Noida   \n",
       "496                20497                0  tibetan,greek  Bangalore   \n",
       "497                20498                0   indian,irish  Bangalore   \n",
       "498                20499                0  tibetan,greek    Chennai   \n",
       "499                20500                0  tibetan,greek     Bhopal   \n",
       "\n",
       "    Restaurant Location Opening Day of Restaurant  \\\n",
       "495      Near Party Hub                08-09-2009   \n",
       "496      Near Party Hub                20-06-2007   \n",
       "497      Near Party Hub                19-06-2010   \n",
       "498      Near Party Hub                23-08-2012   \n",
       "499      Near Party Hub                10-03-2010   \n",
       "\n",
       "     Facebook Popularity Quotient       Endorsed By  \\\n",
       "495                         72.00      Not Specific   \n",
       "496                         78.28      Not Specific   \n",
       "497                         72.60  Tier A Celebrity   \n",
       "498                         93.40      Not Specific   \n",
       "499                         65.50      Not Specific   \n",
       "\n",
       "     Instagram Popularity Quotient  Fire Audit  Liquor License Obtained  \\\n",
       "495                          72.00           1                        1   \n",
       "496                          53.55           1                        1   \n",
       "497                          71.40           0                        1   \n",
       "498                          95.90           1                        1   \n",
       "499                          68.20           1                        1   \n",
       "\n",
       "     Situated in a Multi Complex  Dedicated Parking  Open Sitting Available  \\\n",
       "495                            1                  1                       1   \n",
       "496                            1                  1                       0   \n",
       "497                            0                  0                       1   \n",
       "498                            0                  1                       0   \n",
       "499                            0                  1                       1   \n",
       "\n",
       "     Resturant Tier Restaurant Type Restaurant Theme  \\\n",
       "495             2.0             Bar             90's   \n",
       "496             2.0             Bar             90's   \n",
       "497             2.0             Bar             90's   \n",
       "498             2.0             Bar            Greek   \n",
       "499             2.0          Caffee          Arabian   \n",
       "\n",
       "     Restaurant Zomato Rating  Restaurant City Tier  Order Wait Time  \\\n",
       "495                         3                     0                4   \n",
       "496                         1                     0                7   \n",
       "497                         2                     1                3   \n",
       "498                         3                     0                7   \n",
       "499                         4                     0                5   \n",
       "\n",
       "     Staff Responsivness  Value for Money  Hygiene Rating  Food Rating  \\\n",
       "495                    4                5               5            9   \n",
       "496                    5                4               4            9   \n",
       "497                    6                5               6            8   \n",
       "498                    6                6               6            6   \n",
       "499                    4                5               6            7   \n",
       "\n",
       "     Overall Restaurant Rating  Live Music Rating  Comedy Gigs Rating  \\\n",
       "495                        9.0                5.0                 NaN   \n",
       "496                        8.0                3.0                 NaN   \n",
       "497                        9.0                5.0                 NaN   \n",
       "498                        9.0                6.0                 6.0   \n",
       "499                        9.0                5.0                 NaN   \n",
       "\n",
       "     Value Deals Rating  Live Sports Rating  Ambience  Lively  Service  \\\n",
       "495                 NaN                 NaN       7.0       8        5   \n",
       "496                 NaN                 NaN       9.0       8        8   \n",
       "497                 4.0                 NaN       1.0       6        5   \n",
       "498                 NaN                 NaN       7.0       7        2   \n",
       "499                 NaN                 NaN       7.0       6        6   \n",
       "\n",
       "     Comfortablility  Privacy  \n",
       "495                2        7  \n",
       "496                4        8  \n",
       "497                7        2  \n",
       "498                3        5  \n",
       "499                7        7  "
      ]
     },
     "execution_count": 191,
     "metadata": {},
     "output_type": "execute_result"
    }
   ],
   "source": [
    "df.tail()"
   ]
  },
  {
   "cell_type": "code",
   "execution_count": 192,
   "metadata": {},
   "outputs": [
    {
     "data": {
      "text/html": [
       "<div>\n",
       "<style scoped>\n",
       "    .dataframe tbody tr th:only-of-type {\n",
       "        vertical-align: middle;\n",
       "    }\n",
       "\n",
       "    .dataframe tbody tr th {\n",
       "        vertical-align: top;\n",
       "    }\n",
       "\n",
       "    .dataframe thead th {\n",
       "        text-align: right;\n",
       "    }\n",
       "</style>\n",
       "<table border=\"1\" class=\"dataframe\">\n",
       "  <thead>\n",
       "    <tr style=\"text-align: right;\">\n",
       "      <th></th>\n",
       "      <th>Registration Number</th>\n",
       "      <th>Annual Turnover</th>\n",
       "      <th>Cuisine</th>\n",
       "      <th>City</th>\n",
       "      <th>Restaurant Location</th>\n",
       "      <th>Opening Day of Restaurant</th>\n",
       "      <th>Facebook Popularity Quotient</th>\n",
       "      <th>Endorsed By</th>\n",
       "      <th>Instagram Popularity Quotient</th>\n",
       "      <th>Fire Audit</th>\n",
       "      <th>Liquor License Obtained</th>\n",
       "      <th>Situated in a Multi Complex</th>\n",
       "      <th>Dedicated Parking</th>\n",
       "      <th>Open Sitting Available</th>\n",
       "      <th>Resturant Tier</th>\n",
       "      <th>Restaurant Type</th>\n",
       "      <th>Restaurant Theme</th>\n",
       "      <th>Restaurant Zomato Rating</th>\n",
       "      <th>Restaurant City Tier</th>\n",
       "      <th>Order Wait Time</th>\n",
       "      <th>Staff Responsivness</th>\n",
       "      <th>Value for Money</th>\n",
       "      <th>Hygiene Rating</th>\n",
       "      <th>Food Rating</th>\n",
       "      <th>Overall Restaurant Rating</th>\n",
       "      <th>Live Music Rating</th>\n",
       "      <th>Comedy Gigs Rating</th>\n",
       "      <th>Value Deals Rating</th>\n",
       "      <th>Live Sports Rating</th>\n",
       "      <th>Ambience</th>\n",
       "      <th>Lively</th>\n",
       "      <th>Service</th>\n",
       "      <th>Comfortablility</th>\n",
       "      <th>Privacy</th>\n",
       "    </tr>\n",
       "  </thead>\n",
       "  <tbody>\n",
       "    <tr>\n",
       "      <th>3490</th>\n",
       "      <td>63491</td>\n",
       "      <td>42500000</td>\n",
       "      <td>indian,irish</td>\n",
       "      <td>Chennai</td>\n",
       "      <td>Near Party Hub</td>\n",
       "      <td>21-05-2009</td>\n",
       "      <td>80.83</td>\n",
       "      <td>Not Specific</td>\n",
       "      <td>86.8</td>\n",
       "      <td>1</td>\n",
       "      <td>1</td>\n",
       "      <td>1</td>\n",
       "      <td>1</td>\n",
       "      <td>0</td>\n",
       "      <td>2.0</td>\n",
       "      <td>Bar</td>\n",
       "      <td>Nature</td>\n",
       "      <td>3</td>\n",
       "      <td>1</td>\n",
       "      <td>8</td>\n",
       "      <td>5</td>\n",
       "      <td>4</td>\n",
       "      <td>6</td>\n",
       "      <td>6</td>\n",
       "      <td>8.0</td>\n",
       "      <td>NaN</td>\n",
       "      <td>NaN</td>\n",
       "      <td>NaN</td>\n",
       "      <td>3.0</td>\n",
       "      <td>6.0</td>\n",
       "      <td>8</td>\n",
       "      <td>3</td>\n",
       "      <td>3</td>\n",
       "      <td>7</td>\n",
       "    </tr>\n",
       "    <tr>\n",
       "      <th>3491</th>\n",
       "      <td>63492</td>\n",
       "      <td>53000000</td>\n",
       "      <td>japanese,thai</td>\n",
       "      <td>Bangalore</td>\n",
       "      <td>Near Party Hub</td>\n",
       "      <td>22-06-2008</td>\n",
       "      <td>79.40</td>\n",
       "      <td>Not Specific</td>\n",
       "      <td>86.0</td>\n",
       "      <td>1</td>\n",
       "      <td>1</td>\n",
       "      <td>1</td>\n",
       "      <td>1</td>\n",
       "      <td>1</td>\n",
       "      <td>2.0</td>\n",
       "      <td>Bar</td>\n",
       "      <td>Greek</td>\n",
       "      <td>3</td>\n",
       "      <td>1</td>\n",
       "      <td>5</td>\n",
       "      <td>5</td>\n",
       "      <td>3</td>\n",
       "      <td>5</td>\n",
       "      <td>10</td>\n",
       "      <td>7.0</td>\n",
       "      <td>3.0</td>\n",
       "      <td>2.0</td>\n",
       "      <td>NaN</td>\n",
       "      <td>NaN</td>\n",
       "      <td>7.0</td>\n",
       "      <td>6</td>\n",
       "      <td>3</td>\n",
       "      <td>3</td>\n",
       "      <td>6</td>\n",
       "    </tr>\n",
       "    <tr>\n",
       "      <th>3492</th>\n",
       "      <td>63493</td>\n",
       "      <td>12000000</td>\n",
       "      <td>indian,irish</td>\n",
       "      <td>Ghaziabad</td>\n",
       "      <td>Near Party Hub</td>\n",
       "      <td>23-04-2009</td>\n",
       "      <td>72.00</td>\n",
       "      <td>Not Specific</td>\n",
       "      <td>67.0</td>\n",
       "      <td>1</td>\n",
       "      <td>1</td>\n",
       "      <td>1</td>\n",
       "      <td>1</td>\n",
       "      <td>1</td>\n",
       "      <td>2.0</td>\n",
       "      <td>Bar</td>\n",
       "      <td>Greek</td>\n",
       "      <td>2</td>\n",
       "      <td>0</td>\n",
       "      <td>2</td>\n",
       "      <td>4</td>\n",
       "      <td>4</td>\n",
       "      <td>4</td>\n",
       "      <td>5</td>\n",
       "      <td>NaN</td>\n",
       "      <td>1.0</td>\n",
       "      <td>NaN</td>\n",
       "      <td>NaN</td>\n",
       "      <td>NaN</td>\n",
       "      <td>6.0</td>\n",
       "      <td>9</td>\n",
       "      <td>6</td>\n",
       "      <td>3</td>\n",
       "      <td>8</td>\n",
       "    </tr>\n",
       "    <tr>\n",
       "      <th>0</th>\n",
       "      <td>20001</td>\n",
       "      <td>0</td>\n",
       "      <td>tibetan,italian</td>\n",
       "      <td>Bangalore</td>\n",
       "      <td>Near Business Hub</td>\n",
       "      <td>13-07-2010</td>\n",
       "      <td>78.00</td>\n",
       "      <td>Tier A Celebrity</td>\n",
       "      <td>69.0</td>\n",
       "      <td>1</td>\n",
       "      <td>1</td>\n",
       "      <td>1</td>\n",
       "      <td>1</td>\n",
       "      <td>0</td>\n",
       "      <td>2.0</td>\n",
       "      <td>Bar</td>\n",
       "      <td>Greek</td>\n",
       "      <td>3</td>\n",
       "      <td>0</td>\n",
       "      <td>10</td>\n",
       "      <td>5</td>\n",
       "      <td>3</td>\n",
       "      <td>5</td>\n",
       "      <td>8</td>\n",
       "      <td>6.0</td>\n",
       "      <td>NaN</td>\n",
       "      <td>2.0</td>\n",
       "      <td>NaN</td>\n",
       "      <td>NaN</td>\n",
       "      <td>5.0</td>\n",
       "      <td>2</td>\n",
       "      <td>2</td>\n",
       "      <td>6</td>\n",
       "      <td>0</td>\n",
       "    </tr>\n",
       "  </tbody>\n",
       "</table>\n",
       "</div>"
      ],
      "text/plain": [
       "      Registration Number  Annual Turnover          Cuisine       City  \\\n",
       "3490                63491         42500000     indian,irish    Chennai   \n",
       "3491                63492         53000000    japanese,thai  Bangalore   \n",
       "3492                63493         12000000     indian,irish  Ghaziabad   \n",
       "0                   20001                0  tibetan,italian  Bangalore   \n",
       "\n",
       "     Restaurant Location Opening Day of Restaurant  \\\n",
       "3490      Near Party Hub                21-05-2009   \n",
       "3491      Near Party Hub                22-06-2008   \n",
       "3492      Near Party Hub                23-04-2009   \n",
       "0      Near Business Hub                13-07-2010   \n",
       "\n",
       "      Facebook Popularity Quotient       Endorsed By  \\\n",
       "3490                         80.83      Not Specific   \n",
       "3491                         79.40      Not Specific   \n",
       "3492                         72.00      Not Specific   \n",
       "0                            78.00  Tier A Celebrity   \n",
       "\n",
       "      Instagram Popularity Quotient  Fire Audit  Liquor License Obtained  \\\n",
       "3490                           86.8           1                        1   \n",
       "3491                           86.0           1                        1   \n",
       "3492                           67.0           1                        1   \n",
       "0                              69.0           1                        1   \n",
       "\n",
       "      Situated in a Multi Complex  Dedicated Parking  Open Sitting Available  \\\n",
       "3490                            1                  1                       0   \n",
       "3491                            1                  1                       1   \n",
       "3492                            1                  1                       1   \n",
       "0                               1                  1                       0   \n",
       "\n",
       "      Resturant Tier Restaurant Type Restaurant Theme  \\\n",
       "3490             2.0             Bar           Nature   \n",
       "3491             2.0             Bar            Greek   \n",
       "3492             2.0             Bar            Greek   \n",
       "0                2.0             Bar            Greek   \n",
       "\n",
       "      Restaurant Zomato Rating  Restaurant City Tier  Order Wait Time  \\\n",
       "3490                         3                     1                8   \n",
       "3491                         3                     1                5   \n",
       "3492                         2                     0                2   \n",
       "0                            3                     0               10   \n",
       "\n",
       "      Staff Responsivness  Value for Money  Hygiene Rating  Food Rating  \\\n",
       "3490                    5                4               6            6   \n",
       "3491                    5                3               5           10   \n",
       "3492                    4                4               4            5   \n",
       "0                       5                3               5            8   \n",
       "\n",
       "      Overall Restaurant Rating  Live Music Rating  Comedy Gigs Rating  \\\n",
       "3490                        8.0                NaN                 NaN   \n",
       "3491                        7.0                3.0                 2.0   \n",
       "3492                        NaN                1.0                 NaN   \n",
       "0                           6.0                NaN                 2.0   \n",
       "\n",
       "      Value Deals Rating  Live Sports Rating  Ambience  Lively  Service  \\\n",
       "3490                 NaN                 3.0       6.0       8        3   \n",
       "3491                 NaN                 NaN       7.0       6        3   \n",
       "3492                 NaN                 NaN       6.0       9        6   \n",
       "0                    NaN                 NaN       5.0       2        2   \n",
       "\n",
       "      Comfortablility  Privacy  \n",
       "3490                3        7  \n",
       "3491                3        6  \n",
       "3492                3        8  \n",
       "0                   6        0  "
      ]
     },
     "execution_count": 192,
     "metadata": {},
     "output_type": "execute_result"
    }
   ],
   "source": [
    "df.iloc[3490:3494,:]"
   ]
  },
  {
   "cell_type": "code",
   "execution_count": 193,
   "metadata": {
    "scrolled": false
   },
   "outputs": [
    {
     "data": {
      "text/plain": [
       "Facebook Popularity Quotient      2.479339\n",
       "Instagram Popularity Quotient     1.402454\n",
       "Resturant Tier                    1.227148\n",
       "Overall Restaurant Rating         6.160781\n",
       "Live Music Rating                21.712998\n",
       "Comedy Gigs Rating               71.450038\n",
       "Value Deals Rating               77.435512\n",
       "Live Sports Rating               94.139745\n",
       "Ambience                          0.626096\n",
       "dtype: float64"
      ]
     },
     "execution_count": 193,
     "metadata": {},
     "output_type": "execute_result"
    }
   ],
   "source": [
    "null=df.isna().sum()/len(df)*100\n",
    "null[null>0]"
   ]
  },
  {
   "cell_type": "code",
   "execution_count": 194,
   "metadata": {},
   "outputs": [],
   "source": [
    "#Drop variables Comedy Gigs Rating, Value Deals Rating, Live Sports Rating"
   ]
  },
  {
   "cell_type": "code",
   "execution_count": 195,
   "metadata": {},
   "outputs": [],
   "source": [
    "df=df.drop(['Comedy Gigs Rating','Value Deals Rating','Live Sports Rating'], axis=1)"
   ]
  },
  {
   "cell_type": "code",
   "execution_count": 196,
   "metadata": {},
   "outputs": [
    {
     "data": {
      "text/plain": [
       "Facebook Popularity Quotient      2.479339\n",
       "Instagram Popularity Quotient     1.402454\n",
       "Resturant Tier                    1.227148\n",
       "Overall Restaurant Rating         6.160781\n",
       "Live Music Rating                21.712998\n",
       "Ambience                          0.626096\n",
       "dtype: float64"
      ]
     },
     "execution_count": 196,
     "metadata": {},
     "output_type": "execute_result"
    }
   ],
   "source": [
    "null=df.isna().sum()/len(df)*100\n",
    "null[null>0]"
   ]
  },
  {
   "cell_type": "markdown",
   "metadata": {},
   "source": [
    "### Facebook Popularity Quotient"
   ]
  },
  {
   "cell_type": "code",
   "execution_count": 197,
   "metadata": {},
   "outputs": [
    {
     "data": {
      "text/plain": [
       "count    3894.000000\n",
       "mean       77.887678\n",
       "std         9.861789\n",
       "min        43.000000\n",
       "25%        71.660000\n",
       "50%        79.000000\n",
       "75%        85.667500\n",
       "max        97.760000\n",
       "Name: Facebook Popularity Quotient, dtype: float64"
      ]
     },
     "execution_count": 197,
     "metadata": {},
     "output_type": "execute_result"
    }
   ],
   "source": [
    "df['Facebook Popularity Quotient'].describe()"
   ]
  },
  {
   "cell_type": "code",
   "execution_count": 198,
   "metadata": {
    "scrolled": false
   },
   "outputs": [
    {
     "data": {
      "text/plain": [
       "<AxesSubplot:xlabel='Facebook Popularity Quotient', ylabel='Density'>"
      ]
     },
     "execution_count": 198,
     "metadata": {},
     "output_type": "execute_result"
    },
    {
     "data": {
      "image/png": "[encoded data removed]",
      "text/plain": [
       "<Figure size 432x288 with 1 Axes>"
      ]
     },
     "metadata": {
      "needs_background": "light"
     },
     "output_type": "display_data"
    }
   ],
   "source": [
    "sns.distplot(df['Facebook Popularity Quotient'])"
   ]
  },
  {
   "cell_type": "code",
   "execution_count": 199,
   "metadata": {},
   "outputs": [],
   "source": [
    "df['Facebook Popularity Quotient']=df['Facebook Popularity Quotient'].fillna(df['Facebook Popularity Quotient'].median())"
   ]
  },
  {
   "cell_type": "code",
   "execution_count": 200,
   "metadata": {},
   "outputs": [
    {
     "data": {
      "text/plain": [
       "<AxesSubplot:xlabel='Facebook Popularity Quotient', ylabel='Annual Turnover'>"
      ]
     },
     "execution_count": 200,
     "metadata": {},
     "output_type": "execute_result"
    },
    {
     "data": {
      "image/png": "[encoded data removed]",
      "text/plain": [
       "<Figure size 432x288 with 1 Axes>"
      ]
     },
     "metadata": {
      "needs_background": "light"
     },
     "output_type": "display_data"
    }
   ],
   "source": [
    "sns.scatterplot(df['Facebook Popularity Quotient'], df['Annual Turnover'])"
   ]
  },
  {
   "cell_type": "markdown",
   "metadata": {},
   "source": [
    "### Instagram Popularity Quotient"
   ]
  },
  {
   "cell_type": "code",
   "execution_count": 201,
   "metadata": {},
   "outputs": [
    {
     "data": {
      "text/plain": [
       "count    3937.000000\n",
       "mean       74.448954\n",
       "std        10.990665\n",
       "min        40.000000\n",
       "25%        66.000000\n",
       "50%        74.330000\n",
       "75%        82.600000\n",
       "max        98.700000\n",
       "Name: Instagram Popularity Quotient, dtype: float64"
      ]
     },
     "execution_count": 201,
     "metadata": {},
     "output_type": "execute_result"
    }
   ],
   "source": [
    "df['Instagram Popularity Quotient'].describe()"
   ]
  },
  {
   "cell_type": "code",
   "execution_count": 202,
   "metadata": {
    "scrolled": false
   },
   "outputs": [
    {
     "data": {
      "text/plain": [
       "<AxesSubplot:xlabel='Instagram Popularity Quotient', ylabel='Density'>"
      ]
     },
     "execution_count": 202,
     "metadata": {},
     "output_type": "execute_result"
    },
    {
     "data": {
      "image/png": "[encoded data removed]",
      "text/plain": [
       "<Figure size 432x288 with 1 Axes>"
      ]
     },
     "metadata": {
      "needs_background": "light"
     },
     "output_type": "display_data"
    }
   ],
   "source": [
    "sns.distplot(df['Instagram Popularity Quotient'])"
   ]
  },
  {
   "cell_type": "code",
   "execution_count": 203,
   "metadata": {},
   "outputs": [],
   "source": [
    "df['Instagram Popularity Quotient']=df['Instagram Popularity Quotient'].fillna(df['Instagram Popularity Quotient'].mean())"
   ]
  },
  {
   "cell_type": "code",
   "execution_count": 204,
   "metadata": {
    "scrolled": true
   },
   "outputs": [
    {
     "data": {
      "text/plain": [
       "<AxesSubplot:xlabel='Facebook Popularity Quotient', ylabel='Annual Turnover'>"
      ]
     },
     "execution_count": 204,
     "metadata": {},
     "output_type": "execute_result"
    },
    {
     "data": {
      "image/png": "[encoded data removed]",
      "text/plain": [
       "<Figure size 432x288 with 1 Axes>"
      ]
     },
     "metadata": {
      "needs_background": "light"
     },
     "output_type": "display_data"
    }
   ],
   "source": [
    "sns.scatterplot(df['Facebook Popularity Quotient'], df['Annual Turnover'])"
   ]
  },
  {
   "cell_type": "code",
   "execution_count": 205,
   "metadata": {
    "scrolled": false
   },
   "outputs": [
    {
     "data": {
      "text/plain": [
       "Resturant Tier                1.227148\n",
       "Overall Restaurant Rating     6.160781\n",
       "Live Music Rating            21.712998\n",
       "Ambience                      0.626096\n",
       "dtype: float64"
      ]
     },
     "execution_count": 205,
     "metadata": {},
     "output_type": "execute_result"
    }
   ],
   "source": [
    "null=df.isna().sum()/len(df)*100\n",
    "null[null>0]"
   ]
  },
  {
   "cell_type": "markdown",
   "metadata": {},
   "source": [
    "### Resturant Tier"
   ]
  },
  {
   "cell_type": "code",
   "execution_count": 206,
   "metadata": {
    "scrolled": true
   },
   "outputs": [
    {
     "data": {
      "text/plain": [
       "2.0    3657\n",
       "1.0     287\n",
       "Name: Resturant Tier, dtype: int64"
      ]
     },
     "execution_count": 206,
     "metadata": {},
     "output_type": "execute_result"
    }
   ],
   "source": [
    "df['Resturant Tier'].value_counts()"
   ]
  },
  {
   "cell_type": "code",
   "execution_count": 207,
   "metadata": {},
   "outputs": [],
   "source": [
    "df['Resturant Tier']=df['Resturant Tier'].fillna(df['Resturant Tier'].mode()[0])"
   ]
  },
  {
   "cell_type": "code",
   "execution_count": 208,
   "metadata": {
    "scrolled": true
   },
   "outputs": [
    {
     "data": {
      "text/plain": [
       "<AxesSubplot:xlabel='Resturant Tier', ylabel='Annual Turnover'>"
      ]
     },
     "execution_count": 208,
     "metadata": {},
     "output_type": "execute_result"
    },
    {
     "data": {
      "image/png": "[encoded data removed]",
      "text/plain": [
       "<Figure size 432x288 with 1 Axes>"
      ]
     },
     "metadata": {
      "needs_background": "light"
     },
     "output_type": "display_data"
    }
   ],
   "source": [
    "sns.barplot(df['Resturant Tier'], df['Annual Turnover'])"
   ]
  },
  {
   "cell_type": "code",
   "execution_count": 209,
   "metadata": {
    "scrolled": true
   },
   "outputs": [
    {
     "data": {
      "text/plain": [
       "Overall Restaurant Rating     6.160781\n",
       "Live Music Rating            21.712998\n",
       "Ambience                      0.626096\n",
       "dtype: float64"
      ]
     },
     "execution_count": 209,
     "metadata": {},
     "output_type": "execute_result"
    }
   ],
   "source": [
    "null=df.isna().sum()/len(df)*100\n",
    "null[null>0]"
   ]
  },
  {
   "cell_type": "markdown",
   "metadata": {},
   "source": [
    "### Overall Restaurant Rating"
   ]
  },
  {
   "cell_type": "code",
   "execution_count": 210,
   "metadata": {},
   "outputs": [
    {
     "data": {
      "text/plain": [
       "9.0     1175\n",
       "10.0     975\n",
       "7.0      657\n",
       "8.0      602\n",
       "6.0      338\n",
       "Name: Overall Restaurant Rating, dtype: int64"
      ]
     },
     "execution_count": 210,
     "metadata": {},
     "output_type": "execute_result"
    }
   ],
   "source": [
    "df['Overall Restaurant Rating'].value_counts()"
   ]
  },
  {
   "cell_type": "code",
   "execution_count": 211,
   "metadata": {},
   "outputs": [],
   "source": [
    "df['Overall Restaurant Rating']=df['Overall Restaurant Rating'].replace(np.nan,0)"
   ]
  },
  {
   "cell_type": "code",
   "execution_count": 212,
   "metadata": {
    "scrolled": false
   },
   "outputs": [
    {
     "data": {
      "text/plain": [
       "<AxesSubplot:xlabel='Overall Restaurant Rating', ylabel='Annual Turnover'>"
      ]
     },
     "execution_count": 212,
     "metadata": {},
     "output_type": "execute_result"
    },
    {
     "data": {
      "image/png": "[encoded data removed]",
      "text/plain": [
       "<Figure size 432x288 with 1 Axes>"
      ]
     },
     "metadata": {
      "needs_background": "light"
     },
     "output_type": "display_data"
    }
   ],
   "source": [
    "sns.barplot(df['Overall Restaurant Rating'],df['Annual Turnover'])"
   ]
  },
  {
   "cell_type": "code",
   "execution_count": 213,
   "metadata": {
    "scrolled": true
   },
   "outputs": [
    {
     "data": {
      "text/plain": [
       "Live Music Rating    21.712998\n",
       "Ambience              0.626096\n",
       "dtype: float64"
      ]
     },
     "execution_count": 213,
     "metadata": {},
     "output_type": "execute_result"
    }
   ],
   "source": [
    "null=df.isna().sum()/len(df)*100\n",
    "null[null>0]"
   ]
  },
  {
   "cell_type": "markdown",
   "metadata": {},
   "source": [
    "### Ambience"
   ]
  },
  {
   "cell_type": "code",
   "execution_count": 214,
   "metadata": {
    "scrolled": false
   },
   "outputs": [
    {
     "data": {
      "text/plain": [
       "6.0     783\n",
       "8.0     752\n",
       "7.0     685\n",
       "5.0     428\n",
       "9.0     403\n",
       "4.0     401\n",
       "10.0    184\n",
       "3.0     167\n",
       "2.0     103\n",
       "1.0      34\n",
       "0.0      28\n",
       "Name: Ambience, dtype: int64"
      ]
     },
     "execution_count": 214,
     "metadata": {},
     "output_type": "execute_result"
    }
   ],
   "source": [
    "df['Ambience'].value_counts()"
   ]
  },
  {
   "cell_type": "code",
   "execution_count": 215,
   "metadata": {},
   "outputs": [],
   "source": [
    "df['Ambience']=df['Ambience'].replace(np.nan,0)"
   ]
  },
  {
   "cell_type": "code",
   "execution_count": 216,
   "metadata": {
    "scrolled": false
   },
   "outputs": [
    {
     "data": {
      "text/plain": [
       "<AxesSubplot:xlabel='Ambience', ylabel='Annual Turnover'>"
      ]
     },
     "execution_count": 216,
     "metadata": {},
     "output_type": "execute_result"
    },
    {
     "data": {
      "image/png": "[encoded data removed]",
      "text/plain": [
       "<Figure size 432x288 with 1 Axes>"
      ]
     },
     "metadata": {
      "needs_background": "light"
     },
     "output_type": "display_data"
    }
   ],
   "source": [
    "sns.barplot(df['Ambience'], df['Annual Turnover'])"
   ]
  },
  {
   "cell_type": "code",
   "execution_count": 217,
   "metadata": {
    "scrolled": true
   },
   "outputs": [
    {
     "data": {
      "text/plain": [
       "Live Music Rating    21.712998\n",
       "dtype: float64"
      ]
     },
     "execution_count": 217,
     "metadata": {},
     "output_type": "execute_result"
    }
   ],
   "source": [
    "null=df.isna().sum()/len(df)*100\n",
    "null[null>0]"
   ]
  },
  {
   "cell_type": "code",
   "execution_count": 218,
   "metadata": {},
   "outputs": [],
   "source": [
    "df['Ambience']=df['Ambience'].astype('object')"
   ]
  },
  {
   "cell_type": "code",
   "execution_count": 219,
   "metadata": {},
   "outputs": [],
   "source": [
    "# df=df.drop('Ambience', axis=1)"
   ]
  },
  {
   "cell_type": "markdown",
   "metadata": {},
   "source": [
    "### Live Music Rating"
   ]
  },
  {
   "cell_type": "code",
   "execution_count": 220,
   "metadata": {
    "scrolled": false
   },
   "outputs": [
    {
     "data": {
      "text/plain": [
       "4.0    1277\n",
       "3.0     780\n",
       "5.0     723\n",
       "6.0     183\n",
       "2.0     112\n",
       "1.0      32\n",
       "7.0      17\n",
       "8.0       2\n",
       "Name: Live Music Rating, dtype: int64"
      ]
     },
     "execution_count": 220,
     "metadata": {},
     "output_type": "execute_result"
    }
   ],
   "source": [
    "df['Live Music Rating'].value_counts()"
   ]
  },
  {
   "cell_type": "code",
   "execution_count": 221,
   "metadata": {},
   "outputs": [],
   "source": [
    "import numpy as np\n",
    "df['Live Music Rating']=df['Live Music Rating'].replace({np.nan:0})"
   ]
  },
  {
   "cell_type": "code",
   "execution_count": 222,
   "metadata": {},
   "outputs": [
    {
     "data": {
      "text/plain": [
       "<AxesSubplot:xlabel='Live Music Rating', ylabel='Annual Turnover'>"
      ]
     },
     "execution_count": 222,
     "metadata": {},
     "output_type": "execute_result"
    },
    {
     "data": {
      "image/png": "[encoded data removed]",
      "text/plain": [
       "<Figure size 432x288 with 1 Axes>"
      ]
     },
     "metadata": {
      "needs_background": "light"
     },
     "output_type": "display_data"
    }
   ],
   "source": [
    "sns.barplot(df['Live Music Rating'], df['Annual Turnover'])"
   ]
  },
  {
   "cell_type": "code",
   "execution_count": 223,
   "metadata": {
    "scrolled": true
   },
   "outputs": [
    {
     "data": {
      "text/plain": [
       "Series([], dtype: float64)"
      ]
     },
     "execution_count": 223,
     "metadata": {},
     "output_type": "execute_result"
    }
   ],
   "source": [
    "null=df.isna().sum()/len(df)*100\n",
    "null[null>0]"
   ]
  },
  {
   "cell_type": "markdown",
   "metadata": {},
   "source": [
    "# Opening Day of Restaurant"
   ]
  },
  {
   "cell_type": "code",
   "execution_count": 224,
   "metadata": {},
   "outputs": [],
   "source": [
    "df['Opening Day of Restaurant']=df['Opening Day of Restaurant'].str.slice(-4)"
   ]
  },
  {
   "cell_type": "code",
   "execution_count": 225,
   "metadata": {},
   "outputs": [
    {
     "data": {
      "text/plain": [
       "array(['2009', '2008', '2011', '2010', '2012', '2006', '2007', '2005',\n",
       "       '2013', '1996', '2004', '2014', '2016', '2002', '2003', '2000',\n",
       "       '2001'], dtype=object)"
      ]
     },
     "execution_count": 225,
     "metadata": {},
     "output_type": "execute_result"
    }
   ],
   "source": [
    "df['Opening Day of Restaurant'].unique()"
   ]
  },
  {
   "cell_type": "code",
   "execution_count": 226,
   "metadata": {},
   "outputs": [
    {
     "data": {
      "image/png": "[encoded data removed]",
      "text/plain": [
       "<Figure size 864x720 with 1 Axes>"
      ]
     },
     "metadata": {
      "needs_background": "light"
     },
     "output_type": "display_data"
    }
   ],
   "source": [
    "import matplotlib.pyplot as plt\n",
    "plt.figure(figsize=(12,10))\n",
    "sns.barplot(df['Opening Day of Restaurant'],df['Annual Turnover'])\n",
    "plt.xticks(rotation=90)\n",
    "plt.show()"
   ]
  },
  {
   "cell_type": "code",
   "execution_count": 227,
   "metadata": {},
   "outputs": [
    {
     "data": {
      "text/html": [
       "<div>\n",
       "<style scoped>\n",
       "    .dataframe tbody tr th:only-of-type {\n",
       "        vertical-align: middle;\n",
       "    }\n",
       "\n",
       "    .dataframe tbody tr th {\n",
       "        vertical-align: top;\n",
       "    }\n",
       "\n",
       "    .dataframe thead th {\n",
       "        text-align: right;\n",
       "    }\n",
       "</style>\n",
       "<table border=\"1\" class=\"dataframe\">\n",
       "  <thead>\n",
       "    <tr style=\"text-align: right;\">\n",
       "      <th></th>\n",
       "      <th>Annual Turnover</th>\n",
       "    </tr>\n",
       "    <tr>\n",
       "      <th>Opening Day of Restaurant</th>\n",
       "      <th></th>\n",
       "    </tr>\n",
       "  </thead>\n",
       "  <tbody>\n",
       "    <tr>\n",
       "      <th>2000</th>\n",
       "      <td>1.100000e+07</td>\n",
       "    </tr>\n",
       "    <tr>\n",
       "      <th>1996</th>\n",
       "      <td>1.200000e+07</td>\n",
       "    </tr>\n",
       "    <tr>\n",
       "      <th>2014</th>\n",
       "      <td>1.200000e+07</td>\n",
       "    </tr>\n",
       "    <tr>\n",
       "      <th>2011</th>\n",
       "      <td>2.385549e+07</td>\n",
       "    </tr>\n",
       "    <tr>\n",
       "      <th>2013</th>\n",
       "      <td>2.394828e+07</td>\n",
       "    </tr>\n",
       "    <tr>\n",
       "      <th>2012</th>\n",
       "      <td>2.465034e+07</td>\n",
       "    </tr>\n",
       "    <tr>\n",
       "      <th>2010</th>\n",
       "      <td>2.484079e+07</td>\n",
       "    </tr>\n",
       "    <tr>\n",
       "      <th>2009</th>\n",
       "      <td>2.757051e+07</td>\n",
       "    </tr>\n",
       "    <tr>\n",
       "      <th>2004</th>\n",
       "      <td>2.879310e+07</td>\n",
       "    </tr>\n",
       "    <tr>\n",
       "      <th>2008</th>\n",
       "      <td>2.887094e+07</td>\n",
       "    </tr>\n",
       "    <tr>\n",
       "      <th>2005</th>\n",
       "      <td>2.902542e+07</td>\n",
       "    </tr>\n",
       "    <tr>\n",
       "      <th>2001</th>\n",
       "      <td>3.000000e+07</td>\n",
       "    </tr>\n",
       "    <tr>\n",
       "      <th>2002</th>\n",
       "      <td>3.060000e+07</td>\n",
       "    </tr>\n",
       "    <tr>\n",
       "      <th>2007</th>\n",
       "      <td>3.250484e+07</td>\n",
       "    </tr>\n",
       "    <tr>\n",
       "      <th>2006</th>\n",
       "      <td>3.950413e+07</td>\n",
       "    </tr>\n",
       "    <tr>\n",
       "      <th>2016</th>\n",
       "      <td>4.500000e+07</td>\n",
       "    </tr>\n",
       "    <tr>\n",
       "      <th>2003</th>\n",
       "      <td>4.700000e+07</td>\n",
       "    </tr>\n",
       "  </tbody>\n",
       "</table>\n",
       "</div>"
      ],
      "text/plain": [
       "                           Annual Turnover\n",
       "Opening Day of Restaurant                 \n",
       "2000                          1.100000e+07\n",
       "1996                          1.200000e+07\n",
       "2014                          1.200000e+07\n",
       "2011                          2.385549e+07\n",
       "2013                          2.394828e+07\n",
       "2012                          2.465034e+07\n",
       "2010                          2.484079e+07\n",
       "2009                          2.757051e+07\n",
       "2004                          2.879310e+07\n",
       "2008                          2.887094e+07\n",
       "2005                          2.902542e+07\n",
       "2001                          3.000000e+07\n",
       "2002                          3.060000e+07\n",
       "2007                          3.250484e+07\n",
       "2006                          3.950413e+07\n",
       "2016                          4.500000e+07\n",
       "2003                          4.700000e+07"
      ]
     },
     "execution_count": 227,
     "metadata": {},
     "output_type": "execute_result"
    }
   ],
   "source": [
    "yr=df.groupby(['Opening Day of Restaurant'])[['Annual Turnover']].mean().sort_values('Annual Turnover')\n",
    "yr"
   ]
  },
  {
   "cell_type": "code",
   "execution_count": 228,
   "metadata": {
    "scrolled": true
   },
   "outputs": [
    {
     "data": {
      "text/plain": [
       "Index(['2000', '1996', '2014', '2011', '2013', '2012', '2010', '2009', '2004',\n",
       "       '2008', '2005', '2001', '2002', '2007', '2006', '2016', '2003'],\n",
       "      dtype='object', name='Opening Day of Restaurant')"
      ]
     },
     "execution_count": 228,
     "metadata": {},
     "output_type": "execute_result"
    }
   ],
   "source": [
    "yr.index"
   ]
  },
  {
   "cell_type": "code",
   "execution_count": 229,
   "metadata": {
    "scrolled": true
   },
   "outputs": [
    {
     "name": "stdout",
     "output_type": "stream",
     "text": [
      "{'2000': 1, '1996': 2, '2014': 3, '2011': 4, '2013': 5, '2012': 6, '2010': 7, '2009': 8, '2004': 9, '2008': 10, '2005': 11, '2001': 12, '2002': 13, '2007': 14, '2006': 15, '2016': 16, '2003': 17}\n"
     ]
    }
   ],
   "source": [
    "d={}\n",
    "c=1\n",
    "for i in yr.index:\n",
    "    d[i]=c\n",
    "    c=c+1\n",
    "print(d)"
   ]
  },
  {
   "cell_type": "code",
   "execution_count": 230,
   "metadata": {},
   "outputs": [],
   "source": [
    "df['Opening Day of Restaurant']=df['Opening Day of Restaurant'].map(d)"
   ]
  },
  {
   "cell_type": "code",
   "execution_count": 231,
   "metadata": {},
   "outputs": [],
   "source": [
    "df['Opening Day of Restaurant']=df['Opening Day of Restaurant'].astype('object')"
   ]
  },
  {
   "cell_type": "code",
   "execution_count": 232,
   "metadata": {},
   "outputs": [],
   "source": [
    "#drop city column\n",
    "df=df.drop('City', axis=1)"
   ]
  },
  {
   "cell_type": "code",
   "execution_count": 233,
   "metadata": {},
   "outputs": [
    {
     "data": {
      "text/html": [
       "<div>\n",
       "<style scoped>\n",
       "    .dataframe tbody tr th:only-of-type {\n",
       "        vertical-align: middle;\n",
       "    }\n",
       "\n",
       "    .dataframe tbody tr th {\n",
       "        vertical-align: top;\n",
       "    }\n",
       "\n",
       "    .dataframe thead th {\n",
       "        text-align: right;\n",
       "    }\n",
       "</style>\n",
       "<table border=\"1\" class=\"dataframe\">\n",
       "  <thead>\n",
       "    <tr style=\"text-align: right;\">\n",
       "      <th></th>\n",
       "      <th>Registration Number</th>\n",
       "      <th>Annual Turnover</th>\n",
       "      <th>Cuisine</th>\n",
       "      <th>Restaurant Location</th>\n",
       "      <th>Opening Day of Restaurant</th>\n",
       "      <th>Facebook Popularity Quotient</th>\n",
       "      <th>Endorsed By</th>\n",
       "      <th>Instagram Popularity Quotient</th>\n",
       "      <th>Fire Audit</th>\n",
       "      <th>Liquor License Obtained</th>\n",
       "      <th>Situated in a Multi Complex</th>\n",
       "      <th>Dedicated Parking</th>\n",
       "      <th>Open Sitting Available</th>\n",
       "      <th>Resturant Tier</th>\n",
       "      <th>Restaurant Type</th>\n",
       "      <th>Restaurant Theme</th>\n",
       "      <th>Restaurant Zomato Rating</th>\n",
       "      <th>Restaurant City Tier</th>\n",
       "      <th>Order Wait Time</th>\n",
       "      <th>Staff Responsivness</th>\n",
       "      <th>Value for Money</th>\n",
       "      <th>Hygiene Rating</th>\n",
       "      <th>Food Rating</th>\n",
       "      <th>Overall Restaurant Rating</th>\n",
       "      <th>Live Music Rating</th>\n",
       "      <th>Ambience</th>\n",
       "      <th>Lively</th>\n",
       "      <th>Service</th>\n",
       "      <th>Comfortablility</th>\n",
       "      <th>Privacy</th>\n",
       "    </tr>\n",
       "  </thead>\n",
       "  <tbody>\n",
       "    <tr>\n",
       "      <th>0</th>\n",
       "      <td>60001</td>\n",
       "      <td>42000000</td>\n",
       "      <td>indian,irish</td>\n",
       "      <td>Near Business Hub</td>\n",
       "      <td>8</td>\n",
       "      <td>84.3</td>\n",
       "      <td>Not Specific</td>\n",
       "      <td>95.8</td>\n",
       "      <td>1</td>\n",
       "      <td>1</td>\n",
       "      <td>1</td>\n",
       "      <td>0</td>\n",
       "      <td>1</td>\n",
       "      <td>2.0</td>\n",
       "      <td>Bar</td>\n",
       "      <td>Arabian</td>\n",
       "      <td>3</td>\n",
       "      <td>0</td>\n",
       "      <td>2</td>\n",
       "      <td>5</td>\n",
       "      <td>5</td>\n",
       "      <td>5</td>\n",
       "      <td>7</td>\n",
       "      <td>10.0</td>\n",
       "      <td>4.0</td>\n",
       "      <td>8</td>\n",
       "      <td>8</td>\n",
       "      <td>6</td>\n",
       "      <td>6</td>\n",
       "      <td>6</td>\n",
       "    </tr>\n",
       "    <tr>\n",
       "      <th>1</th>\n",
       "      <td>60002</td>\n",
       "      <td>50000000</td>\n",
       "      <td>indian,irish</td>\n",
       "      <td>Near Party Hub</td>\n",
       "      <td>10</td>\n",
       "      <td>85.4</td>\n",
       "      <td>Tier A Celebrity</td>\n",
       "      <td>85.0</td>\n",
       "      <td>1</td>\n",
       "      <td>1</td>\n",
       "      <td>1</td>\n",
       "      <td>1</td>\n",
       "      <td>0</td>\n",
       "      <td>2.0</td>\n",
       "      <td>Bar</td>\n",
       "      <td>Greek</td>\n",
       "      <td>3</td>\n",
       "      <td>0</td>\n",
       "      <td>6</td>\n",
       "      <td>6</td>\n",
       "      <td>6</td>\n",
       "      <td>7</td>\n",
       "      <td>8</td>\n",
       "      <td>9.0</td>\n",
       "      <td>0.0</td>\n",
       "      <td>5</td>\n",
       "      <td>7</td>\n",
       "      <td>7</td>\n",
       "      <td>3</td>\n",
       "      <td>8</td>\n",
       "    </tr>\n",
       "    <tr>\n",
       "      <th>2</th>\n",
       "      <td>60003</td>\n",
       "      <td>32500000</td>\n",
       "      <td>tibetan,italian</td>\n",
       "      <td>Near Business Hub</td>\n",
       "      <td>4</td>\n",
       "      <td>85.0</td>\n",
       "      <td>Tier A Celebrity</td>\n",
       "      <td>68.2</td>\n",
       "      <td>1</td>\n",
       "      <td>1</td>\n",
       "      <td>1</td>\n",
       "      <td>1</td>\n",
       "      <td>0</td>\n",
       "      <td>2.0</td>\n",
       "      <td>Bar</td>\n",
       "      <td>90's</td>\n",
       "      <td>3</td>\n",
       "      <td>0</td>\n",
       "      <td>2</td>\n",
       "      <td>6</td>\n",
       "      <td>5</td>\n",
       "      <td>3</td>\n",
       "      <td>7</td>\n",
       "      <td>8.0</td>\n",
       "      <td>3.0</td>\n",
       "      <td>7</td>\n",
       "      <td>10</td>\n",
       "      <td>5</td>\n",
       "      <td>2</td>\n",
       "      <td>8</td>\n",
       "    </tr>\n",
       "    <tr>\n",
       "      <th>3</th>\n",
       "      <td>60004</td>\n",
       "      <td>110000000</td>\n",
       "      <td>turkish,nigerian</td>\n",
       "      <td>Near Party Hub</td>\n",
       "      <td>10</td>\n",
       "      <td>85.6</td>\n",
       "      <td>Tier A Celebrity</td>\n",
       "      <td>83.6</td>\n",
       "      <td>0</td>\n",
       "      <td>1</td>\n",
       "      <td>1</td>\n",
       "      <td>1</td>\n",
       "      <td>1</td>\n",
       "      <td>1.0</td>\n",
       "      <td>Bar</td>\n",
       "      <td>Arabian</td>\n",
       "      <td>3</td>\n",
       "      <td>1</td>\n",
       "      <td>7</td>\n",
       "      <td>6</td>\n",
       "      <td>5</td>\n",
       "      <td>6</td>\n",
       "      <td>8</td>\n",
       "      <td>9.0</td>\n",
       "      <td>6.0</td>\n",
       "      <td>7</td>\n",
       "      <td>7</td>\n",
       "      <td>4</td>\n",
       "      <td>3</td>\n",
       "      <td>5</td>\n",
       "    </tr>\n",
       "    <tr>\n",
       "      <th>4</th>\n",
       "      <td>60005</td>\n",
       "      <td>20000000</td>\n",
       "      <td>irish,belgian</td>\n",
       "      <td>Near Party Hub</td>\n",
       "      <td>7</td>\n",
       "      <td>79.0</td>\n",
       "      <td>Tier A Celebrity</td>\n",
       "      <td>76.8</td>\n",
       "      <td>1</td>\n",
       "      <td>1</td>\n",
       "      <td>1</td>\n",
       "      <td>1</td>\n",
       "      <td>1</td>\n",
       "      <td>2.0</td>\n",
       "      <td>Bar</td>\n",
       "      <td>Greek</td>\n",
       "      <td>3</td>\n",
       "      <td>0</td>\n",
       "      <td>10</td>\n",
       "      <td>5</td>\n",
       "      <td>6</td>\n",
       "      <td>4</td>\n",
       "      <td>8</td>\n",
       "      <td>6.0</td>\n",
       "      <td>0.0</td>\n",
       "      <td>0</td>\n",
       "      <td>6</td>\n",
       "      <td>2</td>\n",
       "      <td>4</td>\n",
       "      <td>6</td>\n",
       "    </tr>\n",
       "  </tbody>\n",
       "</table>\n",
       "</div>"
      ],
      "text/plain": [
       "   Registration Number  Annual Turnover           Cuisine Restaurant Location  \\\n",
       "0                60001         42000000      indian,irish   Near Business Hub   \n",
       "1                60002         50000000      indian,irish      Near Party Hub   \n",
       "2                60003         32500000   tibetan,italian   Near Business Hub   \n",
       "3                60004        110000000  turkish,nigerian      Near Party Hub   \n",
       "4                60005         20000000     irish,belgian      Near Party Hub   \n",
       "\n",
       "  Opening Day of Restaurant  Facebook Popularity Quotient       Endorsed By  \\\n",
       "0                         8                          84.3      Not Specific   \n",
       "1                        10                          85.4  Tier A Celebrity   \n",
       "2                         4                          85.0  Tier A Celebrity   \n",
       "3                        10                          85.6  Tier A Celebrity   \n",
       "4                         7                          79.0  Tier A Celebrity   \n",
       "\n",
       "   Instagram Popularity Quotient  Fire Audit  Liquor License Obtained  \\\n",
       "0                           95.8           1                        1   \n",
       "1                           85.0           1                        1   \n",
       "2                           68.2           1                        1   \n",
       "3                           83.6           0                        1   \n",
       "4                           76.8           1                        1   \n",
       "\n",
       "   Situated in a Multi Complex  Dedicated Parking  Open Sitting Available  \\\n",
       "0                            1                  0                       1   \n",
       "1                            1                  1                       0   \n",
       "2                            1                  1                       0   \n",
       "3                            1                  1                       1   \n",
       "4                            1                  1                       1   \n",
       "\n",
       "   Resturant Tier Restaurant Type Restaurant Theme  Restaurant Zomato Rating  \\\n",
       "0             2.0             Bar          Arabian                         3   \n",
       "1             2.0             Bar            Greek                         3   \n",
       "2             2.0             Bar             90's                         3   \n",
       "3             1.0             Bar          Arabian                         3   \n",
       "4             2.0             Bar            Greek                         3   \n",
       "\n",
       "   Restaurant City Tier  Order Wait Time  Staff Responsivness  \\\n",
       "0                     0                2                    5   \n",
       "1                     0                6                    6   \n",
       "2                     0                2                    6   \n",
       "3                     1                7                    6   \n",
       "4                     0               10                    5   \n",
       "\n",
       "   Value for Money  Hygiene Rating  Food Rating  Overall Restaurant Rating  \\\n",
       "0                5               5            7                       10.0   \n",
       "1                6               7            8                        9.0   \n",
       "2                5               3            7                        8.0   \n",
       "3                5               6            8                        9.0   \n",
       "4                6               4            8                        6.0   \n",
       "\n",
       "   Live Music Rating Ambience  Lively  Service  Comfortablility  Privacy  \n",
       "0                4.0        8       8        6                6        6  \n",
       "1                0.0        5       7        7                3        8  \n",
       "2                3.0        7      10        5                2        8  \n",
       "3                6.0        7       7        4                3        5  \n",
       "4                0.0        0       6        2                4        6  "
      ]
     },
     "execution_count": 233,
     "metadata": {},
     "output_type": "execute_result"
    }
   ],
   "source": [
    "df.head()"
   ]
  },
  {
   "cell_type": "code",
   "execution_count": 234,
   "metadata": {
    "scrolled": false
   },
   "outputs": [
    {
     "name": "stdout",
     "output_type": "stream",
     "text": [
      "<class 'pandas.core.frame.DataFrame'>\n",
      "Int64Index: 3993 entries, 0 to 499\n",
      "Data columns (total 30 columns):\n",
      " #   Column                         Non-Null Count  Dtype  \n",
      "---  ------                         --------------  -----  \n",
      " 0   Registration Number            3993 non-null   int64  \n",
      " 1   Annual Turnover                3993 non-null   int64  \n",
      " 2   Cuisine                        3993 non-null   object \n",
      " 3   Restaurant Location            3993 non-null   object \n",
      " 4   Opening Day of Restaurant      3993 non-null   object \n",
      " 5   Facebook Popularity Quotient   3993 non-null   float64\n",
      " 6   Endorsed By                    3993 non-null   object \n",
      " 7   Instagram Popularity Quotient  3993 non-null   float64\n",
      " 8   Fire Audit                     3993 non-null   int64  \n",
      " 9   Liquor License Obtained        3993 non-null   int64  \n",
      " 10  Situated in a Multi Complex    3993 non-null   int64  \n",
      " 11  Dedicated Parking              3993 non-null   int64  \n",
      " 12  Open Sitting Available         3993 non-null   int64  \n",
      " 13  Resturant Tier                 3993 non-null   float64\n",
      " 14  Restaurant Type                3993 non-null   object \n",
      " 15  Restaurant Theme               3993 non-null   object \n",
      " 16  Restaurant Zomato Rating       3993 non-null   int64  \n",
      " 17  Restaurant City Tier           3993 non-null   int64  \n",
      " 18  Order Wait Time                3993 non-null   int64  \n",
      " 19  Staff Responsivness            3993 non-null   int64  \n",
      " 20  Value for Money                3993 non-null   int64  \n",
      " 21  Hygiene Rating                 3993 non-null   int64  \n",
      " 22  Food Rating                    3993 non-null   int64  \n",
      " 23  Overall Restaurant Rating      3993 non-null   float64\n",
      " 24  Live Music Rating              3993 non-null   float64\n",
      " 25  Ambience                       3993 non-null   object \n",
      " 26  Lively                         3993 non-null   int64  \n",
      " 27  Service                        3993 non-null   int64  \n",
      " 28  Comfortablility                3993 non-null   int64  \n",
      " 29  Privacy                        3993 non-null   int64  \n",
      "dtypes: float64(5), int64(18), object(7)\n",
      "memory usage: 1.1+ MB\n"
     ]
    }
   ],
   "source": [
    "df.info()"
   ]
  },
  {
   "cell_type": "markdown",
   "metadata": {},
   "source": [
    "# Restaurant City Tier"
   ]
  },
  {
   "cell_type": "code",
   "execution_count": 235,
   "metadata": {
    "scrolled": false
   },
   "outputs": [
    {
     "data": {
      "text/plain": [
       "0    2794\n",
       "1    1199\n",
       "Name: Restaurant City Tier, dtype: int64"
      ]
     },
     "execution_count": 235,
     "metadata": {},
     "output_type": "execute_result"
    }
   ],
   "source": [
    "df['Restaurant City Tier'].value_counts()"
   ]
  },
  {
   "cell_type": "code",
   "execution_count": 236,
   "metadata": {},
   "outputs": [],
   "source": [
    "df['Restaurant City Tier']=df['Restaurant City Tier'].astype('object')"
   ]
  },
  {
   "cell_type": "code",
   "execution_count": 237,
   "metadata": {},
   "outputs": [
    {
     "data": {
      "text/plain": [
       "dtype('O')"
      ]
     },
     "execution_count": 237,
     "metadata": {},
     "output_type": "execute_result"
    }
   ],
   "source": [
    "df['Restaurant City Tier'].dtype"
   ]
  },
  {
   "cell_type": "code",
   "execution_count": 238,
   "metadata": {},
   "outputs": [
    {
     "data": {
      "text/plain": [
       "<AxesSubplot:xlabel='Restaurant City Tier', ylabel='Annual Turnover'>"
      ]
     },
     "execution_count": 238,
     "metadata": {},
     "output_type": "execute_result"
    },
    {
     "data": {
      "image/png": "[encoded data removed]",
      "text/plain": [
       "<Figure size 432x288 with 1 Axes>"
      ]
     },
     "metadata": {
      "needs_background": "light"
     },
     "output_type": "display_data"
    }
   ],
   "source": [
    "sns.barplot(df['Restaurant City Tier'],df['Annual Turnover'])"
   ]
  },
  {
   "cell_type": "code",
   "execution_count": 239,
   "metadata": {},
   "outputs": [],
   "source": [
    "# df=df.drop('Restaurant City Tier', axis=1)"
   ]
  },
  {
   "cell_type": "markdown",
   "metadata": {},
   "source": [
    "# Resturant Tier"
   ]
  },
  {
   "cell_type": "code",
   "execution_count": 240,
   "metadata": {},
   "outputs": [
    {
     "data": {
      "text/plain": [
       "2.0    3706\n",
       "1.0     287\n",
       "Name: Resturant Tier, dtype: int64"
      ]
     },
     "execution_count": 240,
     "metadata": {},
     "output_type": "execute_result"
    }
   ],
   "source": [
    "df['Resturant Tier'].value_counts()"
   ]
  },
  {
   "cell_type": "code",
   "execution_count": 241,
   "metadata": {},
   "outputs": [],
   "source": [
    "df['Resturant Tier']=df['Resturant Tier'].astype('object')"
   ]
  },
  {
   "cell_type": "code",
   "execution_count": 242,
   "metadata": {},
   "outputs": [
    {
     "data": {
      "text/plain": [
       "dtype('O')"
      ]
     },
     "execution_count": 242,
     "metadata": {},
     "output_type": "execute_result"
    }
   ],
   "source": [
    "df['Resturant Tier'].dtype"
   ]
  },
  {
   "cell_type": "code",
   "execution_count": 243,
   "metadata": {
    "scrolled": true
   },
   "outputs": [
    {
     "data": {
      "text/plain": [
       "<AxesSubplot:xlabel='Resturant Tier', ylabel='Annual Turnover'>"
      ]
     },
     "execution_count": 243,
     "metadata": {},
     "output_type": "execute_result"
    },
    {
     "data": {
      "image/png": "[encoded data removed]",
      "text/plain": [
       "<Figure size 432x288 with 1 Axes>"
      ]
     },
     "metadata": {
      "needs_background": "light"
     },
     "output_type": "display_data"
    }
   ],
   "source": [
    "sns.barplot(df['Resturant Tier'],df['Annual Turnover'])"
   ]
  },
  {
   "cell_type": "markdown",
   "metadata": {},
   "source": [
    "# Open Sitting Available"
   ]
  },
  {
   "cell_type": "code",
   "execution_count": 244,
   "metadata": {},
   "outputs": [
    {
     "data": {
      "text/plain": [
       "1    3197\n",
       "0     796\n",
       "Name: Open Sitting Available, dtype: int64"
      ]
     },
     "execution_count": 244,
     "metadata": {},
     "output_type": "execute_result"
    }
   ],
   "source": [
    "df['Open Sitting Available'].value_counts()"
   ]
  },
  {
   "cell_type": "code",
   "execution_count": 245,
   "metadata": {},
   "outputs": [],
   "source": [
    "df['Open Sitting Available']=df['Open Sitting Available'].astype('object')"
   ]
  },
  {
   "cell_type": "code",
   "execution_count": 246,
   "metadata": {},
   "outputs": [
    {
     "data": {
      "text/plain": [
       "dtype('O')"
      ]
     },
     "execution_count": 246,
     "metadata": {},
     "output_type": "execute_result"
    }
   ],
   "source": [
    "df['Open Sitting Available'].dtype"
   ]
  },
  {
   "cell_type": "code",
   "execution_count": 247,
   "metadata": {
    "scrolled": false
   },
   "outputs": [
    {
     "data": {
      "text/plain": [
       "<AxesSubplot:xlabel='Open Sitting Available', ylabel='Annual Turnover'>"
      ]
     },
     "execution_count": 247,
     "metadata": {},
     "output_type": "execute_result"
    },
    {
     "data": {
      "image/png": "[encoded data removed]",
      "text/plain": [
       "<Figure size 432x288 with 1 Axes>"
      ]
     },
     "metadata": {
      "needs_background": "light"
     },
     "output_type": "display_data"
    }
   ],
   "source": [
    "sns.barplot(df['Open Sitting Available'],df['Annual Turnover'])"
   ]
  },
  {
   "cell_type": "code",
   "execution_count": 248,
   "metadata": {},
   "outputs": [],
   "source": [
    "# df=df.drop('Open Sitting Available', axis=1)"
   ]
  },
  {
   "cell_type": "markdown",
   "metadata": {},
   "source": [
    "# Dedicated Parking"
   ]
  },
  {
   "cell_type": "code",
   "execution_count": 249,
   "metadata": {},
   "outputs": [
    {
     "data": {
      "text/plain": [
       "1    3205\n",
       "0     788\n",
       "Name: Dedicated Parking, dtype: int64"
      ]
     },
     "execution_count": 249,
     "metadata": {},
     "output_type": "execute_result"
    }
   ],
   "source": [
    "df['Dedicated Parking'].value_counts()"
   ]
  },
  {
   "cell_type": "code",
   "execution_count": 250,
   "metadata": {},
   "outputs": [],
   "source": [
    "df['Dedicated Parking']=df['Dedicated Parking'].astype('object')"
   ]
  },
  {
   "cell_type": "code",
   "execution_count": 251,
   "metadata": {},
   "outputs": [
    {
     "data": {
      "text/plain": [
       "dtype('O')"
      ]
     },
     "execution_count": 251,
     "metadata": {},
     "output_type": "execute_result"
    }
   ],
   "source": [
    "df['Dedicated Parking'].dtype"
   ]
  },
  {
   "cell_type": "code",
   "execution_count": 252,
   "metadata": {
    "scrolled": true
   },
   "outputs": [
    {
     "data": {
      "text/plain": [
       "<AxesSubplot:xlabel='Dedicated Parking', ylabel='Annual Turnover'>"
      ]
     },
     "execution_count": 252,
     "metadata": {},
     "output_type": "execute_result"
    },
    {
     "data": {
      "image/png": "[encoded data removed]",
      "text/plain": [
       "<Figure size 432x288 with 1 Axes>"
      ]
     },
     "metadata": {
      "needs_background": "light"
     },
     "output_type": "display_data"
    }
   ],
   "source": [
    "sns.barplot(df['Dedicated Parking'],df['Annual Turnover'])"
   ]
  },
  {
   "cell_type": "code",
   "execution_count": 253,
   "metadata": {},
   "outputs": [],
   "source": [
    "# df=df.drop('Dedicated Parking', axis=1)"
   ]
  },
  {
   "cell_type": "markdown",
   "metadata": {},
   "source": [
    "# Situated in a Multi Complex"
   ]
  },
  {
   "cell_type": "code",
   "execution_count": 254,
   "metadata": {},
   "outputs": [
    {
     "data": {
      "text/plain": [
       "1    3217\n",
       "0     776\n",
       "Name: Situated in a Multi Complex, dtype: int64"
      ]
     },
     "execution_count": 254,
     "metadata": {},
     "output_type": "execute_result"
    }
   ],
   "source": [
    "df['Situated in a Multi Complex'].value_counts()"
   ]
  },
  {
   "cell_type": "code",
   "execution_count": 255,
   "metadata": {},
   "outputs": [],
   "source": [
    "df['Situated in a Multi Complex']=df['Situated in a Multi Complex'].astype('object')"
   ]
  },
  {
   "cell_type": "code",
   "execution_count": 256,
   "metadata": {
    "scrolled": false
   },
   "outputs": [
    {
     "data": {
      "text/plain": [
       "dtype('O')"
      ]
     },
     "execution_count": 256,
     "metadata": {},
     "output_type": "execute_result"
    }
   ],
   "source": [
    "df['Situated in a Multi Complex'].dtype"
   ]
  },
  {
   "cell_type": "code",
   "execution_count": 257,
   "metadata": {},
   "outputs": [
    {
     "data": {
      "text/plain": [
       "<AxesSubplot:xlabel='Situated in a Multi Complex', ylabel='Annual Turnover'>"
      ]
     },
     "execution_count": 257,
     "metadata": {},
     "output_type": "execute_result"
    },
    {
     "data": {
      "image/png": "[encoded data removed]",
      "text/plain": [
       "<Figure size 432x288 with 1 Axes>"
      ]
     },
     "metadata": {
      "needs_background": "light"
     },
     "output_type": "display_data"
    }
   ],
   "source": [
    "sns.barplot(df['Situated in a Multi Complex'],df['Annual Turnover'])"
   ]
  },
  {
   "cell_type": "markdown",
   "metadata": {},
   "source": [
    "# Liquor License Obtained"
   ]
  },
  {
   "cell_type": "code",
   "execution_count": 258,
   "metadata": {},
   "outputs": [
    {
     "data": {
      "text/plain": [
       "1    3945\n",
       "0      48\n",
       "Name: Liquor License Obtained, dtype: int64"
      ]
     },
     "execution_count": 258,
     "metadata": {},
     "output_type": "execute_result"
    }
   ],
   "source": [
    "df['Liquor License Obtained'].value_counts()"
   ]
  },
  {
   "cell_type": "code",
   "execution_count": 259,
   "metadata": {},
   "outputs": [],
   "source": [
    "df['Liquor License Obtained']=df['Liquor License Obtained'].astype('object')"
   ]
  },
  {
   "cell_type": "code",
   "execution_count": 260,
   "metadata": {
    "scrolled": false
   },
   "outputs": [
    {
     "data": {
      "text/plain": [
       "dtype('O')"
      ]
     },
     "execution_count": 260,
     "metadata": {},
     "output_type": "execute_result"
    }
   ],
   "source": [
    "df['Liquor License Obtained'].dtype"
   ]
  },
  {
   "cell_type": "code",
   "execution_count": 261,
   "metadata": {},
   "outputs": [
    {
     "data": {
      "text/plain": [
       "<AxesSubplot:xlabel='Liquor License Obtained', ylabel='Annual Turnover'>"
      ]
     },
     "execution_count": 261,
     "metadata": {},
     "output_type": "execute_result"
    },
    {
     "data": {
      "image/png": "[encoded data removed]",
      "text/plain": [
       "<Figure size 432x288 with 1 Axes>"
      ]
     },
     "metadata": {
      "needs_background": "light"
     },
     "output_type": "display_data"
    }
   ],
   "source": [
    "sns.barplot(df['Liquor License Obtained'],df['Annual Turnover'])"
   ]
  },
  {
   "cell_type": "markdown",
   "metadata": {},
   "source": [
    "# Fire Audit"
   ]
  },
  {
   "cell_type": "code",
   "execution_count": 262,
   "metadata": {
    "scrolled": false
   },
   "outputs": [
    {
     "data": {
      "text/plain": [
       "1    3162\n",
       "0     831\n",
       "Name: Fire Audit, dtype: int64"
      ]
     },
     "execution_count": 262,
     "metadata": {},
     "output_type": "execute_result"
    }
   ],
   "source": [
    "df['Fire Audit'].value_counts()"
   ]
  },
  {
   "cell_type": "code",
   "execution_count": 263,
   "metadata": {},
   "outputs": [],
   "source": [
    "df['Fire Audit']=df['Fire Audit'].astype('object')"
   ]
  },
  {
   "cell_type": "code",
   "execution_count": 264,
   "metadata": {},
   "outputs": [
    {
     "data": {
      "text/plain": [
       "dtype('O')"
      ]
     },
     "execution_count": 264,
     "metadata": {},
     "output_type": "execute_result"
    }
   ],
   "source": [
    "df['Fire Audit'].dtypes"
   ]
  },
  {
   "cell_type": "code",
   "execution_count": 265,
   "metadata": {
    "scrolled": true
   },
   "outputs": [
    {
     "data": {
      "text/plain": [
       "<AxesSubplot:xlabel='Fire Audit', ylabel='Annual Turnover'>"
      ]
     },
     "execution_count": 265,
     "metadata": {},
     "output_type": "execute_result"
    },
    {
     "data": {
      "image/png": "[encoded data removed]",
      "text/plain": [
       "<Figure size 432x288 with 1 Axes>"
      ]
     },
     "metadata": {
      "needs_background": "light"
     },
     "output_type": "display_data"
    }
   ],
   "source": [
    "sns.barplot(df['Fire Audit'],df['Annual Turnover'])"
   ]
  },
  {
   "cell_type": "code",
   "execution_count": 266,
   "metadata": {},
   "outputs": [],
   "source": [
    "df['Privacy']=df['Privacy'].astype('object')\n",
    "df['Comfortablility']=df['Comfortablility'].astype('object')\n",
    "df['Service']=df['Service'].astype('object')\n",
    "df['Lively']=df['Lively'].astype('object')\n",
    "df['Live Music Rating']=df['Live Music Rating'].astype('object')\n",
    "df['Overall Restaurant Rating']=df['Overall Restaurant Rating'].astype('object')\n",
    "df['Food Rating']=df['Food Rating'].astype('object')\n",
    "df['Hygiene Rating']=df['Hygiene Rating'].astype('object')\n",
    "df['Value for Money']=df['Value for Money'].astype('object')\n",
    "df['Staff Responsivness']=df['Staff Responsivness'].astype('object')\n",
    "df['Order Wait Time']=df['Order Wait Time'].astype('object')\n",
    "df['Restaurant Zomato Rating']=df['Restaurant Zomato Rating'].astype('object')"
   ]
  },
  {
   "cell_type": "code",
   "execution_count": 267,
   "metadata": {},
   "outputs": [
    {
     "data": {
      "text/plain": [
       "<AxesSubplot:xlabel='Privacy', ylabel='Annual Turnover'>"
      ]
     },
     "execution_count": 267,
     "metadata": {},
     "output_type": "execute_result"
    },
    {
     "data": {
      "image/png": "[encoded data removed]",
      "text/plain": [
       "<Figure size 432x288 with 1 Axes>"
      ]
     },
     "metadata": {
      "needs_background": "light"
     },
     "output_type": "display_data"
    }
   ],
   "source": [
    "sns.barplot(df['Privacy'],df['Annual Turnover'])"
   ]
  },
  {
   "cell_type": "code",
   "execution_count": 268,
   "metadata": {},
   "outputs": [
    {
     "data": {
      "text/plain": [
       "<AxesSubplot:xlabel='Comfortablility', ylabel='Annual Turnover'>"
      ]
     },
     "execution_count": 268,
     "metadata": {},
     "output_type": "execute_result"
    },
    {
     "data": {
      "image/png": "[encoded data removed]",
      "text/plain": [
       "<Figure size 432x288 with 1 Axes>"
      ]
     },
     "metadata": {
      "needs_background": "light"
     },
     "output_type": "display_data"
    }
   ],
   "source": [
    "sns.barplot(df['Comfortablility'],df['Annual Turnover'])"
   ]
  },
  {
   "cell_type": "code",
   "execution_count": 269,
   "metadata": {},
   "outputs": [
    {
     "data": {
      "text/plain": [
       "<AxesSubplot:xlabel='Service', ylabel='Annual Turnover'>"
      ]
     },
     "execution_count": 269,
     "metadata": {},
     "output_type": "execute_result"
    },
    {
     "data": {
      "image/png": "[encoded data removed]",
      "text/plain": [
       "<Figure size 432x288 with 1 Axes>"
      ]
     },
     "metadata": {
      "needs_background": "light"
     },
     "output_type": "display_data"
    }
   ],
   "source": [
    "sns.barplot(df['Service'],df['Annual Turnover'])"
   ]
  },
  {
   "cell_type": "code",
   "execution_count": 270,
   "metadata": {},
   "outputs": [
    {
     "data": {
      "text/plain": [
       "<AxesSubplot:xlabel='Lively', ylabel='Annual Turnover'>"
      ]
     },
     "execution_count": 270,
     "metadata": {},
     "output_type": "execute_result"
    },
    {
     "data": {
      "image/png": "[encoded data removed]",
      "text/plain": [
       "<Figure size 432x288 with 1 Axes>"
      ]
     },
     "metadata": {
      "needs_background": "light"
     },
     "output_type": "display_data"
    }
   ],
   "source": [
    "sns.barplot(df['Lively'],df['Annual Turnover'])"
   ]
  },
  {
   "cell_type": "code",
   "execution_count": 271,
   "metadata": {},
   "outputs": [
    {
     "data": {
      "text/plain": [
       "<AxesSubplot:xlabel='Food Rating', ylabel='Annual Turnover'>"
      ]
     },
     "execution_count": 271,
     "metadata": {},
     "output_type": "execute_result"
    },
    {
     "data": {
      "image/png": "[encoded data removed]",
      "text/plain": [
       "<Figure size 432x288 with 1 Axes>"
      ]
     },
     "metadata": {
      "needs_background": "light"
     },
     "output_type": "display_data"
    }
   ],
   "source": [
    "sns.barplot(df['Food Rating'],df['Annual Turnover'])"
   ]
  },
  {
   "cell_type": "code",
   "execution_count": 272,
   "metadata": {},
   "outputs": [],
   "source": [
    "# df=df.drop('Food Rating', axis=1)"
   ]
  },
  {
   "cell_type": "code",
   "execution_count": 273,
   "metadata": {
    "scrolled": true
   },
   "outputs": [
    {
     "data": {
      "text/plain": [
       "<AxesSubplot:xlabel='Hygiene Rating', ylabel='Annual Turnover'>"
      ]
     },
     "execution_count": 273,
     "metadata": {},
     "output_type": "execute_result"
    },
    {
     "data": {
      "image/png": "[encoded data removed]",
      "text/plain": [
       "<Figure size 432x288 with 1 Axes>"
      ]
     },
     "metadata": {
      "needs_background": "light"
     },
     "output_type": "display_data"
    }
   ],
   "source": [
    "sns.barplot(df['Hygiene Rating'],df['Annual Turnover'])"
   ]
  },
  {
   "cell_type": "code",
   "execution_count": 274,
   "metadata": {},
   "outputs": [
    {
     "data": {
      "text/plain": [
       "<AxesSubplot:xlabel='Value for Money', ylabel='Annual Turnover'>"
      ]
     },
     "execution_count": 274,
     "metadata": {},
     "output_type": "execute_result"
    },
    {
     "data": {
      "image/png": "[encoded data removed]",
      "text/plain": [
       "<Figure size 432x288 with 1 Axes>"
      ]
     },
     "metadata": {
      "needs_background": "light"
     },
     "output_type": "display_data"
    }
   ],
   "source": [
    "sns.barplot(df['Value for Money'],df['Annual Turnover'])"
   ]
  },
  {
   "cell_type": "code",
   "execution_count": 275,
   "metadata": {},
   "outputs": [
    {
     "data": {
      "text/plain": [
       "<AxesSubplot:xlabel='Staff Responsivness', ylabel='Annual Turnover'>"
      ]
     },
     "execution_count": 275,
     "metadata": {},
     "output_type": "execute_result"
    },
    {
     "data": {
      "image/png": "[encoded data removed]",
      "text/plain": [
       "<Figure size 432x288 with 1 Axes>"
      ]
     },
     "metadata": {
      "needs_background": "light"
     },
     "output_type": "display_data"
    }
   ],
   "source": [
    "sns.barplot(df['Staff Responsivness'],df['Annual Turnover'])"
   ]
  },
  {
   "cell_type": "code",
   "execution_count": 276,
   "metadata": {
    "scrolled": true
   },
   "outputs": [
    {
     "data": {
      "text/plain": [
       "<AxesSubplot:xlabel='Order Wait Time', ylabel='Annual Turnover'>"
      ]
     },
     "execution_count": 276,
     "metadata": {},
     "output_type": "execute_result"
    },
    {
     "data": {
      "image/png": "[encoded data removed]",
      "text/plain": [
       "<Figure size 432x288 with 1 Axes>"
      ]
     },
     "metadata": {
      "needs_background": "light"
     },
     "output_type": "display_data"
    }
   ],
   "source": [
    "sns.barplot(df['Order Wait Time'],df['Annual Turnover'])"
   ]
  },
  {
   "cell_type": "code",
   "execution_count": 277,
   "metadata": {},
   "outputs": [],
   "source": [
    "# df=df.drop('Order Wait Time', axis=1)"
   ]
  },
  {
   "cell_type": "code",
   "execution_count": 278,
   "metadata": {},
   "outputs": [
    {
     "data": {
      "text/plain": [
       "<AxesSubplot:xlabel='Restaurant Zomato Rating', ylabel='Annual Turnover'>"
      ]
     },
     "execution_count": 278,
     "metadata": {},
     "output_type": "execute_result"
    },
    {
     "data": {
      "image/png": "[encoded data removed]",
      "text/plain": [
       "<Figure size 432x288 with 1 Axes>"
      ]
     },
     "metadata": {
      "needs_background": "light"
     },
     "output_type": "display_data"
    }
   ],
   "source": [
    "sns.barplot(df['Restaurant Zomato Rating'],df['Annual Turnover'])"
   ]
  },
  {
   "cell_type": "code",
   "execution_count": 279,
   "metadata": {
    "scrolled": true
   },
   "outputs": [
    {
     "name": "stdout",
     "output_type": "stream",
     "text": [
      "<class 'pandas.core.frame.DataFrame'>\n",
      "Int64Index: 3993 entries, 0 to 499\n",
      "Data columns (total 30 columns):\n",
      " #   Column                         Non-Null Count  Dtype  \n",
      "---  ------                         --------------  -----  \n",
      " 0   Registration Number            3993 non-null   int64  \n",
      " 1   Annual Turnover                3993 non-null   int64  \n",
      " 2   Cuisine                        3993 non-null   object \n",
      " 3   Restaurant Location            3993 non-null   object \n",
      " 4   Opening Day of Restaurant      3993 non-null   object \n",
      " 5   Facebook Popularity Quotient   3993 non-null   float64\n",
      " 6   Endorsed By                    3993 non-null   object \n",
      " 7   Instagram Popularity Quotient  3993 non-null   float64\n",
      " 8   Fire Audit                     3993 non-null   object \n",
      " 9   Liquor License Obtained        3993 non-null   object \n",
      " 10  Situated in a Multi Complex    3993 non-null   object \n",
      " 11  Dedicated Parking              3993 non-null   object \n",
      " 12  Open Sitting Available         3993 non-null   object \n",
      " 13  Resturant Tier                 3993 non-null   object \n",
      " 14  Restaurant Type                3993 non-null   object \n",
      " 15  Restaurant Theme               3993 non-null   object \n",
      " 16  Restaurant Zomato Rating       3993 non-null   object \n",
      " 17  Restaurant City Tier           3993 non-null   object \n",
      " 18  Order Wait Time                3993 non-null   object \n",
      " 19  Staff Responsivness            3993 non-null   object \n",
      " 20  Value for Money                3993 non-null   object \n",
      " 21  Hygiene Rating                 3993 non-null   object \n",
      " 22  Food Rating                    3993 non-null   object \n",
      " 23  Overall Restaurant Rating      3993 non-null   object \n",
      " 24  Live Music Rating              3993 non-null   object \n",
      " 25  Ambience                       3993 non-null   object \n",
      " 26  Lively                         3993 non-null   object \n",
      " 27  Service                        3993 non-null   object \n",
      " 28  Comfortablility                3993 non-null   object \n",
      " 29  Privacy                        3993 non-null   object \n",
      "dtypes: float64(2), int64(2), object(26)\n",
      "memory usage: 1.1+ MB\n"
     ]
    }
   ],
   "source": [
    "df.info()"
   ]
  },
  {
   "cell_type": "markdown",
   "metadata": {},
   "source": [
    "# Outliers"
   ]
  },
  {
   "cell_type": "code",
   "execution_count": 280,
   "metadata": {},
   "outputs": [
    {
     "data": {
      "image/png": "[encoded data removed]",
      "text/plain": [
       "<Figure size 432x288 with 1 Axes>"
      ]
     },
     "metadata": {
      "needs_background": "light"
     },
     "output_type": "display_data"
    },
    {
     "data": {
      "image/png": "[encoded data removed]",
      "text/plain": [
       "<Figure size 432x288 with 1 Axes>"
      ]
     },
     "metadata": {
      "needs_background": "light"
     },
     "output_type": "display_data"
    },
    {
     "data": {
      "image/png": "[encoded data removed]",
      "text/plain": [
       "<Figure size 432x288 with 1 Axes>"
      ]
     },
     "metadata": {
      "needs_background": "light"
     },
     "output_type": "display_data"
    },
    {
     "data": {
      "image/png": "[encoded data removed]",
      "text/plain": [
       "<Figure size 432x288 with 1 Axes>"
      ]
     },
     "metadata": {
      "needs_background": "light"
     },
     "output_type": "display_data"
    }
   ],
   "source": [
    "import matplotlib.pyplot as plt\n",
    "df_num=df.select_dtypes('number')\n",
    "for i in df_num.columns:\n",
    "    plt.subplots()\n",
    "    sns.boxplot(df[i])"
   ]
  },
  {
   "cell_type": "markdown",
   "metadata": {},
   "source": [
    "# Multicollinearity"
   ]
  },
  {
   "cell_type": "code",
   "execution_count": 281,
   "metadata": {
    "scrolled": true
   },
   "outputs": [
    {
     "data": {
      "text/plain": [
       "<AxesSubplot:>"
      ]
     },
     "execution_count": 281,
     "metadata": {},
     "output_type": "execute_result"
    },
    {
     "data": {
      "image/png": "[encoded data removed]",
      "text/plain": [
       "<Figure size 432x288 with 2 Axes>"
      ]
     },
     "metadata": {
      "needs_background": "light"
     },
     "output_type": "display_data"
    }
   ],
   "source": [
    "import matplotlib.pyplot as plt\n",
    "sns.heatmap(df.corr(), annot=True)"
   ]
  },
  {
   "cell_type": "markdown",
   "metadata": {},
   "source": [
    "### Cuisine"
   ]
  },
  {
   "cell_type": "code",
   "execution_count": 282,
   "metadata": {},
   "outputs": [
    {
     "data": {
      "text/plain": [
       "tibetan,greek          801\n",
       "welsh,thai             403\n",
       "indian,irish           318\n",
       "british,japanese       315\n",
       "tibetan,italian        311\n",
       "turkish,nigerian       246\n",
       "japanese,thai          223\n",
       "chinese,salvadorian    186\n",
       "algerian,belgian       176\n",
       "turkish,sapnish        160\n",
       "peruvian,cuban         134\n",
       "polish,jewish          127\n",
       "algerian,korean        102\n",
       "swedish,greek          102\n",
       "cuban,british           96\n",
       "irish,belgian           95\n",
       "algerian,algerian       72\n",
       "hawaiian,latvian        55\n",
       "british,belgian         43\n",
       "nigerian,cajun          28\n",
       "Name: Cuisine, dtype: int64"
      ]
     },
     "execution_count": 282,
     "metadata": {},
     "output_type": "execute_result"
    }
   ],
   "source": [
    "df['Cuisine'].value_counts()"
   ]
  },
  {
   "cell_type": "code",
   "execution_count": 283,
   "metadata": {},
   "outputs": [
    {
     "data": {
      "image/png": "[encoded data removed]",
      "text/plain": [
       "<Figure size 864x720 with 1 Axes>"
      ]
     },
     "metadata": {
      "needs_background": "light"
     },
     "output_type": "display_data"
    }
   ],
   "source": [
    "import matplotlib.pyplot as plt\n",
    "plt.figure(figsize=(12,10))\n",
    "sns.barplot(df['Cuisine'], df['Annual Turnover'])\n",
    "plt.xticks(rotation=90)\n",
    "plt.show()"
   ]
  },
  {
   "cell_type": "code",
   "execution_count": 284,
   "metadata": {},
   "outputs": [
    {
     "data": {
      "text/html": [
       "<div>\n",
       "<style scoped>\n",
       "    .dataframe tbody tr th:only-of-type {\n",
       "        vertical-align: middle;\n",
       "    }\n",
       "\n",
       "    .dataframe tbody tr th {\n",
       "        vertical-align: top;\n",
       "    }\n",
       "\n",
       "    .dataframe thead th {\n",
       "        text-align: right;\n",
       "    }\n",
       "</style>\n",
       "<table border=\"1\" class=\"dataframe\">\n",
       "  <thead>\n",
       "    <tr style=\"text-align: right;\">\n",
       "      <th></th>\n",
       "      <th>Annual Turnover</th>\n",
       "    </tr>\n",
       "    <tr>\n",
       "      <th>Cuisine</th>\n",
       "      <th></th>\n",
       "    </tr>\n",
       "  </thead>\n",
       "  <tbody>\n",
       "    <tr>\n",
       "      <th>irish,belgian</th>\n",
       "      <td>2.044211e+07</td>\n",
       "    </tr>\n",
       "    <tr>\n",
       "      <th>chinese,salvadorian</th>\n",
       "      <td>2.137634e+07</td>\n",
       "    </tr>\n",
       "    <tr>\n",
       "      <th>cuban,british</th>\n",
       "      <td>2.203125e+07</td>\n",
       "    </tr>\n",
       "    <tr>\n",
       "      <th>welsh,thai</th>\n",
       "      <td>2.226427e+07</td>\n",
       "    </tr>\n",
       "    <tr>\n",
       "      <th>nigerian,cajun</th>\n",
       "      <td>2.314286e+07</td>\n",
       "    </tr>\n",
       "    <tr>\n",
       "      <th>algerian,korean</th>\n",
       "      <td>2.366176e+07</td>\n",
       "    </tr>\n",
       "    <tr>\n",
       "      <th>peruvian,cuban</th>\n",
       "      <td>2.389925e+07</td>\n",
       "    </tr>\n",
       "    <tr>\n",
       "      <th>swedish,greek</th>\n",
       "      <td>2.448039e+07</td>\n",
       "    </tr>\n",
       "    <tr>\n",
       "      <th>turkish,sapnish</th>\n",
       "      <td>2.448438e+07</td>\n",
       "    </tr>\n",
       "    <tr>\n",
       "      <th>algerian,belgian</th>\n",
       "      <td>2.571023e+07</td>\n",
       "    </tr>\n",
       "    <tr>\n",
       "      <th>british,japanese</th>\n",
       "      <td>2.677937e+07</td>\n",
       "    </tr>\n",
       "    <tr>\n",
       "      <th>indian,irish</th>\n",
       "      <td>2.760849e+07</td>\n",
       "    </tr>\n",
       "    <tr>\n",
       "      <th>tibetan,italian</th>\n",
       "      <td>2.801286e+07</td>\n",
       "    </tr>\n",
       "    <tr>\n",
       "      <th>algerian,algerian</th>\n",
       "      <td>2.836111e+07</td>\n",
       "    </tr>\n",
       "    <tr>\n",
       "      <th>british,belgian</th>\n",
       "      <td>2.841860e+07</td>\n",
       "    </tr>\n",
       "    <tr>\n",
       "      <th>tibetan,greek</th>\n",
       "      <td>2.922597e+07</td>\n",
       "    </tr>\n",
       "    <tr>\n",
       "      <th>polish,jewish</th>\n",
       "      <td>3.018819e+07</td>\n",
       "    </tr>\n",
       "    <tr>\n",
       "      <th>japanese,thai</th>\n",
       "      <td>3.146413e+07</td>\n",
       "    </tr>\n",
       "    <tr>\n",
       "      <th>turkish,nigerian</th>\n",
       "      <td>3.186789e+07</td>\n",
       "    </tr>\n",
       "    <tr>\n",
       "      <th>hawaiian,latvian</th>\n",
       "      <td>3.318182e+07</td>\n",
       "    </tr>\n",
       "  </tbody>\n",
       "</table>\n",
       "</div>"
      ],
      "text/plain": [
       "                     Annual Turnover\n",
       "Cuisine                             \n",
       "irish,belgian           2.044211e+07\n",
       "chinese,salvadorian     2.137634e+07\n",
       "cuban,british           2.203125e+07\n",
       "welsh,thai              2.226427e+07\n",
       "nigerian,cajun          2.314286e+07\n",
       "algerian,korean         2.366176e+07\n",
       "peruvian,cuban          2.389925e+07\n",
       "swedish,greek           2.448039e+07\n",
       "turkish,sapnish         2.448438e+07\n",
       "algerian,belgian        2.571023e+07\n",
       "british,japanese        2.677937e+07\n",
       "indian,irish            2.760849e+07\n",
       "tibetan,italian         2.801286e+07\n",
       "algerian,algerian       2.836111e+07\n",
       "british,belgian         2.841860e+07\n",
       "tibetan,greek           2.922597e+07\n",
       "polish,jewish           3.018819e+07\n",
       "japanese,thai           3.146413e+07\n",
       "turkish,nigerian        3.186789e+07\n",
       "hawaiian,latvian        3.318182e+07"
      ]
     },
     "execution_count": 284,
     "metadata": {},
     "output_type": "execute_result"
    }
   ],
   "source": [
    "tmp=df.groupby(['Cuisine'])[['Annual Turnover']].mean().sort_values('Annual Turnover')\n",
    "tmp"
   ]
  },
  {
   "cell_type": "code",
   "execution_count": 285,
   "metadata": {
    "scrolled": true
   },
   "outputs": [
    {
     "data": {
      "text/plain": [
       "Index(['irish,belgian', 'chinese,salvadorian', 'cuban,british', 'welsh,thai',\n",
       "       'nigerian,cajun', 'algerian,korean', 'peruvian,cuban', 'swedish,greek',\n",
       "       'turkish,sapnish', 'algerian,belgian', 'british,japanese',\n",
       "       'indian,irish', 'tibetan,italian', 'algerian,algerian',\n",
       "       'british,belgian', 'tibetan,greek', 'polish,jewish', 'japanese,thai',\n",
       "       'turkish,nigerian', 'hawaiian,latvian'],\n",
       "      dtype='object', name='Cuisine')"
      ]
     },
     "execution_count": 285,
     "metadata": {},
     "output_type": "execute_result"
    }
   ],
   "source": [
    "tmp.index"
   ]
  },
  {
   "cell_type": "code",
   "execution_count": 286,
   "metadata": {
    "scrolled": true
   },
   "outputs": [
    {
     "name": "stdout",
     "output_type": "stream",
     "text": [
      "{'irish,belgian': 1, 'chinese,salvadorian': 2, 'cuban,british': 3, 'welsh,thai': 4, 'nigerian,cajun': 5, 'algerian,korean': 6, 'peruvian,cuban': 7, 'swedish,greek': 8, 'turkish,sapnish': 9, 'algerian,belgian': 10, 'british,japanese': 11, 'indian,irish': 12, 'tibetan,italian': 13, 'algerian,algerian': 14, 'british,belgian': 15, 'tibetan,greek': 16, 'polish,jewish': 17, 'japanese,thai': 18, 'turkish,nigerian': 19, 'hawaiian,latvian': 20}\n"
     ]
    }
   ],
   "source": [
    "d={}\n",
    "c=1\n",
    "for i in tmp.index:\n",
    "    d[i]=c\n",
    "    c=c+1\n",
    "print(d)"
   ]
  },
  {
   "cell_type": "code",
   "execution_count": 287,
   "metadata": {},
   "outputs": [],
   "source": [
    "df['Cuisine']=df['Cuisine'].map(d)"
   ]
  },
  {
   "cell_type": "code",
   "execution_count": 288,
   "metadata": {},
   "outputs": [],
   "source": [
    "df['Cuisine']=df['Cuisine'].astype('object')"
   ]
  },
  {
   "cell_type": "markdown",
   "metadata": {},
   "source": [
    "### Restaurant Location"
   ]
  },
  {
   "cell_type": "code",
   "execution_count": 289,
   "metadata": {
    "scrolled": true
   },
   "outputs": [
    {
     "data": {
      "text/plain": [
       "<AxesSubplot:xlabel='Restaurant Location', ylabel='Annual Turnover'>"
      ]
     },
     "execution_count": 289,
     "metadata": {},
     "output_type": "execute_result"
    },
    {
     "data": {
      "image/png": "[encoded data removed]",
      "text/plain": [
       "<Figure size 432x288 with 1 Axes>"
      ]
     },
     "metadata": {
      "needs_background": "light"
     },
     "output_type": "display_data"
    }
   ],
   "source": [
    "sns.barplot(df['Restaurant Location'],df['Annual Turnover'])"
   ]
  },
  {
   "cell_type": "code",
   "execution_count": 290,
   "metadata": {
    "scrolled": true
   },
   "outputs": [
    {
     "data": {
      "text/plain": [
       "Near Party Hub       3036\n",
       "Near Business Hub     957\n",
       "Name: Restaurant Location, dtype: int64"
      ]
     },
     "execution_count": 290,
     "metadata": {},
     "output_type": "execute_result"
    }
   ],
   "source": [
    "df['Restaurant Location'].value_counts()"
   ]
  },
  {
   "cell_type": "markdown",
   "metadata": {},
   "source": [
    "### Endorsed By"
   ]
  },
  {
   "cell_type": "code",
   "execution_count": 291,
   "metadata": {},
   "outputs": [
    {
     "data": {
      "text/plain": [
       "Not Specific        2260\n",
       "Tier A Celebrity    1696\n",
       "Local Celebrity       37\n",
       "Name: Endorsed By, dtype: int64"
      ]
     },
     "execution_count": 291,
     "metadata": {},
     "output_type": "execute_result"
    }
   ],
   "source": [
    "df['Endorsed By'].value_counts()"
   ]
  },
  {
   "cell_type": "code",
   "execution_count": 292,
   "metadata": {},
   "outputs": [
    {
     "data": {
      "text/plain": [
       "<AxesSubplot:xlabel='Endorsed By', ylabel='Annual Turnover'>"
      ]
     },
     "execution_count": 292,
     "metadata": {},
     "output_type": "execute_result"
    },
    {
     "data": {
      "image/png": "[encoded data removed]",
      "text/plain": [
       "<Figure size 432x288 with 1 Axes>"
      ]
     },
     "metadata": {
      "needs_background": "light"
     },
     "output_type": "display_data"
    }
   ],
   "source": [
    "sns.barplot(df['Endorsed By'],df['Annual Turnover'])"
   ]
  },
  {
   "cell_type": "markdown",
   "metadata": {},
   "source": [
    "## Restaurant Type"
   ]
  },
  {
   "cell_type": "code",
   "execution_count": 293,
   "metadata": {
    "scrolled": true
   },
   "outputs": [
    {
     "data": {
      "text/plain": [
       "<AxesSubplot:xlabel='Restaurant Type', ylabel='Annual Turnover'>"
      ]
     },
     "execution_count": 293,
     "metadata": {},
     "output_type": "execute_result"
    },
    {
     "data": {
      "image/png": "[encoded data removed]",
      "text/plain": [
       "<Figure size 432x288 with 1 Axes>"
      ]
     },
     "metadata": {
      "needs_background": "light"
     },
     "output_type": "display_data"
    }
   ],
   "source": [
    "sns.barplot(df['Restaurant Type'], df['Annual Turnover'])"
   ]
  },
  {
   "cell_type": "code",
   "execution_count": 294,
   "metadata": {},
   "outputs": [
    {
     "data": {
      "text/plain": [
       "Bar                         3695\n",
       "Caffee                       243\n",
       "Gastro Bar                    53\n",
       "Buffet/Family Restaurant       2\n",
       "Name: Restaurant Type, dtype: int64"
      ]
     },
     "execution_count": 294,
     "metadata": {},
     "output_type": "execute_result"
    }
   ],
   "source": [
    "df['Restaurant Type'].value_counts()"
   ]
  },
  {
   "cell_type": "markdown",
   "metadata": {},
   "source": [
    "# Restaurant Theme"
   ]
  },
  {
   "cell_type": "code",
   "execution_count": 295,
   "metadata": {
    "scrolled": true
   },
   "outputs": [
    {
     "data": {
      "text/plain": [
       "Arabian      1592\n",
       "Greek        1163\n",
       "90's          659\n",
       "Nature        201\n",
       "Parsi         121\n",
       "Chinese        82\n",
       "Molino         29\n",
       "Delicio        27\n",
       "English        20\n",
       "Belise         15\n",
       "Moonrise       13\n",
       "Downtown       10\n",
       "Mise En         9\n",
       "TheGem          6\n",
       "Carbone         6\n",
       "Marco           5\n",
       "Petit           5\n",
       "Benedicta       4\n",
       "Picante         4\n",
       "Umami           3\n",
       "Savory          2\n",
       "Bettaso         2\n",
       "Cafepro         2\n",
       "Ambiance        2\n",
       "Resca           2\n",
       "Italica         1\n",
       "Grand           1\n",
       "Bakery          1\n",
       "Sage            1\n",
       "Piquant         1\n",
       "Flavors         1\n",
       "Cinnamon        1\n",
       "Spoon           1\n",
       "LaCuisine       1\n",
       "Name: Restaurant Theme, dtype: int64"
      ]
     },
     "execution_count": 295,
     "metadata": {},
     "output_type": "execute_result"
    }
   ],
   "source": [
    "df['Restaurant Theme'].value_counts()"
   ]
  },
  {
   "cell_type": "code",
   "execution_count": 296,
   "metadata": {},
   "outputs": [
    {
     "data": {
      "image/png": "[encoded data removed]",
      "text/plain": [
       "<Figure size 864x720 with 1 Axes>"
      ]
     },
     "metadata": {
      "needs_background": "light"
     },
     "output_type": "display_data"
    }
   ],
   "source": [
    "plt.figure(figsize=(12,10))\n",
    "sns.barplot(df['Restaurant Theme'], df['Annual Turnover'])\n",
    "plt.xticks(rotation=90)\n",
    "plt.show()"
   ]
  },
  {
   "cell_type": "code",
   "execution_count": 297,
   "metadata": {},
   "outputs": [
    {
     "data": {
      "text/html": [
       "<div>\n",
       "<style scoped>\n",
       "    .dataframe tbody tr th:only-of-type {\n",
       "        vertical-align: middle;\n",
       "    }\n",
       "\n",
       "    .dataframe tbody tr th {\n",
       "        vertical-align: top;\n",
       "    }\n",
       "\n",
       "    .dataframe thead th {\n",
       "        text-align: right;\n",
       "    }\n",
       "</style>\n",
       "<table border=\"1\" class=\"dataframe\">\n",
       "  <thead>\n",
       "    <tr style=\"text-align: right;\">\n",
       "      <th></th>\n",
       "      <th>Annual Turnover</th>\n",
       "    </tr>\n",
       "    <tr>\n",
       "      <th>Restaurant Theme</th>\n",
       "      <th></th>\n",
       "    </tr>\n",
       "  </thead>\n",
       "  <tbody>\n",
       "    <tr>\n",
       "      <th>Ambiance</th>\n",
       "      <td>7.250000e+06</td>\n",
       "    </tr>\n",
       "    <tr>\n",
       "      <th>Spoon</th>\n",
       "      <td>1.000000e+07</td>\n",
       "    </tr>\n",
       "    <tr>\n",
       "      <th>Grand</th>\n",
       "      <td>1.000000e+07</td>\n",
       "    </tr>\n",
       "    <tr>\n",
       "      <th>Umami</th>\n",
       "      <td>1.483333e+07</td>\n",
       "    </tr>\n",
       "    <tr>\n",
       "      <th>Picante</th>\n",
       "      <td>1.800000e+07</td>\n",
       "    </tr>\n",
       "    <tr>\n",
       "      <th>Marco</th>\n",
       "      <td>1.960000e+07</td>\n",
       "    </tr>\n",
       "    <tr>\n",
       "      <th>Cinnamon</th>\n",
       "      <td>2.000000e+07</td>\n",
       "    </tr>\n",
       "    <tr>\n",
       "      <th>Resca</th>\n",
       "      <td>2.100000e+07</td>\n",
       "    </tr>\n",
       "    <tr>\n",
       "      <th>Moonrise</th>\n",
       "      <td>2.134615e+07</td>\n",
       "    </tr>\n",
       "    <tr>\n",
       "      <th>Benedicta</th>\n",
       "      <td>2.287500e+07</td>\n",
       "    </tr>\n",
       "    <tr>\n",
       "      <th>Carbone</th>\n",
       "      <td>2.383333e+07</td>\n",
       "    </tr>\n",
       "    <tr>\n",
       "      <th>Parsi</th>\n",
       "      <td>2.425620e+07</td>\n",
       "    </tr>\n",
       "    <tr>\n",
       "      <th>Delicio</th>\n",
       "      <td>2.433333e+07</td>\n",
       "    </tr>\n",
       "    <tr>\n",
       "      <th>Mise En</th>\n",
       "      <td>2.444444e+07</td>\n",
       "    </tr>\n",
       "    <tr>\n",
       "      <th>TheGem</th>\n",
       "      <td>2.458333e+07</td>\n",
       "    </tr>\n",
       "    <tr>\n",
       "      <th>Belise</th>\n",
       "      <td>2.473333e+07</td>\n",
       "    </tr>\n",
       "    <tr>\n",
       "      <th>Chinese</th>\n",
       "      <td>2.609756e+07</td>\n",
       "    </tr>\n",
       "    <tr>\n",
       "      <th>Petit</th>\n",
       "      <td>2.610000e+07</td>\n",
       "    </tr>\n",
       "    <tr>\n",
       "      <th>Greek</th>\n",
       "      <td>2.615778e+07</td>\n",
       "    </tr>\n",
       "    <tr>\n",
       "      <th>Arabian</th>\n",
       "      <td>2.727136e+07</td>\n",
       "    </tr>\n",
       "    <tr>\n",
       "      <th>90's</th>\n",
       "      <td>2.728680e+07</td>\n",
       "    </tr>\n",
       "    <tr>\n",
       "      <th>Molino</th>\n",
       "      <td>2.768966e+07</td>\n",
       "    </tr>\n",
       "    <tr>\n",
       "      <th>Nature</th>\n",
       "      <td>2.815373e+07</td>\n",
       "    </tr>\n",
       "    <tr>\n",
       "      <th>Italica</th>\n",
       "      <td>3.050000e+07</td>\n",
       "    </tr>\n",
       "    <tr>\n",
       "      <th>Flavors</th>\n",
       "      <td>3.200000e+07</td>\n",
       "    </tr>\n",
       "    <tr>\n",
       "      <th>Bakery</th>\n",
       "      <td>3.350000e+07</td>\n",
       "    </tr>\n",
       "    <tr>\n",
       "      <th>Bettaso</th>\n",
       "      <td>3.375000e+07</td>\n",
       "    </tr>\n",
       "    <tr>\n",
       "      <th>Sage</th>\n",
       "      <td>3.600000e+07</td>\n",
       "    </tr>\n",
       "    <tr>\n",
       "      <th>Cafepro</th>\n",
       "      <td>3.700000e+07</td>\n",
       "    </tr>\n",
       "    <tr>\n",
       "      <th>English</th>\n",
       "      <td>3.840000e+07</td>\n",
       "    </tr>\n",
       "    <tr>\n",
       "      <th>Downtown</th>\n",
       "      <td>3.845000e+07</td>\n",
       "    </tr>\n",
       "    <tr>\n",
       "      <th>Savory</th>\n",
       "      <td>3.875000e+07</td>\n",
       "    </tr>\n",
       "    <tr>\n",
       "      <th>Piquant</th>\n",
       "      <td>4.600000e+07</td>\n",
       "    </tr>\n",
       "    <tr>\n",
       "      <th>LaCuisine</th>\n",
       "      <td>7.000000e+07</td>\n",
       "    </tr>\n",
       "  </tbody>\n",
       "</table>\n",
       "</div>"
      ],
      "text/plain": [
       "                  Annual Turnover\n",
       "Restaurant Theme                 \n",
       "Ambiance             7.250000e+06\n",
       "Spoon                1.000000e+07\n",
       "Grand                1.000000e+07\n",
       "Umami                1.483333e+07\n",
       "Picante              1.800000e+07\n",
       "Marco                1.960000e+07\n",
       "Cinnamon             2.000000e+07\n",
       "Resca                2.100000e+07\n",
       "Moonrise             2.134615e+07\n",
       "Benedicta            2.287500e+07\n",
       "Carbone              2.383333e+07\n",
       "Parsi                2.425620e+07\n",
       "Delicio              2.433333e+07\n",
       "Mise En              2.444444e+07\n",
       "TheGem               2.458333e+07\n",
       "Belise               2.473333e+07\n",
       "Chinese              2.609756e+07\n",
       "Petit                2.610000e+07\n",
       "Greek                2.615778e+07\n",
       "Arabian              2.727136e+07\n",
       "90's                 2.728680e+07\n",
       "Molino               2.768966e+07\n",
       "Nature               2.815373e+07\n",
       "Italica              3.050000e+07\n",
       "Flavors              3.200000e+07\n",
       "Bakery               3.350000e+07\n",
       "Bettaso              3.375000e+07\n",
       "Sage                 3.600000e+07\n",
       "Cafepro              3.700000e+07\n",
       "English              3.840000e+07\n",
       "Downtown             3.845000e+07\n",
       "Savory               3.875000e+07\n",
       "Piquant              4.600000e+07\n",
       "LaCuisine            7.000000e+07"
      ]
     },
     "execution_count": 297,
     "metadata": {},
     "output_type": "execute_result"
    }
   ],
   "source": [
    "temp=df.groupby(['Restaurant Theme'])[['Annual Turnover']].mean().sort_values('Annual Turnover')\n",
    "temp"
   ]
  },
  {
   "cell_type": "code",
   "execution_count": 298,
   "metadata": {
    "scrolled": true
   },
   "outputs": [
    {
     "data": {
      "text/plain": [
       "Index(['Ambiance', 'Spoon', 'Grand', 'Umami', 'Picante', 'Marco', 'Cinnamon',\n",
       "       'Resca', 'Moonrise', 'Benedicta', 'Carbone', 'Parsi', 'Delicio',\n",
       "       'Mise En', 'TheGem', 'Belise', 'Chinese', 'Petit', 'Greek', 'Arabian',\n",
       "       '90's', 'Molino', 'Nature', 'Italica', 'Flavors', 'Bakery', 'Bettaso',\n",
       "       'Sage', 'Cafepro', 'English', 'Downtown', 'Savory', 'Piquant',\n",
       "       'LaCuisine'],\n",
       "      dtype='object', name='Restaurant Theme')"
      ]
     },
     "execution_count": 298,
     "metadata": {},
     "output_type": "execute_result"
    }
   ],
   "source": [
    "temp.index"
   ]
  },
  {
   "cell_type": "code",
   "execution_count": 299,
   "metadata": {
    "scrolled": true
   },
   "outputs": [
    {
     "name": "stdout",
     "output_type": "stream",
     "text": [
      "{'Ambiance': 1, 'Spoon': 2, 'Grand': 3, 'Umami': 4, 'Picante': 5, 'Marco': 6, 'Cinnamon': 7, 'Resca': 8, 'Moonrise': 9, 'Benedicta': 10, 'Carbone': 11, 'Parsi': 12, 'Delicio': 13, 'Mise En': 14, 'TheGem': 15, 'Belise': 16, 'Chinese': 17, 'Petit': 18, 'Greek': 19, 'Arabian': 20, \"90's\": 21, 'Molino': 22, 'Nature': 23, 'Italica': 24, 'Flavors': 25, 'Bakery': 26, 'Bettaso': 27, 'Sage': 28, 'Cafepro': 29, 'English': 30, 'Downtown': 31, 'Savory': 32, 'Piquant': 33, 'LaCuisine': 34}\n"
     ]
    }
   ],
   "source": [
    "d={}\n",
    "c=1\n",
    "for i in temp.index:\n",
    "    d[i]=c\n",
    "    c=c+1\n",
    "print(d)"
   ]
  },
  {
   "cell_type": "code",
   "execution_count": 300,
   "metadata": {},
   "outputs": [],
   "source": [
    "df['Restaurant Theme']=df['Restaurant Theme'].map(d)"
   ]
  },
  {
   "cell_type": "code",
   "execution_count": 301,
   "metadata": {},
   "outputs": [],
   "source": [
    "df['Restaurant Theme']=df['Restaurant Theme'].astype('object')"
   ]
  },
  {
   "cell_type": "code",
   "execution_count": 302,
   "metadata": {},
   "outputs": [
    {
     "data": {
      "text/html": [
       "<div>\n",
       "<style scoped>\n",
       "    .dataframe tbody tr th:only-of-type {\n",
       "        vertical-align: middle;\n",
       "    }\n",
       "\n",
       "    .dataframe tbody tr th {\n",
       "        vertical-align: top;\n",
       "    }\n",
       "\n",
       "    .dataframe thead th {\n",
       "        text-align: right;\n",
       "    }\n",
       "</style>\n",
       "<table border=\"1\" class=\"dataframe\">\n",
       "  <thead>\n",
       "    <tr style=\"text-align: right;\">\n",
       "      <th></th>\n",
       "      <th>Registration Number</th>\n",
       "      <th>Annual Turnover</th>\n",
       "      <th>Cuisine</th>\n",
       "      <th>Restaurant Location</th>\n",
       "      <th>Opening Day of Restaurant</th>\n",
       "      <th>Facebook Popularity Quotient</th>\n",
       "      <th>Endorsed By</th>\n",
       "      <th>Instagram Popularity Quotient</th>\n",
       "      <th>Fire Audit</th>\n",
       "      <th>Liquor License Obtained</th>\n",
       "      <th>Situated in a Multi Complex</th>\n",
       "      <th>Dedicated Parking</th>\n",
       "      <th>Open Sitting Available</th>\n",
       "      <th>Resturant Tier</th>\n",
       "      <th>Restaurant Type</th>\n",
       "      <th>Restaurant Theme</th>\n",
       "      <th>Restaurant Zomato Rating</th>\n",
       "      <th>Restaurant City Tier</th>\n",
       "      <th>Order Wait Time</th>\n",
       "      <th>Staff Responsivness</th>\n",
       "      <th>Value for Money</th>\n",
       "      <th>Hygiene Rating</th>\n",
       "      <th>Food Rating</th>\n",
       "      <th>Overall Restaurant Rating</th>\n",
       "      <th>Live Music Rating</th>\n",
       "      <th>Ambience</th>\n",
       "      <th>Lively</th>\n",
       "      <th>Service</th>\n",
       "      <th>Comfortablility</th>\n",
       "      <th>Privacy</th>\n",
       "    </tr>\n",
       "  </thead>\n",
       "  <tbody>\n",
       "    <tr>\n",
       "      <th>0</th>\n",
       "      <td>60001</td>\n",
       "      <td>42000000</td>\n",
       "      <td>12</td>\n",
       "      <td>Near Business Hub</td>\n",
       "      <td>8</td>\n",
       "      <td>84.3</td>\n",
       "      <td>Not Specific</td>\n",
       "      <td>95.8</td>\n",
       "      <td>1</td>\n",
       "      <td>1</td>\n",
       "      <td>1</td>\n",
       "      <td>0</td>\n",
       "      <td>1</td>\n",
       "      <td>2</td>\n",
       "      <td>Bar</td>\n",
       "      <td>20</td>\n",
       "      <td>3</td>\n",
       "      <td>0</td>\n",
       "      <td>2</td>\n",
       "      <td>5</td>\n",
       "      <td>5</td>\n",
       "      <td>5</td>\n",
       "      <td>7</td>\n",
       "      <td>10</td>\n",
       "      <td>4</td>\n",
       "      <td>8</td>\n",
       "      <td>8</td>\n",
       "      <td>6</td>\n",
       "      <td>6</td>\n",
       "      <td>6</td>\n",
       "    </tr>\n",
       "    <tr>\n",
       "      <th>1</th>\n",
       "      <td>60002</td>\n",
       "      <td>50000000</td>\n",
       "      <td>12</td>\n",
       "      <td>Near Party Hub</td>\n",
       "      <td>10</td>\n",
       "      <td>85.4</td>\n",
       "      <td>Tier A Celebrity</td>\n",
       "      <td>85.0</td>\n",
       "      <td>1</td>\n",
       "      <td>1</td>\n",
       "      <td>1</td>\n",
       "      <td>1</td>\n",
       "      <td>0</td>\n",
       "      <td>2</td>\n",
       "      <td>Bar</td>\n",
       "      <td>19</td>\n",
       "      <td>3</td>\n",
       "      <td>0</td>\n",
       "      <td>6</td>\n",
       "      <td>6</td>\n",
       "      <td>6</td>\n",
       "      <td>7</td>\n",
       "      <td>8</td>\n",
       "      <td>9</td>\n",
       "      <td>0</td>\n",
       "      <td>5</td>\n",
       "      <td>7</td>\n",
       "      <td>7</td>\n",
       "      <td>3</td>\n",
       "      <td>8</td>\n",
       "    </tr>\n",
       "    <tr>\n",
       "      <th>2</th>\n",
       "      <td>60003</td>\n",
       "      <td>32500000</td>\n",
       "      <td>13</td>\n",
       "      <td>Near Business Hub</td>\n",
       "      <td>4</td>\n",
       "      <td>85.0</td>\n",
       "      <td>Tier A Celebrity</td>\n",
       "      <td>68.2</td>\n",
       "      <td>1</td>\n",
       "      <td>1</td>\n",
       "      <td>1</td>\n",
       "      <td>1</td>\n",
       "      <td>0</td>\n",
       "      <td>2</td>\n",
       "      <td>Bar</td>\n",
       "      <td>21</td>\n",
       "      <td>3</td>\n",
       "      <td>0</td>\n",
       "      <td>2</td>\n",
       "      <td>6</td>\n",
       "      <td>5</td>\n",
       "      <td>3</td>\n",
       "      <td>7</td>\n",
       "      <td>8</td>\n",
       "      <td>3</td>\n",
       "      <td>7</td>\n",
       "      <td>10</td>\n",
       "      <td>5</td>\n",
       "      <td>2</td>\n",
       "      <td>8</td>\n",
       "    </tr>\n",
       "    <tr>\n",
       "      <th>3</th>\n",
       "      <td>60004</td>\n",
       "      <td>110000000</td>\n",
       "      <td>19</td>\n",
       "      <td>Near Party Hub</td>\n",
       "      <td>10</td>\n",
       "      <td>85.6</td>\n",
       "      <td>Tier A Celebrity</td>\n",
       "      <td>83.6</td>\n",
       "      <td>0</td>\n",
       "      <td>1</td>\n",
       "      <td>1</td>\n",
       "      <td>1</td>\n",
       "      <td>1</td>\n",
       "      <td>1</td>\n",
       "      <td>Bar</td>\n",
       "      <td>20</td>\n",
       "      <td>3</td>\n",
       "      <td>1</td>\n",
       "      <td>7</td>\n",
       "      <td>6</td>\n",
       "      <td>5</td>\n",
       "      <td>6</td>\n",
       "      <td>8</td>\n",
       "      <td>9</td>\n",
       "      <td>6</td>\n",
       "      <td>7</td>\n",
       "      <td>7</td>\n",
       "      <td>4</td>\n",
       "      <td>3</td>\n",
       "      <td>5</td>\n",
       "    </tr>\n",
       "    <tr>\n",
       "      <th>4</th>\n",
       "      <td>60005</td>\n",
       "      <td>20000000</td>\n",
       "      <td>1</td>\n",
       "      <td>Near Party Hub</td>\n",
       "      <td>7</td>\n",
       "      <td>79.0</td>\n",
       "      <td>Tier A Celebrity</td>\n",
       "      <td>76.8</td>\n",
       "      <td>1</td>\n",
       "      <td>1</td>\n",
       "      <td>1</td>\n",
       "      <td>1</td>\n",
       "      <td>1</td>\n",
       "      <td>2</td>\n",
       "      <td>Bar</td>\n",
       "      <td>19</td>\n",
       "      <td>3</td>\n",
       "      <td>0</td>\n",
       "      <td>10</td>\n",
       "      <td>5</td>\n",
       "      <td>6</td>\n",
       "      <td>4</td>\n",
       "      <td>8</td>\n",
       "      <td>6</td>\n",
       "      <td>0</td>\n",
       "      <td>0</td>\n",
       "      <td>6</td>\n",
       "      <td>2</td>\n",
       "      <td>4</td>\n",
       "      <td>6</td>\n",
       "    </tr>\n",
       "  </tbody>\n",
       "</table>\n",
       "</div>"
      ],
      "text/plain": [
       "   Registration Number  Annual Turnover Cuisine Restaurant Location  \\\n",
       "0                60001         42000000      12   Near Business Hub   \n",
       "1                60002         50000000      12      Near Party Hub   \n",
       "2                60003         32500000      13   Near Business Hub   \n",
       "3                60004        110000000      19      Near Party Hub   \n",
       "4                60005         20000000       1      Near Party Hub   \n",
       "\n",
       "  Opening Day of Restaurant  Facebook Popularity Quotient       Endorsed By  \\\n",
       "0                         8                          84.3      Not Specific   \n",
       "1                        10                          85.4  Tier A Celebrity   \n",
       "2                         4                          85.0  Tier A Celebrity   \n",
       "3                        10                          85.6  Tier A Celebrity   \n",
       "4                         7                          79.0  Tier A Celebrity   \n",
       "\n",
       "   Instagram Popularity Quotient Fire Audit Liquor License Obtained  \\\n",
       "0                           95.8          1                       1   \n",
       "1                           85.0          1                       1   \n",
       "2                           68.2          1                       1   \n",
       "3                           83.6          0                       1   \n",
       "4                           76.8          1                       1   \n",
       "\n",
       "  Situated in a Multi Complex Dedicated Parking Open Sitting Available  \\\n",
       "0                           1                 0                      1   \n",
       "1                           1                 1                      0   \n",
       "2                           1                 1                      0   \n",
       "3                           1                 1                      1   \n",
       "4                           1                 1                      1   \n",
       "\n",
       "  Resturant Tier Restaurant Type Restaurant Theme Restaurant Zomato Rating  \\\n",
       "0              2             Bar               20                        3   \n",
       "1              2             Bar               19                        3   \n",
       "2              2             Bar               21                        3   \n",
       "3              1             Bar               20                        3   \n",
       "4              2             Bar               19                        3   \n",
       "\n",
       "  Restaurant City Tier Order Wait Time Staff Responsivness Value for Money  \\\n",
       "0                    0               2                   5               5   \n",
       "1                    0               6                   6               6   \n",
       "2                    0               2                   6               5   \n",
       "3                    1               7                   6               5   \n",
       "4                    0              10                   5               6   \n",
       "\n",
       "  Hygiene Rating Food Rating Overall Restaurant Rating Live Music Rating  \\\n",
       "0              5           7                        10                 4   \n",
       "1              7           8                         9                 0   \n",
       "2              3           7                         8                 3   \n",
       "3              6           8                         9                 6   \n",
       "4              4           8                         6                 0   \n",
       "\n",
       "  Ambience Lively Service Comfortablility Privacy  \n",
       "0        8      8       6               6       6  \n",
       "1        5      7       7               3       8  \n",
       "2        7     10       5               2       8  \n",
       "3        7      7       4               3       5  \n",
       "4        0      6       2               4       6  "
      ]
     },
     "execution_count": 302,
     "metadata": {},
     "output_type": "execute_result"
    }
   ],
   "source": [
    "df.head()"
   ]
  },
  {
   "cell_type": "code",
   "execution_count": null,
   "metadata": {},
   "outputs": [],
   "source": []
  },
  {
   "cell_type": "markdown",
   "metadata": {},
   "source": [
    "## Categorical Columns"
   ]
  },
  {
   "cell_type": "code",
   "execution_count": 303,
   "metadata": {
    "scrolled": false
   },
   "outputs": [
    {
     "data": {
      "text/html": [
       "<div>\n",
       "<style scoped>\n",
       "    .dataframe tbody tr th:only-of-type {\n",
       "        vertical-align: middle;\n",
       "    }\n",
       "\n",
       "    .dataframe tbody tr th {\n",
       "        vertical-align: top;\n",
       "    }\n",
       "\n",
       "    .dataframe thead th {\n",
       "        text-align: right;\n",
       "    }\n",
       "</style>\n",
       "<table border=\"1\" class=\"dataframe\">\n",
       "  <thead>\n",
       "    <tr style=\"text-align: right;\">\n",
       "      <th></th>\n",
       "      <th>Cuisine</th>\n",
       "      <th>Restaurant Location</th>\n",
       "      <th>Opening Day of Restaurant</th>\n",
       "      <th>Endorsed By</th>\n",
       "      <th>Fire Audit</th>\n",
       "      <th>Liquor License Obtained</th>\n",
       "      <th>Situated in a Multi Complex</th>\n",
       "      <th>Dedicated Parking</th>\n",
       "      <th>Open Sitting Available</th>\n",
       "      <th>Resturant Tier</th>\n",
       "      <th>Restaurant Type</th>\n",
       "      <th>Restaurant Theme</th>\n",
       "      <th>Restaurant Zomato Rating</th>\n",
       "      <th>Restaurant City Tier</th>\n",
       "      <th>Order Wait Time</th>\n",
       "      <th>Staff Responsivness</th>\n",
       "      <th>Value for Money</th>\n",
       "      <th>Hygiene Rating</th>\n",
       "      <th>Food Rating</th>\n",
       "      <th>Overall Restaurant Rating</th>\n",
       "      <th>Live Music Rating</th>\n",
       "      <th>Ambience</th>\n",
       "      <th>Lively</th>\n",
       "      <th>Service</th>\n",
       "      <th>Comfortablility</th>\n",
       "      <th>Privacy</th>\n",
       "    </tr>\n",
       "  </thead>\n",
       "  <tbody>\n",
       "    <tr>\n",
       "      <th>0</th>\n",
       "      <td>12</td>\n",
       "      <td>Near Business Hub</td>\n",
       "      <td>8</td>\n",
       "      <td>Not Specific</td>\n",
       "      <td>1</td>\n",
       "      <td>1</td>\n",
       "      <td>1</td>\n",
       "      <td>0</td>\n",
       "      <td>1</td>\n",
       "      <td>2</td>\n",
       "      <td>Bar</td>\n",
       "      <td>20</td>\n",
       "      <td>3</td>\n",
       "      <td>0</td>\n",
       "      <td>2</td>\n",
       "      <td>5</td>\n",
       "      <td>5</td>\n",
       "      <td>5</td>\n",
       "      <td>7</td>\n",
       "      <td>10</td>\n",
       "      <td>4</td>\n",
       "      <td>8</td>\n",
       "      <td>8</td>\n",
       "      <td>6</td>\n",
       "      <td>6</td>\n",
       "      <td>6</td>\n",
       "    </tr>\n",
       "    <tr>\n",
       "      <th>1</th>\n",
       "      <td>12</td>\n",
       "      <td>Near Party Hub</td>\n",
       "      <td>10</td>\n",
       "      <td>Tier A Celebrity</td>\n",
       "      <td>1</td>\n",
       "      <td>1</td>\n",
       "      <td>1</td>\n",
       "      <td>1</td>\n",
       "      <td>0</td>\n",
       "      <td>2</td>\n",
       "      <td>Bar</td>\n",
       "      <td>19</td>\n",
       "      <td>3</td>\n",
       "      <td>0</td>\n",
       "      <td>6</td>\n",
       "      <td>6</td>\n",
       "      <td>6</td>\n",
       "      <td>7</td>\n",
       "      <td>8</td>\n",
       "      <td>9</td>\n",
       "      <td>0</td>\n",
       "      <td>5</td>\n",
       "      <td>7</td>\n",
       "      <td>7</td>\n",
       "      <td>3</td>\n",
       "      <td>8</td>\n",
       "    </tr>\n",
       "    <tr>\n",
       "      <th>2</th>\n",
       "      <td>13</td>\n",
       "      <td>Near Business Hub</td>\n",
       "      <td>4</td>\n",
       "      <td>Tier A Celebrity</td>\n",
       "      <td>1</td>\n",
       "      <td>1</td>\n",
       "      <td>1</td>\n",
       "      <td>1</td>\n",
       "      <td>0</td>\n",
       "      <td>2</td>\n",
       "      <td>Bar</td>\n",
       "      <td>21</td>\n",
       "      <td>3</td>\n",
       "      <td>0</td>\n",
       "      <td>2</td>\n",
       "      <td>6</td>\n",
       "      <td>5</td>\n",
       "      <td>3</td>\n",
       "      <td>7</td>\n",
       "      <td>8</td>\n",
       "      <td>3</td>\n",
       "      <td>7</td>\n",
       "      <td>10</td>\n",
       "      <td>5</td>\n",
       "      <td>2</td>\n",
       "      <td>8</td>\n",
       "    </tr>\n",
       "    <tr>\n",
       "      <th>3</th>\n",
       "      <td>19</td>\n",
       "      <td>Near Party Hub</td>\n",
       "      <td>10</td>\n",
       "      <td>Tier A Celebrity</td>\n",
       "      <td>0</td>\n",
       "      <td>1</td>\n",
       "      <td>1</td>\n",
       "      <td>1</td>\n",
       "      <td>1</td>\n",
       "      <td>1</td>\n",
       "      <td>Bar</td>\n",
       "      <td>20</td>\n",
       "      <td>3</td>\n",
       "      <td>1</td>\n",
       "      <td>7</td>\n",
       "      <td>6</td>\n",
       "      <td>5</td>\n",
       "      <td>6</td>\n",
       "      <td>8</td>\n",
       "      <td>9</td>\n",
       "      <td>6</td>\n",
       "      <td>7</td>\n",
       "      <td>7</td>\n",
       "      <td>4</td>\n",
       "      <td>3</td>\n",
       "      <td>5</td>\n",
       "    </tr>\n",
       "    <tr>\n",
       "      <th>4</th>\n",
       "      <td>1</td>\n",
       "      <td>Near Party Hub</td>\n",
       "      <td>7</td>\n",
       "      <td>Tier A Celebrity</td>\n",
       "      <td>1</td>\n",
       "      <td>1</td>\n",
       "      <td>1</td>\n",
       "      <td>1</td>\n",
       "      <td>1</td>\n",
       "      <td>2</td>\n",
       "      <td>Bar</td>\n",
       "      <td>19</td>\n",
       "      <td>3</td>\n",
       "      <td>0</td>\n",
       "      <td>10</td>\n",
       "      <td>5</td>\n",
       "      <td>6</td>\n",
       "      <td>4</td>\n",
       "      <td>8</td>\n",
       "      <td>6</td>\n",
       "      <td>0</td>\n",
       "      <td>0</td>\n",
       "      <td>6</td>\n",
       "      <td>2</td>\n",
       "      <td>4</td>\n",
       "      <td>6</td>\n",
       "    </tr>\n",
       "  </tbody>\n",
       "</table>\n",
       "</div>"
      ],
      "text/plain": [
       "  Cuisine Restaurant Location Opening Day of Restaurant       Endorsed By  \\\n",
       "0      12   Near Business Hub                         8      Not Specific   \n",
       "1      12      Near Party Hub                        10  Tier A Celebrity   \n",
       "2      13   Near Business Hub                         4  Tier A Celebrity   \n",
       "3      19      Near Party Hub                        10  Tier A Celebrity   \n",
       "4       1      Near Party Hub                         7  Tier A Celebrity   \n",
       "\n",
       "  Fire Audit Liquor License Obtained Situated in a Multi Complex  \\\n",
       "0          1                       1                           1   \n",
       "1          1                       1                           1   \n",
       "2          1                       1                           1   \n",
       "3          0                       1                           1   \n",
       "4          1                       1                           1   \n",
       "\n",
       "  Dedicated Parking Open Sitting Available Resturant Tier Restaurant Type  \\\n",
       "0                 0                      1              2             Bar   \n",
       "1                 1                      0              2             Bar   \n",
       "2                 1                      0              2             Bar   \n",
       "3                 1                      1              1             Bar   \n",
       "4                 1                      1              2             Bar   \n",
       "\n",
       "  Restaurant Theme Restaurant Zomato Rating Restaurant City Tier  \\\n",
       "0               20                        3                    0   \n",
       "1               19                        3                    0   \n",
       "2               21                        3                    0   \n",
       "3               20                        3                    1   \n",
       "4               19                        3                    0   \n",
       "\n",
       "  Order Wait Time Staff Responsivness Value for Money Hygiene Rating  \\\n",
       "0               2                   5               5              5   \n",
       "1               6                   6               6              7   \n",
       "2               2                   6               5              3   \n",
       "3               7                   6               5              6   \n",
       "4              10                   5               6              4   \n",
       "\n",
       "  Food Rating Overall Restaurant Rating Live Music Rating Ambience Lively  \\\n",
       "0           7                        10                 4        8      8   \n",
       "1           8                         9                 0        5      7   \n",
       "2           7                         8                 3        7     10   \n",
       "3           8                         9                 6        7      7   \n",
       "4           8                         6                 0        0      6   \n",
       "\n",
       "  Service Comfortablility Privacy  \n",
       "0       6               6       6  \n",
       "1       7               3       8  \n",
       "2       5               2       8  \n",
       "3       4               3       5  \n",
       "4       2               4       6  "
      ]
     },
     "execution_count": 303,
     "metadata": {},
     "output_type": "execute_result"
    }
   ],
   "source": [
    "df_obj=df.select_dtypes('object')\n",
    "df_obj.head()"
   ]
  },
  {
   "cell_type": "code",
   "execution_count": 304,
   "metadata": {},
   "outputs": [],
   "source": [
    "df_dummy=df_obj[['Restaurant Location','Endorsed By','Fire Audit','Liquor License Obtained','Situated in a Multi Complex',\n",
    "                'Resturant Tier','Restaurant Type']]"
   ]
  },
  {
   "cell_type": "code",
   "execution_count": 305,
   "metadata": {},
   "outputs": [],
   "source": [
    "df_label=df_obj.drop(['Restaurant Location','Endorsed By','Fire Audit','Liquor License Obtained','Situated in a Multi Complex',\n",
    "                'Resturant Tier','Restaurant Type'], axis=1)"
   ]
  },
  {
   "cell_type": "code",
   "execution_count": 306,
   "metadata": {},
   "outputs": [
    {
     "data": {
      "text/html": [
       "<div>\n",
       "<style scoped>\n",
       "    .dataframe tbody tr th:only-of-type {\n",
       "        vertical-align: middle;\n",
       "    }\n",
       "\n",
       "    .dataframe tbody tr th {\n",
       "        vertical-align: top;\n",
       "    }\n",
       "\n",
       "    .dataframe thead th {\n",
       "        text-align: right;\n",
       "    }\n",
       "</style>\n",
       "<table border=\"1\" class=\"dataframe\">\n",
       "  <thead>\n",
       "    <tr style=\"text-align: right;\">\n",
       "      <th></th>\n",
       "      <th>Restaurant Location</th>\n",
       "      <th>Endorsed By</th>\n",
       "      <th>Fire Audit</th>\n",
       "      <th>Liquor License Obtained</th>\n",
       "      <th>Situated in a Multi Complex</th>\n",
       "      <th>Resturant Tier</th>\n",
       "      <th>Restaurant Type</th>\n",
       "    </tr>\n",
       "  </thead>\n",
       "  <tbody>\n",
       "    <tr>\n",
       "      <th>0</th>\n",
       "      <td>Near Business Hub</td>\n",
       "      <td>Not Specific</td>\n",
       "      <td>1</td>\n",
       "      <td>1</td>\n",
       "      <td>1</td>\n",
       "      <td>2</td>\n",
       "      <td>Bar</td>\n",
       "    </tr>\n",
       "  </tbody>\n",
       "</table>\n",
       "</div>"
      ],
      "text/plain": [
       "  Restaurant Location   Endorsed By Fire Audit Liquor License Obtained  \\\n",
       "0   Near Business Hub  Not Specific          1                       1   \n",
       "\n",
       "  Situated in a Multi Complex Resturant Tier Restaurant Type  \n",
       "0                           1              2             Bar  "
      ]
     },
     "execution_count": 306,
     "metadata": {},
     "output_type": "execute_result"
    }
   ],
   "source": [
    "df_dummy.head(1)"
   ]
  },
  {
   "cell_type": "code",
   "execution_count": 307,
   "metadata": {},
   "outputs": [
    {
     "data": {
      "text/html": [
       "<div>\n",
       "<style scoped>\n",
       "    .dataframe tbody tr th:only-of-type {\n",
       "        vertical-align: middle;\n",
       "    }\n",
       "\n",
       "    .dataframe tbody tr th {\n",
       "        vertical-align: top;\n",
       "    }\n",
       "\n",
       "    .dataframe thead th {\n",
       "        text-align: right;\n",
       "    }\n",
       "</style>\n",
       "<table border=\"1\" class=\"dataframe\">\n",
       "  <thead>\n",
       "    <tr style=\"text-align: right;\">\n",
       "      <th></th>\n",
       "      <th>Cuisine</th>\n",
       "      <th>Opening Day of Restaurant</th>\n",
       "      <th>Dedicated Parking</th>\n",
       "      <th>Open Sitting Available</th>\n",
       "      <th>Restaurant Theme</th>\n",
       "      <th>Restaurant Zomato Rating</th>\n",
       "      <th>Restaurant City Tier</th>\n",
       "      <th>Order Wait Time</th>\n",
       "      <th>Staff Responsivness</th>\n",
       "      <th>Value for Money</th>\n",
       "      <th>Hygiene Rating</th>\n",
       "      <th>Food Rating</th>\n",
       "      <th>Overall Restaurant Rating</th>\n",
       "      <th>Live Music Rating</th>\n",
       "      <th>Ambience</th>\n",
       "      <th>Lively</th>\n",
       "      <th>Service</th>\n",
       "      <th>Comfortablility</th>\n",
       "      <th>Privacy</th>\n",
       "    </tr>\n",
       "  </thead>\n",
       "  <tbody>\n",
       "    <tr>\n",
       "      <th>0</th>\n",
       "      <td>12</td>\n",
       "      <td>8</td>\n",
       "      <td>0</td>\n",
       "      <td>1</td>\n",
       "      <td>20</td>\n",
       "      <td>3</td>\n",
       "      <td>0</td>\n",
       "      <td>2</td>\n",
       "      <td>5</td>\n",
       "      <td>5</td>\n",
       "      <td>5</td>\n",
       "      <td>7</td>\n",
       "      <td>10</td>\n",
       "      <td>4</td>\n",
       "      <td>8</td>\n",
       "      <td>8</td>\n",
       "      <td>6</td>\n",
       "      <td>6</td>\n",
       "      <td>6</td>\n",
       "    </tr>\n",
       "  </tbody>\n",
       "</table>\n",
       "</div>"
      ],
      "text/plain": [
       "  Cuisine Opening Day of Restaurant Dedicated Parking Open Sitting Available  \\\n",
       "0      12                         8                 0                      1   \n",
       "\n",
       "  Restaurant Theme Restaurant Zomato Rating Restaurant City Tier  \\\n",
       "0               20                        3                    0   \n",
       "\n",
       "  Order Wait Time Staff Responsivness Value for Money Hygiene Rating  \\\n",
       "0               2                   5               5              5   \n",
       "\n",
       "  Food Rating Overall Restaurant Rating Live Music Rating Ambience Lively  \\\n",
       "0           7                        10                 4        8      8   \n",
       "\n",
       "  Service Comfortablility Privacy  \n",
       "0       6               6       6  "
      ]
     },
     "execution_count": 307,
     "metadata": {},
     "output_type": "execute_result"
    }
   ],
   "source": [
    "df_label.head(1)"
   ]
  },
  {
   "cell_type": "code",
   "execution_count": 308,
   "metadata": {},
   "outputs": [],
   "source": [
    "for i in df_label.columns:\n",
    "    df_label[i]=df_label[i].astype('int64')"
   ]
  },
  {
   "cell_type": "code",
   "execution_count": 309,
   "metadata": {},
   "outputs": [
    {
     "data": {
      "text/plain": [
       "(3993, 19)"
      ]
     },
     "execution_count": 309,
     "metadata": {},
     "output_type": "execute_result"
    }
   ],
   "source": [
    "df_label.shape"
   ]
  },
  {
   "cell_type": "code",
   "execution_count": 310,
   "metadata": {
    "scrolled": false
   },
   "outputs": [
    {
     "data": {
      "text/html": [
       "<div>\n",
       "<style scoped>\n",
       "    .dataframe tbody tr th:only-of-type {\n",
       "        vertical-align: middle;\n",
       "    }\n",
       "\n",
       "    .dataframe tbody tr th {\n",
       "        vertical-align: top;\n",
       "    }\n",
       "\n",
       "    .dataframe thead th {\n",
       "        text-align: right;\n",
       "    }\n",
       "</style>\n",
       "<table border=\"1\" class=\"dataframe\">\n",
       "  <thead>\n",
       "    <tr style=\"text-align: right;\">\n",
       "      <th></th>\n",
       "      <th>Restaurant Location_Near Party Hub</th>\n",
       "      <th>Endorsed By_Not Specific</th>\n",
       "      <th>Endorsed By_Tier A Celebrity</th>\n",
       "      <th>Fire Audit_1</th>\n",
       "      <th>Liquor License Obtained_1</th>\n",
       "      <th>Situated in a Multi Complex_1</th>\n",
       "      <th>Resturant Tier_2.0</th>\n",
       "      <th>Restaurant Type_Buffet/Family Restaurant</th>\n",
       "      <th>Restaurant Type_Caffee</th>\n",
       "      <th>Restaurant Type_Gastro Bar</th>\n",
       "    </tr>\n",
       "  </thead>\n",
       "  <tbody>\n",
       "    <tr>\n",
       "      <th>0</th>\n",
       "      <td>0</td>\n",
       "      <td>1</td>\n",
       "      <td>0</td>\n",
       "      <td>1</td>\n",
       "      <td>1</td>\n",
       "      <td>1</td>\n",
       "      <td>1</td>\n",
       "      <td>0</td>\n",
       "      <td>0</td>\n",
       "      <td>0</td>\n",
       "    </tr>\n",
       "    <tr>\n",
       "      <th>1</th>\n",
       "      <td>1</td>\n",
       "      <td>0</td>\n",
       "      <td>1</td>\n",
       "      <td>1</td>\n",
       "      <td>1</td>\n",
       "      <td>1</td>\n",
       "      <td>1</td>\n",
       "      <td>0</td>\n",
       "      <td>0</td>\n",
       "      <td>0</td>\n",
       "    </tr>\n",
       "    <tr>\n",
       "      <th>2</th>\n",
       "      <td>0</td>\n",
       "      <td>0</td>\n",
       "      <td>1</td>\n",
       "      <td>1</td>\n",
       "      <td>1</td>\n",
       "      <td>1</td>\n",
       "      <td>1</td>\n",
       "      <td>0</td>\n",
       "      <td>0</td>\n",
       "      <td>0</td>\n",
       "    </tr>\n",
       "    <tr>\n",
       "      <th>3</th>\n",
       "      <td>1</td>\n",
       "      <td>0</td>\n",
       "      <td>1</td>\n",
       "      <td>0</td>\n",
       "      <td>1</td>\n",
       "      <td>1</td>\n",
       "      <td>0</td>\n",
       "      <td>0</td>\n",
       "      <td>0</td>\n",
       "      <td>0</td>\n",
       "    </tr>\n",
       "    <tr>\n",
       "      <th>4</th>\n",
       "      <td>1</td>\n",
       "      <td>0</td>\n",
       "      <td>1</td>\n",
       "      <td>1</td>\n",
       "      <td>1</td>\n",
       "      <td>1</td>\n",
       "      <td>1</td>\n",
       "      <td>0</td>\n",
       "      <td>0</td>\n",
       "      <td>0</td>\n",
       "    </tr>\n",
       "    <tr>\n",
       "      <th>...</th>\n",
       "      <td>...</td>\n",
       "      <td>...</td>\n",
       "      <td>...</td>\n",
       "      <td>...</td>\n",
       "      <td>...</td>\n",
       "      <td>...</td>\n",
       "      <td>...</td>\n",
       "      <td>...</td>\n",
       "      <td>...</td>\n",
       "      <td>...</td>\n",
       "    </tr>\n",
       "    <tr>\n",
       "      <th>495</th>\n",
       "      <td>1</td>\n",
       "      <td>1</td>\n",
       "      <td>0</td>\n",
       "      <td>1</td>\n",
       "      <td>1</td>\n",
       "      <td>1</td>\n",
       "      <td>1</td>\n",
       "      <td>0</td>\n",
       "      <td>0</td>\n",
       "      <td>0</td>\n",
       "    </tr>\n",
       "    <tr>\n",
       "      <th>496</th>\n",
       "      <td>1</td>\n",
       "      <td>1</td>\n",
       "      <td>0</td>\n",
       "      <td>1</td>\n",
       "      <td>1</td>\n",
       "      <td>1</td>\n",
       "      <td>1</td>\n",
       "      <td>0</td>\n",
       "      <td>0</td>\n",
       "      <td>0</td>\n",
       "    </tr>\n",
       "    <tr>\n",
       "      <th>497</th>\n",
       "      <td>1</td>\n",
       "      <td>0</td>\n",
       "      <td>1</td>\n",
       "      <td>0</td>\n",
       "      <td>1</td>\n",
       "      <td>0</td>\n",
       "      <td>1</td>\n",
       "      <td>0</td>\n",
       "      <td>0</td>\n",
       "      <td>0</td>\n",
       "    </tr>\n",
       "    <tr>\n",
       "      <th>498</th>\n",
       "      <td>1</td>\n",
       "      <td>1</td>\n",
       "      <td>0</td>\n",
       "      <td>1</td>\n",
       "      <td>1</td>\n",
       "      <td>0</td>\n",
       "      <td>1</td>\n",
       "      <td>0</td>\n",
       "      <td>0</td>\n",
       "      <td>0</td>\n",
       "    </tr>\n",
       "    <tr>\n",
       "      <th>499</th>\n",
       "      <td>1</td>\n",
       "      <td>1</td>\n",
       "      <td>0</td>\n",
       "      <td>1</td>\n",
       "      <td>1</td>\n",
       "      <td>0</td>\n",
       "      <td>1</td>\n",
       "      <td>0</td>\n",
       "      <td>1</td>\n",
       "      <td>0</td>\n",
       "    </tr>\n",
       "  </tbody>\n",
       "</table>\n",
       "<p>3993 rows × 10 columns</p>\n",
       "</div>"
      ],
      "text/plain": [
       "     Restaurant Location_Near Party Hub  Endorsed By_Not Specific  \\\n",
       "0                                     0                         1   \n",
       "1                                     1                         0   \n",
       "2                                     0                         0   \n",
       "3                                     1                         0   \n",
       "4                                     1                         0   \n",
       "..                                  ...                       ...   \n",
       "495                                   1                         1   \n",
       "496                                   1                         1   \n",
       "497                                   1                         0   \n",
       "498                                   1                         1   \n",
       "499                                   1                         1   \n",
       "\n",
       "     Endorsed By_Tier A Celebrity  Fire Audit_1  Liquor License Obtained_1  \\\n",
       "0                               0             1                          1   \n",
       "1                               1             1                          1   \n",
       "2                               1             1                          1   \n",
       "3                               1             0                          1   \n",
       "4                               1             1                          1   \n",
       "..                            ...           ...                        ...   \n",
       "495                             0             1                          1   \n",
       "496                             0             1                          1   \n",
       "497                             1             0                          1   \n",
       "498                             0             1                          1   \n",
       "499                             0             1                          1   \n",
       "\n",
       "     Situated in a Multi Complex_1  Resturant Tier_2.0  \\\n",
       "0                                1                   1   \n",
       "1                                1                   1   \n",
       "2                                1                   1   \n",
       "3                                1                   0   \n",
       "4                                1                   1   \n",
       "..                             ...                 ...   \n",
       "495                              1                   1   \n",
       "496                              1                   1   \n",
       "497                              0                   1   \n",
       "498                              0                   1   \n",
       "499                              0                   1   \n",
       "\n",
       "     Restaurant Type_Buffet/Family Restaurant  Restaurant Type_Caffee  \\\n",
       "0                                           0                       0   \n",
       "1                                           0                       0   \n",
       "2                                           0                       0   \n",
       "3                                           0                       0   \n",
       "4                                           0                       0   \n",
       "..                                        ...                     ...   \n",
       "495                                         0                       0   \n",
       "496                                         0                       0   \n",
       "497                                         0                       0   \n",
       "498                                         0                       0   \n",
       "499                                         0                       1   \n",
       "\n",
       "     Restaurant Type_Gastro Bar  \n",
       "0                             0  \n",
       "1                             0  \n",
       "2                             0  \n",
       "3                             0  \n",
       "4                             0  \n",
       "..                          ...  \n",
       "495                           0  \n",
       "496                           0  \n",
       "497                           0  \n",
       "498                           0  \n",
       "499                           0  \n",
       "\n",
       "[3993 rows x 10 columns]"
      ]
     },
     "execution_count": 310,
     "metadata": {},
     "output_type": "execute_result"
    }
   ],
   "source": [
    "dummy=pd.get_dummies(df_dummy, drop_first=True)\n",
    "dummy"
   ]
  },
  {
   "cell_type": "markdown",
   "metadata": {},
   "source": [
    "# Numerical Columns"
   ]
  },
  {
   "cell_type": "code",
   "execution_count": 311,
   "metadata": {},
   "outputs": [
    {
     "data": {
      "text/html": [
       "<div>\n",
       "<style scoped>\n",
       "    .dataframe tbody tr th:only-of-type {\n",
       "        vertical-align: middle;\n",
       "    }\n",
       "\n",
       "    .dataframe tbody tr th {\n",
       "        vertical-align: top;\n",
       "    }\n",
       "\n",
       "    .dataframe thead th {\n",
       "        text-align: right;\n",
       "    }\n",
       "</style>\n",
       "<table border=\"1\" class=\"dataframe\">\n",
       "  <thead>\n",
       "    <tr style=\"text-align: right;\">\n",
       "      <th></th>\n",
       "      <th>Registration Number</th>\n",
       "      <th>Annual Turnover</th>\n",
       "      <th>Facebook Popularity Quotient</th>\n",
       "      <th>Instagram Popularity Quotient</th>\n",
       "    </tr>\n",
       "  </thead>\n",
       "  <tbody>\n",
       "    <tr>\n",
       "      <th>0</th>\n",
       "      <td>60001</td>\n",
       "      <td>42000000</td>\n",
       "      <td>84.3</td>\n",
       "      <td>95.8</td>\n",
       "    </tr>\n",
       "    <tr>\n",
       "      <th>1</th>\n",
       "      <td>60002</td>\n",
       "      <td>50000000</td>\n",
       "      <td>85.4</td>\n",
       "      <td>85.0</td>\n",
       "    </tr>\n",
       "    <tr>\n",
       "      <th>2</th>\n",
       "      <td>60003</td>\n",
       "      <td>32500000</td>\n",
       "      <td>85.0</td>\n",
       "      <td>68.2</td>\n",
       "    </tr>\n",
       "    <tr>\n",
       "      <th>3</th>\n",
       "      <td>60004</td>\n",
       "      <td>110000000</td>\n",
       "      <td>85.6</td>\n",
       "      <td>83.6</td>\n",
       "    </tr>\n",
       "    <tr>\n",
       "      <th>4</th>\n",
       "      <td>60005</td>\n",
       "      <td>20000000</td>\n",
       "      <td>79.0</td>\n",
       "      <td>76.8</td>\n",
       "    </tr>\n",
       "  </tbody>\n",
       "</table>\n",
       "</div>"
      ],
      "text/plain": [
       "   Registration Number  Annual Turnover  Facebook Popularity Quotient  \\\n",
       "0                60001         42000000                          84.3   \n",
       "1                60002         50000000                          85.4   \n",
       "2                60003         32500000                          85.0   \n",
       "3                60004        110000000                          85.6   \n",
       "4                60005         20000000                          79.0   \n",
       "\n",
       "   Instagram Popularity Quotient  \n",
       "0                           95.8  \n",
       "1                           85.0  \n",
       "2                           68.2  \n",
       "3                           83.6  \n",
       "4                           76.8  "
      ]
     },
     "execution_count": 311,
     "metadata": {},
     "output_type": "execute_result"
    }
   ],
   "source": [
    "df_num=df.select_dtypes('number')\n",
    "df_num.head()"
   ]
  },
  {
   "cell_type": "code",
   "execution_count": 312,
   "metadata": {},
   "outputs": [],
   "source": [
    "y=df['Annual Turnover']\n",
    "df_num=df_num.drop(['Annual Turnover','Registration Number'], axis=1)"
   ]
  },
  {
   "cell_type": "markdown",
   "metadata": {},
   "source": [
    "# VIF"
   ]
  },
  {
   "cell_type": "code",
   "execution_count": 313,
   "metadata": {
    "scrolled": true
   },
   "outputs": [
    {
     "data": {
      "text/html": [
       "<div>\n",
       "<style scoped>\n",
       "    .dataframe tbody tr th:only-of-type {\n",
       "        vertical-align: middle;\n",
       "    }\n",
       "\n",
       "    .dataframe tbody tr th {\n",
       "        vertical-align: top;\n",
       "    }\n",
       "\n",
       "    .dataframe thead th {\n",
       "        text-align: right;\n",
       "    }\n",
       "</style>\n",
       "<table border=\"1\" class=\"dataframe\">\n",
       "  <thead>\n",
       "    <tr style=\"text-align: right;\">\n",
       "      <th></th>\n",
       "      <th>Features</th>\n",
       "      <th>VIF</th>\n",
       "    </tr>\n",
       "  </thead>\n",
       "  <tbody>\n",
       "    <tr>\n",
       "      <th>0</th>\n",
       "      <td>Facebook Popularity Quotient</td>\n",
       "      <td>72.562349</td>\n",
       "    </tr>\n",
       "    <tr>\n",
       "      <th>1</th>\n",
       "      <td>Instagram Popularity Quotient</td>\n",
       "      <td>72.562349</td>\n",
       "    </tr>\n",
       "  </tbody>\n",
       "</table>\n",
       "</div>"
      ],
      "text/plain": [
       "                        Features        VIF\n",
       "0   Facebook Popularity Quotient  72.562349\n",
       "1  Instagram Popularity Quotient  72.562349"
      ]
     },
     "execution_count": 313,
     "metadata": {},
     "output_type": "execute_result"
    }
   ],
   "source": [
    "from statsmodels.stats.outliers_influence import variance_inflation_factor\n",
    "\n",
    "vif = pd.DataFrame()\n",
    "\n",
    "vif['Features'] = df_num.columns\n",
    "\n",
    "vif['VIF'] = [variance_inflation_factor(df_num.values,i) for i in range(df_num.shape[1])]\n",
    "\n",
    "vif"
   ]
  },
  {
   "cell_type": "markdown",
   "metadata": {},
   "source": [
    "# Merging"
   ]
  },
  {
   "cell_type": "code",
   "execution_count": 314,
   "metadata": {},
   "outputs": [],
   "source": [
    "df_label.insert(0,'Facebook Popularity Quotient',df_num['Facebook Popularity Quotient'])"
   ]
  },
  {
   "cell_type": "code",
   "execution_count": 315,
   "metadata": {},
   "outputs": [],
   "source": [
    "df_label.insert(1,'Instagram Popularity Quotient',df_num['Instagram Popularity Quotient'])"
   ]
  },
  {
   "cell_type": "code",
   "execution_count": 316,
   "metadata": {},
   "outputs": [
    {
     "data": {
      "text/plain": [
       "(3993, 21)"
      ]
     },
     "execution_count": 316,
     "metadata": {},
     "output_type": "execute_result"
    }
   ],
   "source": [
    "df_label.shape"
   ]
  },
  {
   "cell_type": "code",
   "execution_count": 317,
   "metadata": {},
   "outputs": [],
   "source": [
    "x=pd.concat([df_label,dummy], axis=1)"
   ]
  },
  {
   "cell_type": "code",
   "execution_count": 318,
   "metadata": {},
   "outputs": [
    {
     "data": {
      "text/html": [
       "<div>\n",
       "<style scoped>\n",
       "    .dataframe tbody tr th:only-of-type {\n",
       "        vertical-align: middle;\n",
       "    }\n",
       "\n",
       "    .dataframe tbody tr th {\n",
       "        vertical-align: top;\n",
       "    }\n",
       "\n",
       "    .dataframe thead th {\n",
       "        text-align: right;\n",
       "    }\n",
       "</style>\n",
       "<table border=\"1\" class=\"dataframe\">\n",
       "  <thead>\n",
       "    <tr style=\"text-align: right;\">\n",
       "      <th></th>\n",
       "      <th>Facebook Popularity Quotient</th>\n",
       "      <th>Instagram Popularity Quotient</th>\n",
       "      <th>Cuisine</th>\n",
       "      <th>Opening Day of Restaurant</th>\n",
       "      <th>Dedicated Parking</th>\n",
       "      <th>Open Sitting Available</th>\n",
       "      <th>Restaurant Theme</th>\n",
       "      <th>Restaurant Zomato Rating</th>\n",
       "      <th>Restaurant City Tier</th>\n",
       "      <th>Order Wait Time</th>\n",
       "      <th>Staff Responsivness</th>\n",
       "      <th>Value for Money</th>\n",
       "      <th>Hygiene Rating</th>\n",
       "      <th>Food Rating</th>\n",
       "      <th>Overall Restaurant Rating</th>\n",
       "      <th>Live Music Rating</th>\n",
       "      <th>Ambience</th>\n",
       "      <th>Lively</th>\n",
       "      <th>Service</th>\n",
       "      <th>Comfortablility</th>\n",
       "      <th>Privacy</th>\n",
       "      <th>Restaurant Location_Near Party Hub</th>\n",
       "      <th>Endorsed By_Not Specific</th>\n",
       "      <th>Endorsed By_Tier A Celebrity</th>\n",
       "      <th>Fire Audit_1</th>\n",
       "      <th>Liquor License Obtained_1</th>\n",
       "      <th>Situated in a Multi Complex_1</th>\n",
       "      <th>Resturant Tier_2.0</th>\n",
       "      <th>Restaurant Type_Buffet/Family Restaurant</th>\n",
       "      <th>Restaurant Type_Caffee</th>\n",
       "      <th>Restaurant Type_Gastro Bar</th>\n",
       "    </tr>\n",
       "  </thead>\n",
       "  <tbody>\n",
       "    <tr>\n",
       "      <th>0</th>\n",
       "      <td>84.3</td>\n",
       "      <td>95.8</td>\n",
       "      <td>12</td>\n",
       "      <td>8</td>\n",
       "      <td>0</td>\n",
       "      <td>1</td>\n",
       "      <td>20</td>\n",
       "      <td>3</td>\n",
       "      <td>0</td>\n",
       "      <td>2</td>\n",
       "      <td>5</td>\n",
       "      <td>5</td>\n",
       "      <td>5</td>\n",
       "      <td>7</td>\n",
       "      <td>10</td>\n",
       "      <td>4</td>\n",
       "      <td>8</td>\n",
       "      <td>8</td>\n",
       "      <td>6</td>\n",
       "      <td>6</td>\n",
       "      <td>6</td>\n",
       "      <td>0</td>\n",
       "      <td>1</td>\n",
       "      <td>0</td>\n",
       "      <td>1</td>\n",
       "      <td>1</td>\n",
       "      <td>1</td>\n",
       "      <td>1</td>\n",
       "      <td>0</td>\n",
       "      <td>0</td>\n",
       "      <td>0</td>\n",
       "    </tr>\n",
       "    <tr>\n",
       "      <th>1</th>\n",
       "      <td>85.4</td>\n",
       "      <td>85.0</td>\n",
       "      <td>12</td>\n",
       "      <td>10</td>\n",
       "      <td>1</td>\n",
       "      <td>0</td>\n",
       "      <td>19</td>\n",
       "      <td>3</td>\n",
       "      <td>0</td>\n",
       "      <td>6</td>\n",
       "      <td>6</td>\n",
       "      <td>6</td>\n",
       "      <td>7</td>\n",
       "      <td>8</td>\n",
       "      <td>9</td>\n",
       "      <td>0</td>\n",
       "      <td>5</td>\n",
       "      <td>7</td>\n",
       "      <td>7</td>\n",
       "      <td>3</td>\n",
       "      <td>8</td>\n",
       "      <td>1</td>\n",
       "      <td>0</td>\n",
       "      <td>1</td>\n",
       "      <td>1</td>\n",
       "      <td>1</td>\n",
       "      <td>1</td>\n",
       "      <td>1</td>\n",
       "      <td>0</td>\n",
       "      <td>0</td>\n",
       "      <td>0</td>\n",
       "    </tr>\n",
       "    <tr>\n",
       "      <th>2</th>\n",
       "      <td>85.0</td>\n",
       "      <td>68.2</td>\n",
       "      <td>13</td>\n",
       "      <td>4</td>\n",
       "      <td>1</td>\n",
       "      <td>0</td>\n",
       "      <td>21</td>\n",
       "      <td>3</td>\n",
       "      <td>0</td>\n",
       "      <td>2</td>\n",
       "      <td>6</td>\n",
       "      <td>5</td>\n",
       "      <td>3</td>\n",
       "      <td>7</td>\n",
       "      <td>8</td>\n",
       "      <td>3</td>\n",
       "      <td>7</td>\n",
       "      <td>10</td>\n",
       "      <td>5</td>\n",
       "      <td>2</td>\n",
       "      <td>8</td>\n",
       "      <td>0</td>\n",
       "      <td>0</td>\n",
       "      <td>1</td>\n",
       "      <td>1</td>\n",
       "      <td>1</td>\n",
       "      <td>1</td>\n",
       "      <td>1</td>\n",
       "      <td>0</td>\n",
       "      <td>0</td>\n",
       "      <td>0</td>\n",
       "    </tr>\n",
       "    <tr>\n",
       "      <th>3</th>\n",
       "      <td>85.6</td>\n",
       "      <td>83.6</td>\n",
       "      <td>19</td>\n",
       "      <td>10</td>\n",
       "      <td>1</td>\n",
       "      <td>1</td>\n",
       "      <td>20</td>\n",
       "      <td>3</td>\n",
       "      <td>1</td>\n",
       "      <td>7</td>\n",
       "      <td>6</td>\n",
       "      <td>5</td>\n",
       "      <td>6</td>\n",
       "      <td>8</td>\n",
       "      <td>9</td>\n",
       "      <td>6</td>\n",
       "      <td>7</td>\n",
       "      <td>7</td>\n",
       "      <td>4</td>\n",
       "      <td>3</td>\n",
       "      <td>5</td>\n",
       "      <td>1</td>\n",
       "      <td>0</td>\n",
       "      <td>1</td>\n",
       "      <td>0</td>\n",
       "      <td>1</td>\n",
       "      <td>1</td>\n",
       "      <td>0</td>\n",
       "      <td>0</td>\n",
       "      <td>0</td>\n",
       "      <td>0</td>\n",
       "    </tr>\n",
       "    <tr>\n",
       "      <th>4</th>\n",
       "      <td>79.0</td>\n",
       "      <td>76.8</td>\n",
       "      <td>1</td>\n",
       "      <td>7</td>\n",
       "      <td>1</td>\n",
       "      <td>1</td>\n",
       "      <td>19</td>\n",
       "      <td>3</td>\n",
       "      <td>0</td>\n",
       "      <td>10</td>\n",
       "      <td>5</td>\n",
       "      <td>6</td>\n",
       "      <td>4</td>\n",
       "      <td>8</td>\n",
       "      <td>6</td>\n",
       "      <td>0</td>\n",
       "      <td>0</td>\n",
       "      <td>6</td>\n",
       "      <td>2</td>\n",
       "      <td>4</td>\n",
       "      <td>6</td>\n",
       "      <td>1</td>\n",
       "      <td>0</td>\n",
       "      <td>1</td>\n",
       "      <td>1</td>\n",
       "      <td>1</td>\n",
       "      <td>1</td>\n",
       "      <td>1</td>\n",
       "      <td>0</td>\n",
       "      <td>0</td>\n",
       "      <td>0</td>\n",
       "    </tr>\n",
       "  </tbody>\n",
       "</table>\n",
       "</div>"
      ],
      "text/plain": [
       "   Facebook Popularity Quotient  Instagram Popularity Quotient  Cuisine  \\\n",
       "0                          84.3                           95.8       12   \n",
       "1                          85.4                           85.0       12   \n",
       "2                          85.0                           68.2       13   \n",
       "3                          85.6                           83.6       19   \n",
       "4                          79.0                           76.8        1   \n",
       "\n",
       "   Opening Day of Restaurant  Dedicated Parking  Open Sitting Available  \\\n",
       "0                          8                  0                       1   \n",
       "1                         10                  1                       0   \n",
       "2                          4                  1                       0   \n",
       "3                         10                  1                       1   \n",
       "4                          7                  1                       1   \n",
       "\n",
       "   Restaurant Theme  Restaurant Zomato Rating  Restaurant City Tier  \\\n",
       "0                20                         3                     0   \n",
       "1                19                         3                     0   \n",
       "2                21                         3                     0   \n",
       "3                20                         3                     1   \n",
       "4                19                         3                     0   \n",
       "\n",
       "   Order Wait Time  Staff Responsivness  Value for Money  Hygiene Rating  \\\n",
       "0                2                    5                5               5   \n",
       "1                6                    6                6               7   \n",
       "2                2                    6                5               3   \n",
       "3                7                    6                5               6   \n",
       "4               10                    5                6               4   \n",
       "\n",
       "   Food Rating  Overall Restaurant Rating  Live Music Rating  Ambience  \\\n",
       "0            7                         10                  4         8   \n",
       "1            8                          9                  0         5   \n",
       "2            7                          8                  3         7   \n",
       "3            8                          9                  6         7   \n",
       "4            8                          6                  0         0   \n",
       "\n",
       "   Lively  Service  Comfortablility  Privacy  \\\n",
       "0       8        6                6        6   \n",
       "1       7        7                3        8   \n",
       "2      10        5                2        8   \n",
       "3       7        4                3        5   \n",
       "4       6        2                4        6   \n",
       "\n",
       "   Restaurant Location_Near Party Hub  Endorsed By_Not Specific  \\\n",
       "0                                   0                         1   \n",
       "1                                   1                         0   \n",
       "2                                   0                         0   \n",
       "3                                   1                         0   \n",
       "4                                   1                         0   \n",
       "\n",
       "   Endorsed By_Tier A Celebrity  Fire Audit_1  Liquor License Obtained_1  \\\n",
       "0                             0             1                          1   \n",
       "1                             1             1                          1   \n",
       "2                             1             1                          1   \n",
       "3                             1             0                          1   \n",
       "4                             1             1                          1   \n",
       "\n",
       "   Situated in a Multi Complex_1  Resturant Tier_2.0  \\\n",
       "0                              1                   1   \n",
       "1                              1                   1   \n",
       "2                              1                   1   \n",
       "3                              1                   0   \n",
       "4                              1                   1   \n",
       "\n",
       "   Restaurant Type_Buffet/Family Restaurant  Restaurant Type_Caffee  \\\n",
       "0                                         0                       0   \n",
       "1                                         0                       0   \n",
       "2                                         0                       0   \n",
       "3                                         0                       0   \n",
       "4                                         0                       0   \n",
       "\n",
       "   Restaurant Type_Gastro Bar  \n",
       "0                           0  \n",
       "1                           0  \n",
       "2                           0  \n",
       "3                           0  \n",
       "4                           0  "
      ]
     },
     "execution_count": 318,
     "metadata": {},
     "output_type": "execute_result"
    }
   ],
   "source": [
    "x.head()"
   ]
  },
  {
   "cell_type": "markdown",
   "metadata": {},
   "source": [
    "# Train Test Split"
   ]
  },
  {
   "cell_type": "code",
   "execution_count": 319,
   "metadata": {
    "scrolled": true
   },
   "outputs": [],
   "source": [
    "x_train=x.iloc[0:3493,:]"
   ]
  },
  {
   "cell_type": "code",
   "execution_count": 320,
   "metadata": {},
   "outputs": [],
   "source": [
    "x_test=x.iloc[3493:,:]"
   ]
  },
  {
   "cell_type": "code",
   "execution_count": 321,
   "metadata": {},
   "outputs": [],
   "source": [
    "y_train=y.iloc[0:3493]"
   ]
  },
  {
   "cell_type": "code",
   "execution_count": 322,
   "metadata": {},
   "outputs": [],
   "source": [
    "from sklearn.model_selection import train_test_split\n",
    "x_t, X_val, y_t, y_val = train_test_split(x_train,y_train,test_size=0.20,random_state=10)"
   ]
  },
  {
   "cell_type": "markdown",
   "metadata": {},
   "source": [
    "# Model Building"
   ]
  },
  {
   "cell_type": "code",
   "execution_count": 323,
   "metadata": {},
   "outputs": [],
   "source": [
    "LR = LinearRegression()\n",
    "model=LR.fit(x_t,y_t)"
   ]
  },
  {
   "cell_type": "code",
   "execution_count": 324,
   "metadata": {},
   "outputs": [],
   "source": [
    "y_pred=model.predict(x_t)"
   ]
  },
  {
   "cell_type": "code",
   "execution_count": 325,
   "metadata": {},
   "outputs": [],
   "source": [
    "from sklearn.metrics import mean_squared_error\n",
    "mse_train=mean_squared_error(y_t,y_pred)"
   ]
  },
  {
   "cell_type": "code",
   "execution_count": 326,
   "metadata": {},
   "outputs": [
    {
     "name": "stdout",
     "output_type": "stream",
     "text": [
      "mse= 403376860713535.56\n",
      "rmse= 20084244.0912\n"
     ]
    }
   ],
   "source": [
    "rmse_train=round(np.sqrt(mse_train),4)\n",
    "print('mse=',mse_train)\n",
    "print('rmse=',rmse_train)"
   ]
  },
  {
   "cell_type": "code",
   "execution_count": 327,
   "metadata": {},
   "outputs": [],
   "source": [
    "y_pred_test_lr=model.predict(X_val)"
   ]
  },
  {
   "cell_type": "code",
   "execution_count": 328,
   "metadata": {},
   "outputs": [],
   "source": [
    "mse_test=mean_squared_error(y_val,y_pred_test_lr) "
   ]
  },
  {
   "cell_type": "code",
   "execution_count": 329,
   "metadata": {},
   "outputs": [
    {
     "name": "stdout",
     "output_type": "stream",
     "text": [
      "mse= 370289680752599.4\n",
      "rmse= 19242912.481\n"
     ]
    }
   ],
   "source": [
    "rmse_test=round(np.sqrt(mse_test),4)\n",
    "print('mse=',mse_test)\n",
    "print('rmse=',rmse_test)"
   ]
  },
  {
   "cell_type": "markdown",
   "metadata": {},
   "source": [
    "# On Train Data"
   ]
  },
  {
   "cell_type": "code",
   "execution_count": 330,
   "metadata": {},
   "outputs": [],
   "source": [
    "LR = LinearRegression()\n",
    "model=LR.fit(x_train,y_train)"
   ]
  },
  {
   "cell_type": "code",
   "execution_count": 331,
   "metadata": {},
   "outputs": [],
   "source": [
    "y_pred=model.predict(x_train)"
   ]
  },
  {
   "cell_type": "code",
   "execution_count": 332,
   "metadata": {},
   "outputs": [],
   "source": [
    "from sklearn.metrics import mean_squared_error\n",
    "mse_train=mean_squared_error(y_train,y_pred)"
   ]
  },
  {
   "cell_type": "code",
   "execution_count": 333,
   "metadata": {},
   "outputs": [
    {
     "name": "stdout",
     "output_type": "stream",
     "text": [
      "mse= 395507798722981.75\n",
      "rmse= 19887377.8745\n"
     ]
    }
   ],
   "source": [
    "rmse_train=round(np.sqrt(mse_train),4)\n",
    "print('mse=',mse_train)\n",
    "print('rmse=',rmse_train)"
   ]
  },
  {
   "cell_type": "code",
   "execution_count": 334,
   "metadata": {},
   "outputs": [],
   "source": [
    "y_pred_test_lr=model.predict(x_test)"
   ]
  },
  {
   "cell_type": "markdown",
   "metadata": {},
   "source": [
    "# Model 2"
   ]
  },
  {
   "cell_type": "code",
   "execution_count": 335,
   "metadata": {},
   "outputs": [],
   "source": [
    "from sklearn.preprocessing import PolynomialFeatures\n",
    "quad = PolynomialFeatures (degree = 2)\n",
    "x_quad = quad.fit_transform(x_t)\n",
    "plr = LR.fit(x_quad,y_t)"
   ]
  },
  {
   "cell_type": "code",
   "execution_count": 336,
   "metadata": {},
   "outputs": [],
   "source": [
    "y_pred_plr=plr.predict(x_quad)"
   ]
  },
  {
   "cell_type": "code",
   "execution_count": 337,
   "metadata": {},
   "outputs": [
    {
     "name": "stdout",
     "output_type": "stream",
     "text": [
      "mse= 318006641610734.4\n",
      "rmse= 17832740.7207\n"
     ]
    }
   ],
   "source": [
    "mse_train=mean_squared_error(y_t,y_pred_plr)\n",
    "rmse_train=round(np.sqrt(mse_train),4)\n",
    "print('mse=',mse_train)\n",
    "print('rmse=',rmse_train)"
   ]
  },
  {
   "cell_type": "code",
   "execution_count": 338,
   "metadata": {},
   "outputs": [],
   "source": [
    "x_quad_test=quad.transform(X_val)\n",
    "y_pred_test=model.predict(x_quad_test)"
   ]
  },
  {
   "cell_type": "code",
   "execution_count": 339,
   "metadata": {},
   "outputs": [],
   "source": [
    "mse_test=mean_squared_error(y_val,y_pred_test) "
   ]
  },
  {
   "cell_type": "code",
   "execution_count": 340,
   "metadata": {},
   "outputs": [
    {
     "name": "stdout",
     "output_type": "stream",
     "text": [
      "mse= 872726959965988.6\n",
      "rmse= 29541952.5415\n"
     ]
    }
   ],
   "source": [
    "rmse_test=round(np.sqrt(mse_test),4)\n",
    "print('mse=',mse_test)\n",
    "print('rmse=',rmse_test)"
   ]
  },
  {
   "cell_type": "markdown",
   "metadata": {},
   "source": [
    "# On Train Data"
   ]
  },
  {
   "cell_type": "code",
   "execution_count": 341,
   "metadata": {},
   "outputs": [],
   "source": [
    "from sklearn.preprocessing import PolynomialFeatures\n",
    "quad = PolynomialFeatures (degree = 2)\n",
    "x_quad = quad.fit_transform(x_train)\n",
    "plr = LR.fit(x_quad,y_train)"
   ]
  },
  {
   "cell_type": "code",
   "execution_count": 342,
   "metadata": {},
   "outputs": [],
   "source": [
    "y_pred_plr=plr.predict(x_quad)"
   ]
  },
  {
   "cell_type": "code",
   "execution_count": 343,
   "metadata": {},
   "outputs": [
    {
     "name": "stdout",
     "output_type": "stream",
     "text": [
      "mse= 324572187677733.3\n",
      "rmse= 18015887.0911\n"
     ]
    }
   ],
   "source": [
    "mse_train=mean_squared_error(y_train,y_pred_plr)\n",
    "rmse_train=round(np.sqrt(mse_train),4)\n",
    "print('mse=',mse_train)\n",
    "print('rmse=',rmse_train)"
   ]
  },
  {
   "cell_type": "markdown",
   "metadata": {},
   "source": [
    "# Model 3"
   ]
  },
  {
   "cell_type": "code",
   "execution_count": 344,
   "metadata": {},
   "outputs": [],
   "source": [
    "from sklearn.ensemble import RandomForestRegressor"
   ]
  },
  {
   "cell_type": "code",
   "execution_count": 345,
   "metadata": {},
   "outputs": [],
   "source": [
    "forest = RandomForestRegressor(n_estimators = 500,\n",
    "                               max_depth=10,\n",
    "                              criterion = 'mse',\n",
    "                              random_state = 1,\n",
    "                              n_jobs = -1)\n",
    "forest.fit(x_t,y_t)\n",
    "forest_train_pred = forest.predict(x_t)"
   ]
  },
  {
   "cell_type": "code",
   "execution_count": 346,
   "metadata": {
    "scrolled": true
   },
   "outputs": [
    {
     "name": "stdout",
     "output_type": "stream",
     "text": [
      "mse= 112333722815513.6\n",
      "rmse= 10598760.4377\n"
     ]
    }
   ],
   "source": [
    "mse_train=mean_squared_error(y_t,forest_train_pred)\n",
    "rmse_train=round(np.sqrt(mse_train),4)\n",
    "print('mse=',mse_train)\n",
    "print('rmse=',rmse_train)"
   ]
  },
  {
   "cell_type": "code",
   "execution_count": 347,
   "metadata": {},
   "outputs": [],
   "source": [
    "y_pred_test=forest.predict(X_val)"
   ]
  },
  {
   "cell_type": "code",
   "execution_count": 348,
   "metadata": {},
   "outputs": [],
   "source": [
    "mse_test=mean_squared_error(y_val,y_pred_test) "
   ]
  },
  {
   "cell_type": "code",
   "execution_count": 349,
   "metadata": {
    "scrolled": true
   },
   "outputs": [
    {
     "name": "stdout",
     "output_type": "stream",
     "text": [
      "mse= 367546573679867.1\n",
      "rmse= 19171504.2102\n"
     ]
    }
   ],
   "source": [
    "rmse_test=round(np.sqrt(mse_test),4)\n",
    "print('mse=',mse_test)\n",
    "print('rmse=',rmse_test)"
   ]
  },
  {
   "cell_type": "markdown",
   "metadata": {},
   "source": [
    "# On Train Data"
   ]
  },
  {
   "cell_type": "code",
   "execution_count": 350,
   "metadata": {},
   "outputs": [],
   "source": [
    "from sklearn.ensemble import RandomForestRegressor"
   ]
  },
  {
   "cell_type": "code",
   "execution_count": 351,
   "metadata": {},
   "outputs": [],
   "source": [
    "forest = RandomForestRegressor(n_estimators = 500,\n",
    "                               max_depth=10,\n",
    "                              criterion = 'mse',\n",
    "                              random_state = 1,\n",
    "                              n_jobs = -1)\n",
    "forest.fit(x_train,y_train)\n",
    "forest_train_pred = forest.predict(x_train)"
   ]
  },
  {
   "cell_type": "code",
   "execution_count": 352,
   "metadata": {
    "scrolled": true
   },
   "outputs": [
    {
     "name": "stdout",
     "output_type": "stream",
     "text": [
      "mse= 116685031050245.33\n",
      "rmse= 10802084.5697\n"
     ]
    }
   ],
   "source": [
    "mse_train=mean_squared_error(y_train,forest_train_pred)\n",
    "rmse_train=round(np.sqrt(mse_train),4)\n",
    "print('mse=',mse_train)\n",
    "print('rmse=',rmse_train)"
   ]
  },
  {
   "cell_type": "markdown",
   "metadata": {},
   "source": [
    "# Model 4"
   ]
  },
  {
   "cell_type": "code",
   "execution_count": 353,
   "metadata": {},
   "outputs": [],
   "source": [
    "from sklearn.tree import DecisionTreeRegressor\n",
    "tree=DecisionTreeRegressor(max_depth=10)\n",
    "tree.fit(x_t,y_t)\n",
    "tree_train_pred = tree.predict(x_t)"
   ]
  },
  {
   "cell_type": "code",
   "execution_count": 354,
   "metadata": {},
   "outputs": [
    {
     "name": "stdout",
     "output_type": "stream",
     "text": [
      "mse= 98611518085406.42\n",
      "rmse= 9930333.2313\n"
     ]
    }
   ],
   "source": [
    "mse_train=mean_squared_error(y_t,tree_train_pred)\n",
    "rmse_train=round(np.sqrt(mse_train),4)\n",
    "print('mse=',mse_train)\n",
    "print('rmse=',rmse_train)"
   ]
  },
  {
   "cell_type": "code",
   "execution_count": 355,
   "metadata": {},
   "outputs": [],
   "source": [
    "y_pred_test=tree.predict(X_val)"
   ]
  },
  {
   "cell_type": "code",
   "execution_count": 356,
   "metadata": {},
   "outputs": [],
   "source": [
    "mse_test=mean_squared_error(y_val,y_pred_test) "
   ]
  },
  {
   "cell_type": "code",
   "execution_count": 357,
   "metadata": {},
   "outputs": [
    {
     "name": "stdout",
     "output_type": "stream",
     "text": [
      "mse= 809705108942015.8\n",
      "rmse= 28455317.7621\n"
     ]
    }
   ],
   "source": [
    "rmse_test=round(np.sqrt(mse_test),4)\n",
    "print('mse=',mse_test)\n",
    "print('rmse=',rmse_test)"
   ]
  },
  {
   "cell_type": "markdown",
   "metadata": {},
   "source": [
    "# On Train Data"
   ]
  },
  {
   "cell_type": "code",
   "execution_count": 358,
   "metadata": {},
   "outputs": [
    {
     "name": "stdout",
     "output_type": "stream",
     "text": [
      "mse= 117347871133294.16\n",
      "rmse= 10832722.2402\n"
     ]
    }
   ],
   "source": [
    "from sklearn.tree import DecisionTreeRegressor\n",
    "tree=DecisionTreeRegressor(max_depth=10)\n",
    "tree.fit(x_train,y_train)\n",
    "tree_train_pred = tree.predict(x_train)\n",
    "\n",
    "mse_train=mean_squared_error(y_train,tree_train_pred)\n",
    "rmse_train=round(np.sqrt(mse_train),4)\n",
    "print('mse=',mse_train)\n",
    "print('rmse=',rmse_train)"
   ]
  },
  {
   "cell_type": "code",
   "execution_count": 359,
   "metadata": {},
   "outputs": [],
   "source": [
    "y_pred_test_tree=tree.predict(x_test)"
   ]
  },
  {
   "cell_type": "code",
   "execution_count": 360,
   "metadata": {},
   "outputs": [
    {
     "data": {
      "text/plain": [
       "(500,)"
      ]
     },
     "execution_count": 360,
     "metadata": {},
     "output_type": "execute_result"
    }
   ],
   "source": [
    "y_pred_test_tree.shape"
   ]
  },
  {
   "cell_type": "code",
   "execution_count": 361,
   "metadata": {
    "scrolled": true
   },
   "outputs": [
    {
     "data": {
      "text/plain": [
       "0      20001\n",
       "1      20002\n",
       "2      20003\n",
       "3      20004\n",
       "4      20005\n",
       "       ...  \n",
       "495    20496\n",
       "496    20497\n",
       "497    20498\n",
       "498    20499\n",
       "499    20500\n",
       "Name: Registration Number, Length: 500, dtype: int64"
      ]
     },
     "execution_count": 361,
     "metadata": {},
     "output_type": "execute_result"
    }
   ],
   "source": [
    "df['Registration Number'].tail(500)"
   ]
  },
  {
   "cell_type": "code",
   "execution_count": 362,
   "metadata": {},
   "outputs": [
    {
     "data": {
      "text/html": [
       "<div>\n",
       "<style scoped>\n",
       "    .dataframe tbody tr th:only-of-type {\n",
       "        vertical-align: middle;\n",
       "    }\n",
       "\n",
       "    .dataframe tbody tr th {\n",
       "        vertical-align: top;\n",
       "    }\n",
       "\n",
       "    .dataframe thead th {\n",
       "        text-align: right;\n",
       "    }\n",
       "</style>\n",
       "<table border=\"1\" class=\"dataframe\">\n",
       "  <thead>\n",
       "    <tr style=\"text-align: right;\">\n",
       "      <th></th>\n",
       "      <th>Registration Number</th>\n",
       "    </tr>\n",
       "  </thead>\n",
       "  <tbody>\n",
       "    <tr>\n",
       "      <th>0</th>\n",
       "      <td>20001</td>\n",
       "    </tr>\n",
       "    <tr>\n",
       "      <th>1</th>\n",
       "      <td>20002</td>\n",
       "    </tr>\n",
       "    <tr>\n",
       "      <th>2</th>\n",
       "      <td>20003</td>\n",
       "    </tr>\n",
       "    <tr>\n",
       "      <th>3</th>\n",
       "      <td>20004</td>\n",
       "    </tr>\n",
       "    <tr>\n",
       "      <th>4</th>\n",
       "      <td>20005</td>\n",
       "    </tr>\n",
       "    <tr>\n",
       "      <th>...</th>\n",
       "      <td>...</td>\n",
       "    </tr>\n",
       "    <tr>\n",
       "      <th>495</th>\n",
       "      <td>20496</td>\n",
       "    </tr>\n",
       "    <tr>\n",
       "      <th>496</th>\n",
       "      <td>20497</td>\n",
       "    </tr>\n",
       "    <tr>\n",
       "      <th>497</th>\n",
       "      <td>20498</td>\n",
       "    </tr>\n",
       "    <tr>\n",
       "      <th>498</th>\n",
       "      <td>20499</td>\n",
       "    </tr>\n",
       "    <tr>\n",
       "      <th>499</th>\n",
       "      <td>20500</td>\n",
       "    </tr>\n",
       "  </tbody>\n",
       "</table>\n",
       "<p>500 rows × 1 columns</p>\n",
       "</div>"
      ],
      "text/plain": [
       "     Registration Number\n",
       "0                  20001\n",
       "1                  20002\n",
       "2                  20003\n",
       "3                  20004\n",
       "4                  20005\n",
       "..                   ...\n",
       "495                20496\n",
       "496                20497\n",
       "497                20498\n",
       "498                20499\n",
       "499                20500\n",
       "\n",
       "[500 rows x 1 columns]"
      ]
     },
     "execution_count": 362,
     "metadata": {},
     "output_type": "execute_result"
    }
   ],
   "source": [
    "solution_df = pd.DataFrame(df['Registration Number'].tail(500))\n",
    "solution_df"
   ]
  },
  {
   "cell_type": "code",
   "execution_count": 363,
   "metadata": {},
   "outputs": [
    {
     "data": {
      "text/html": [
       "<div>\n",
       "<style scoped>\n",
       "    .dataframe tbody tr th:only-of-type {\n",
       "        vertical-align: middle;\n",
       "    }\n",
       "\n",
       "    .dataframe tbody tr th {\n",
       "        vertical-align: top;\n",
       "    }\n",
       "\n",
       "    .dataframe thead th {\n",
       "        text-align: right;\n",
       "    }\n",
       "</style>\n",
       "<table border=\"1\" class=\"dataframe\">\n",
       "  <thead>\n",
       "    <tr style=\"text-align: right;\">\n",
       "      <th></th>\n",
       "      <th>Registration Number</th>\n",
       "      <th>Annual Turnover</th>\n",
       "    </tr>\n",
       "  </thead>\n",
       "  <tbody>\n",
       "    <tr>\n",
       "      <th>0</th>\n",
       "      <td>20001</td>\n",
       "      <td>2.513736e+07</td>\n",
       "    </tr>\n",
       "    <tr>\n",
       "      <th>1</th>\n",
       "      <td>20002</td>\n",
       "      <td>3.619617e+07</td>\n",
       "    </tr>\n",
       "    <tr>\n",
       "      <th>2</th>\n",
       "      <td>20003</td>\n",
       "      <td>2.739105e+07</td>\n",
       "    </tr>\n",
       "    <tr>\n",
       "      <th>3</th>\n",
       "      <td>20004</td>\n",
       "      <td>4.062017e+07</td>\n",
       "    </tr>\n",
       "    <tr>\n",
       "      <th>4</th>\n",
       "      <td>20005</td>\n",
       "      <td>4.027829e+07</td>\n",
       "    </tr>\n",
       "    <tr>\n",
       "      <th>...</th>\n",
       "      <td>...</td>\n",
       "      <td>...</td>\n",
       "    </tr>\n",
       "    <tr>\n",
       "      <th>495</th>\n",
       "      <td>20496</td>\n",
       "      <td>3.369419e+07</td>\n",
       "    </tr>\n",
       "    <tr>\n",
       "      <th>496</th>\n",
       "      <td>20497</td>\n",
       "      <td>3.404025e+07</td>\n",
       "    </tr>\n",
       "    <tr>\n",
       "      <th>497</th>\n",
       "      <td>20498</td>\n",
       "      <td>3.658134e+07</td>\n",
       "    </tr>\n",
       "    <tr>\n",
       "      <th>498</th>\n",
       "      <td>20499</td>\n",
       "      <td>4.596038e+07</td>\n",
       "    </tr>\n",
       "    <tr>\n",
       "      <th>499</th>\n",
       "      <td>20500</td>\n",
       "      <td>3.299504e+07</td>\n",
       "    </tr>\n",
       "  </tbody>\n",
       "</table>\n",
       "<p>500 rows × 2 columns</p>\n",
       "</div>"
      ],
      "text/plain": [
       "     Registration Number  Annual Turnover\n",
       "0                  20001     2.513736e+07\n",
       "1                  20002     3.619617e+07\n",
       "2                  20003     2.739105e+07\n",
       "3                  20004     4.062017e+07\n",
       "4                  20005     4.027829e+07\n",
       "..                   ...              ...\n",
       "495                20496     3.369419e+07\n",
       "496                20497     3.404025e+07\n",
       "497                20498     3.658134e+07\n",
       "498                20499     4.596038e+07\n",
       "499                20500     3.299504e+07\n",
       "\n",
       "[500 rows x 2 columns]"
      ]
     },
     "execution_count": 363,
     "metadata": {},
     "output_type": "execute_result"
    }
   ],
   "source": [
    "solution_df['Annual Turnover'] = y_pred_test_lr\n",
    "solution_df"
   ]
  },
  {
   "cell_type": "code",
   "execution_count": 364,
   "metadata": {},
   "outputs": [],
   "source": [
    "solution_df.to_csv('Submission_final.csv',index=False)"
   ]
  },
  {
   "cell_type": "code",
   "execution_count": null,
   "metadata": {},
   "outputs": [],
   "source": []
  },
  {
   "cell_type": "code",
   "execution_count": null,
   "metadata": {},
   "outputs": [],
   "source": []
  }
 ],
 "metadata": {
  "kernelspec": {
   "display_name": "Python 3",
   "language": "python",
   "name": "python3"
  },
  "language_info": {
   "codemirror_mode": {
    "name": "ipython",
    "version": 3
   },
   "file_extension": ".py",
   "mimetype": "text/x-python",
   "name": "python",
   "nbconvert_exporter": "python",
   "pygments_lexer": "ipython3",
   "version": "3.8.5"
  }
 },
 "nbformat": 4,
 "nbformat_minor": 4
}
